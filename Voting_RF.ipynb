{
 "cells": [
  {
   "cell_type": "code",
   "execution_count": 11,
   "metadata": {},
   "outputs": [],
   "source": [
    "from sklearn.ensemble import RandomForestClassifier\n",
    "from sklearn.ensemble import VotingClassifier\n",
    "from sklearn.linear_model import LogisticRegression\n",
    "from sklearn.svm import SVC\n",
    "from sklearn.model_selection import train_test_split\n",
    "from sklearn.metrics import accuracy_score,roc_auc_score,roc_curve\n",
    "import pandas as pd\n",
    "from sklearn import metrics"
   ]
  },
  {
   "cell_type": "markdown",
   "metadata": {},
   "source": [
    "# Multiple ensembles shown to work"
   ]
  },
  {
   "cell_type": "code",
   "execution_count": 12,
   "metadata": {},
   "outputs": [],
   "source": [
    "# 导入数据\n",
    "\n",
    "df_data = pd.read_csv('ozone_eighthr.csv')\n",
    "df_data.replace(['?'],[-9999], inplace =True)\n",
    "df_data.fillna(-9999, inplace =True)\n",
    "\n",
    "df_data.pop('Date')\n",
    "label = df_data.pop('Orzone').values\n",
    "data = df_data.values\n",
    "X_train, X_test, y_train, y_test = train_test_split(data, label, test_size=0.3, random_state=22)"
   ]
  },
  {
   "cell_type": "code",
   "execution_count": 17,
   "metadata": {},
   "outputs": [
    {
     "name": "stderr",
     "output_type": "stream",
     "text": [
      "/home/ming/.local/lib/python3.6/site-packages/sklearn/linear_model/logistic.py:432: FutureWarning: Default solver will be changed to 'lbfgs' in 0.22. Specify a solver to silence this warning.\n",
      "  FutureWarning)\n",
      "/home/ming/.local/lib/python3.6/site-packages/sklearn/svm/base.py:929: ConvergenceWarning: Liblinear failed to converge, increase the number of iterations.\n",
      "  \"the number of iterations.\", ConvergenceWarning)\n",
      "/home/ming/.local/lib/python3.6/site-packages/sklearn/ensemble/forest.py:245: FutureWarning: The default value of n_estimators will change from 10 in version 0.20 to 100 in 0.22.\n",
      "  \"10 in version 0.20 to 100 in 0.22.\", FutureWarning)\n",
      "/home/ming/.local/lib/python3.6/site-packages/sklearn/svm/base.py:193: FutureWarning: The default value of gamma will change from 'auto' to 'scale' in version 0.22 to account better for unscaled features. Set gamma explicitly to 'auto' or 'scale' to avoid this warning.\n",
      "  \"avoid this warning.\", FutureWarning)\n"
     ]
    },
    {
     "name": "stdout",
     "output_type": "stream",
     "text": [
      "LogisticRegression accuracy is  0.9250985545335085\n",
      "LogisticRegression auc is  0.6568442558541568\n",
      "RandomForestClassifier accuracy is  0.938239159001314\n",
      "RandomForestClassifier auc is  0.8384802765990885\n",
      "SVC accuracy is  0.9290407358738502\n",
      "SVC auc is  0.4684242233747184\n"
     ]
    },
    {
     "name": "stderr",
     "output_type": "stream",
     "text": [
      "/home/ming/.local/lib/python3.6/site-packages/sklearn/linear_model/logistic.py:432: FutureWarning: Default solver will be changed to 'lbfgs' in 0.22. Specify a solver to silence this warning.\n",
      "  FutureWarning)\n",
      "/home/ming/.local/lib/python3.6/site-packages/sklearn/svm/base.py:929: ConvergenceWarning: Liblinear failed to converge, increase the number of iterations.\n",
      "  \"the number of iterations.\", ConvergenceWarning)\n",
      "/home/ming/.local/lib/python3.6/site-packages/sklearn/svm/base.py:193: FutureWarning: The default value of gamma will change from 'auto' to 'scale' in version 0.22 to account better for unscaled features. Set gamma explicitly to 'auto' or 'scale' to avoid this warning.\n",
      "  \"avoid this warning.\", FutureWarning)\n"
     ]
    },
    {
     "name": "stdout",
     "output_type": "stream",
     "text": [
      "VotingClassifier accuracy is  0.9290407358738502\n",
      "VotingClassifier auc is  0.8245062601498245\n"
     ]
    }
   ],
   "source": [
    "# 三个基学习器\n",
    "log_clf = LogisticRegression()\n",
    "rf_clf = RandomForestClassifier()\n",
    "svm_clf = SVC(probability=True)\n",
    "# 投票分类器\n",
    "voting_clf = VotingClassifier( estimators=[(\"lr\", log_clf), (\"rf\", rf_clf), (\"svc\", svm_clf)], voting='soft' )\n",
    "# voting_clf.fit( X_train, y_train )\n",
    "\n",
    "# 假正率、真正率\n",
    "fpr = []\n",
    "tpr = []\n",
    "\n",
    "for clf in ( log_clf, rf_clf, svm_clf, voting_clf ):\n",
    "    clf.fit( X_train, y_train )\n",
    "    y_pred = clf.predict( X_test )\n",
    "    print( clf.__class__.__name__,'accuracy is ', accuracy_score(y_test, y_pred) )\n",
    "    \n",
    "    y_score = clf.predict_proba(X_test)[:, 1]   \n",
    "    print(clf.__class__.__name__, 'auc is ', roc_auc_score(y_test,y_score))\n",
    "    \n",
    "    fpr.append(roc_curve(y_test, y_score)[0])\n",
    "    tpr.append(roc_curve(y_test, y_score)[1])"
   ]
  },
  {
   "cell_type": "code",
   "execution_count": 19,
   "metadata": {},
   "outputs": [
    {
     "data": {
      "image/png": "[encoded data removed]",
      "text/plain": [
       "<Figure size 432x288 with 1 Axes>"
      ]
     },
     "metadata": {
      "needs_background": "light"
     },
     "output_type": "display_data"
    }
   ],
   "source": [
    "import matplotlib.pyplot as plt\n",
    "plt.plot(fpr[0], tpr[0], marker = 'o') \n",
    "plt.plot(fpr[1], tpr[1], marker = '*') \n",
    "plt.plot(fpr[2], tpr[2], marker = '^') \n",
    "plt.plot(fpr[3], tpr[3], marker = '.') \n",
    "plt.show()"
   ]
  },
  {
   "cell_type": "markdown",
   "metadata": {},
   "source": [
    "# Interaction between hyperparameters and ensemble composition"
   ]
  },
  {
   "cell_type": "code",
   "execution_count": null,
   "metadata": {},
   "outputs": [],
   "source": []
  }
 ],
 "metadata": {
  "kernelspec": {
   "display_name": "Python 3",
   "language": "python",
   "name": "python3"
  },
  "language_info": {
   "codemirror_mode": {
    "name": "ipython",
    "version": 3
   },
   "file_extension": ".py",
   "mimetype": "text/x-python",
   "name": "python",
   "nbconvert_exporter": "python",
   "pygments_lexer": "ipython3",
   "version": "3.6.9"
  }
 },
 "nbformat": 4,
 "nbformat_minor": 2
}
