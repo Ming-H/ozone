{
 "cells": [
  {
   "cell_type": "markdown",
   "metadata": {},
   "source": [
    "1、Multiple ensembles shown to work. Analysis of why one ensemble performs better or worse than others. \n",
    "2、Analysis of interaction between hyperparameters and ensemble composition. \n",
    "3、Analysis of interaction between training/validation/testing and ensembles and hyperparameters. \n",
    "4、ROC created and all models/ensembles plotted on the same graph. ROC index calculated."
   ]
  },
  {
   "cell_type": "code",
   "execution_count": 2,
   "metadata": {},
   "outputs": [
    {
     "ename": "OSError",
     "evalue": "dlopen(/usr/local/lib/python3.7/site-packages/lightgbm/lib_lightgbm.so, 6): Library not loaded: /usr/local/opt/libomp/lib/libomp.dylib\n  Referenced from: /usr/local/lib/python3.7/site-packages/lightgbm/lib_lightgbm.so\n  Reason: image not found",
     "output_type": "error",
     "traceback": [
      "\u001b[0;31m---------------------------------------------------------------------------\u001b[0m",
      "\u001b[0;31mOSError\u001b[0m                                   Traceback (most recent call last)",
      "\u001b[0;32m<ipython-input-2-1a5da234d1ee>\u001b[0m in \u001b[0;36m<module>\u001b[0;34m\u001b[0m\n\u001b[1;32m      2\u001b[0m \u001b[0;32mimport\u001b[0m \u001b[0mnumpy\u001b[0m \u001b[0;32mas\u001b[0m \u001b[0mnp\u001b[0m\u001b[0;34m\u001b[0m\u001b[0;34m\u001b[0m\u001b[0m\n\u001b[1;32m      3\u001b[0m \u001b[0;32mfrom\u001b[0m \u001b[0msklearn\u001b[0m\u001b[0;34m.\u001b[0m\u001b[0mmodel_selection\u001b[0m \u001b[0;32mimport\u001b[0m \u001b[0mtrain_test_split\u001b[0m\u001b[0;34m\u001b[0m\u001b[0;34m\u001b[0m\u001b[0m\n\u001b[0;32m----> 4\u001b[0;31m \u001b[0;32mfrom\u001b[0m \u001b[0mlightgbm\u001b[0m \u001b[0;32mimport\u001b[0m \u001b[0mLGBMClassifier\u001b[0m\u001b[0;34m\u001b[0m\u001b[0;34m\u001b[0m\u001b[0m\n\u001b[0m\u001b[1;32m      5\u001b[0m \u001b[0;32mfrom\u001b[0m \u001b[0msklearn\u001b[0m\u001b[0;34m.\u001b[0m\u001b[0mensemble\u001b[0m \u001b[0;32mimport\u001b[0m \u001b[0mRandomForestClassifier\u001b[0m\u001b[0;34m\u001b[0m\u001b[0;34m\u001b[0m\u001b[0m\n\u001b[1;32m      6\u001b[0m \u001b[0;32mfrom\u001b[0m \u001b[0msklearn\u001b[0m \u001b[0;32mimport\u001b[0m \u001b[0mmetrics\u001b[0m\u001b[0;34m\u001b[0m\u001b[0;34m\u001b[0m\u001b[0m\n",
      "\u001b[0;32m/usr/local/lib/python3.7/site-packages/lightgbm/__init__.py\u001b[0m in \u001b[0;36m<module>\u001b[0;34m\u001b[0m\n\u001b[1;32m      6\u001b[0m \u001b[0;32mfrom\u001b[0m \u001b[0m__future__\u001b[0m \u001b[0;32mimport\u001b[0m \u001b[0mabsolute_import\u001b[0m\u001b[0;34m\u001b[0m\u001b[0;34m\u001b[0m\u001b[0m\n\u001b[1;32m      7\u001b[0m \u001b[0;34m\u001b[0m\u001b[0m\n\u001b[0;32m----> 8\u001b[0;31m \u001b[0;32mfrom\u001b[0m \u001b[0;34m.\u001b[0m\u001b[0mbasic\u001b[0m \u001b[0;32mimport\u001b[0m \u001b[0mBooster\u001b[0m\u001b[0;34m,\u001b[0m \u001b[0mDataset\u001b[0m\u001b[0;34m\u001b[0m\u001b[0;34m\u001b[0m\u001b[0m\n\u001b[0m\u001b[1;32m      9\u001b[0m from .callback import (early_stopping, print_evaluation, record_evaluation,\n\u001b[1;32m     10\u001b[0m                        reset_parameter)\n",
      "\u001b[0;32m/usr/local/lib/python3.7/site-packages/lightgbm/basic.py\u001b[0m in \u001b[0;36m<module>\u001b[0;34m\u001b[0m\n\u001b[1;32m     33\u001b[0m \u001b[0;34m\u001b[0m\u001b[0m\n\u001b[1;32m     34\u001b[0m \u001b[0;34m\u001b[0m\u001b[0m\n\u001b[0;32m---> 35\u001b[0;31m \u001b[0m_LIB\u001b[0m \u001b[0;34m=\u001b[0m \u001b[0m_load_lib\u001b[0m\u001b[0;34m(\u001b[0m\u001b[0;34m)\u001b[0m\u001b[0;34m\u001b[0m\u001b[0;34m\u001b[0m\u001b[0m\n\u001b[0m\u001b[1;32m     36\u001b[0m \u001b[0;34m\u001b[0m\u001b[0m\n\u001b[1;32m     37\u001b[0m \u001b[0;34m\u001b[0m\u001b[0m\n",
      "\u001b[0;32m/usr/local/lib/python3.7/site-packages/lightgbm/basic.py\u001b[0m in \u001b[0;36m_load_lib\u001b[0;34m()\u001b[0m\n\u001b[1;32m     28\u001b[0m     \u001b[0;32mif\u001b[0m \u001b[0mlen\u001b[0m\u001b[0;34m(\u001b[0m\u001b[0mlib_path\u001b[0m\u001b[0;34m)\u001b[0m \u001b[0;34m==\u001b[0m \u001b[0;36m0\u001b[0m\u001b[0;34m:\u001b[0m\u001b[0;34m\u001b[0m\u001b[0;34m\u001b[0m\u001b[0m\n\u001b[1;32m     29\u001b[0m         \u001b[0;32mreturn\u001b[0m \u001b[0;32mNone\u001b[0m\u001b[0;34m\u001b[0m\u001b[0;34m\u001b[0m\u001b[0m\n\u001b[0;32m---> 30\u001b[0;31m     \u001b[0mlib\u001b[0m \u001b[0;34m=\u001b[0m \u001b[0mctypes\u001b[0m\u001b[0;34m.\u001b[0m\u001b[0mcdll\u001b[0m\u001b[0;34m.\u001b[0m\u001b[0mLoadLibrary\u001b[0m\u001b[0;34m(\u001b[0m\u001b[0mlib_path\u001b[0m\u001b[0;34m[\u001b[0m\u001b[0;36m0\u001b[0m\u001b[0;34m]\u001b[0m\u001b[0;34m)\u001b[0m\u001b[0;34m\u001b[0m\u001b[0;34m\u001b[0m\u001b[0m\n\u001b[0m\u001b[1;32m     31\u001b[0m     \u001b[0mlib\u001b[0m\u001b[0;34m.\u001b[0m\u001b[0mLGBM_GetLastError\u001b[0m\u001b[0;34m.\u001b[0m\u001b[0mrestype\u001b[0m \u001b[0;34m=\u001b[0m \u001b[0mctypes\u001b[0m\u001b[0;34m.\u001b[0m\u001b[0mc_char_p\u001b[0m\u001b[0;34m\u001b[0m\u001b[0;34m\u001b[0m\u001b[0m\n\u001b[1;32m     32\u001b[0m     \u001b[0;32mreturn\u001b[0m \u001b[0mlib\u001b[0m\u001b[0;34m\u001b[0m\u001b[0;34m\u001b[0m\u001b[0m\n",
      "\u001b[0;32m/usr/local/Cellar/python/3.7.3/Frameworks/Python.framework/Versions/3.7/lib/python3.7/ctypes/__init__.py\u001b[0m in \u001b[0;36mLoadLibrary\u001b[0;34m(self, name)\u001b[0m\n\u001b[1;32m    432\u001b[0m \u001b[0;34m\u001b[0m\u001b[0m\n\u001b[1;32m    433\u001b[0m     \u001b[0;32mdef\u001b[0m \u001b[0mLoadLibrary\u001b[0m\u001b[0;34m(\u001b[0m\u001b[0mself\u001b[0m\u001b[0;34m,\u001b[0m \u001b[0mname\u001b[0m\u001b[0;34m)\u001b[0m\u001b[0;34m:\u001b[0m\u001b[0;34m\u001b[0m\u001b[0;34m\u001b[0m\u001b[0m\n\u001b[0;32m--> 434\u001b[0;31m         \u001b[0;32mreturn\u001b[0m \u001b[0mself\u001b[0m\u001b[0;34m.\u001b[0m\u001b[0m_dlltype\u001b[0m\u001b[0;34m(\u001b[0m\u001b[0mname\u001b[0m\u001b[0;34m)\u001b[0m\u001b[0;34m\u001b[0m\u001b[0;34m\u001b[0m\u001b[0m\n\u001b[0m\u001b[1;32m    435\u001b[0m \u001b[0;34m\u001b[0m\u001b[0m\n\u001b[1;32m    436\u001b[0m \u001b[0mcdll\u001b[0m \u001b[0;34m=\u001b[0m \u001b[0mLibraryLoader\u001b[0m\u001b[0;34m(\u001b[0m\u001b[0mCDLL\u001b[0m\u001b[0;34m)\u001b[0m\u001b[0;34m\u001b[0m\u001b[0;34m\u001b[0m\u001b[0m\n",
      "\u001b[0;32m/usr/local/Cellar/python/3.7.3/Frameworks/Python.framework/Versions/3.7/lib/python3.7/ctypes/__init__.py\u001b[0m in \u001b[0;36m__init__\u001b[0;34m(self, name, mode, handle, use_errno, use_last_error)\u001b[0m\n\u001b[1;32m    354\u001b[0m \u001b[0;34m\u001b[0m\u001b[0m\n\u001b[1;32m    355\u001b[0m         \u001b[0;32mif\u001b[0m \u001b[0mhandle\u001b[0m \u001b[0;32mis\u001b[0m \u001b[0;32mNone\u001b[0m\u001b[0;34m:\u001b[0m\u001b[0;34m\u001b[0m\u001b[0;34m\u001b[0m\u001b[0m\n\u001b[0;32m--> 356\u001b[0;31m             \u001b[0mself\u001b[0m\u001b[0;34m.\u001b[0m\u001b[0m_handle\u001b[0m \u001b[0;34m=\u001b[0m \u001b[0m_dlopen\u001b[0m\u001b[0;34m(\u001b[0m\u001b[0mself\u001b[0m\u001b[0;34m.\u001b[0m\u001b[0m_name\u001b[0m\u001b[0;34m,\u001b[0m \u001b[0mmode\u001b[0m\u001b[0;34m)\u001b[0m\u001b[0;34m\u001b[0m\u001b[0;34m\u001b[0m\u001b[0m\n\u001b[0m\u001b[1;32m    357\u001b[0m         \u001b[0;32melse\u001b[0m\u001b[0;34m:\u001b[0m\u001b[0;34m\u001b[0m\u001b[0;34m\u001b[0m\u001b[0m\n\u001b[1;32m    358\u001b[0m             \u001b[0mself\u001b[0m\u001b[0;34m.\u001b[0m\u001b[0m_handle\u001b[0m \u001b[0;34m=\u001b[0m \u001b[0mhandle\u001b[0m\u001b[0;34m\u001b[0m\u001b[0;34m\u001b[0m\u001b[0m\n",
      "\u001b[0;31mOSError\u001b[0m: dlopen(/usr/local/lib/python3.7/site-packages/lightgbm/lib_lightgbm.so, 6): Library not loaded: /usr/local/opt/libomp/lib/libomp.dylib\n  Referenced from: /usr/local/lib/python3.7/site-packages/lightgbm/lib_lightgbm.so\n  Reason: image not found"
     ]
    }
   ],
   "source": [
    "import pandas as pd\n",
    "import numpy as np\n",
    "from sklearn.model_selection import train_test_split\n",
    "from lightgbm import LGBMClassifier\n",
    "from sklearn.ensemble import RandomForestClassifier\n",
    "from sklearn import metrics\n",
    "import matplotlib.pyplot as plt"
   ]
  },
  {
   "cell_type": "code",
   "execution_count": 2,
   "metadata": {},
   "outputs": [],
   "source": [
    "# load datasets\n",
    "def load_data(file):\n",
    "    df_data = pd.read_csv(file)\n",
    "    df_data.replace(['?'],[0], inplace =True)\n",
    "    df_data.fillna(0, inplace =True)\n",
    "    return df_data\n",
    "\n",
    "df_data1 = load_data('ozone_onehr.csv')\n",
    "df_data2 = load_data('ozone_eighthr.csv')"
   ]
  },
  {
   "cell_type": "code",
   "execution_count": 3,
   "metadata": {},
   "outputs": [],
   "source": [
    "# training testing split, positive data is little, so just split dataset into two part.\n",
    "def data_split(df_data, alpha):\n",
    "    X_train, X_test, y_train, y_test = train_test_split(\\\n",
    "                            df_data.iloc[:, 1:-1].values, \n",
    "                            df_data.iloc[:, -1].values, \n",
    "                            test_size=alpha, \n",
    "                            random_state=42)\n",
    "    return X_train, X_test, y_train, y_test"
   ]
  },
  {
   "cell_type": "code",
   "execution_count": 4,
   "metadata": {},
   "outputs": [],
   "source": [
    "X_train, X_test, y_train, y_test = data_split(df_data1, 0.4)"
   ]
  },
  {
   "cell_type": "code",
   "execution_count": 5,
   "metadata": {},
   "outputs": [],
   "source": [
    "# define model\n",
    "clf1 = LGBMClassifier(boosting_type='gbdt', \n",
    "                      objective='binary',\n",
    "                      subsample=0.8, \n",
    "                      colsample_bytree=0.8, \n",
    "                      subsample_freq=1,\n",
    "                      learning_rate=0.06, \n",
    "                      min_child_weight=1, \n",
    "                      random_state=20, \n",
    "                      n_jobs=4\n",
    "                     )\n",
    "\n",
    "clf2 = RandomForestClassifier(n_estimators=100,\n",
    "                              criterion='gini',\n",
    "                              max_depth=None, \n",
    "                              max_features='auto', \n",
    "                              min_samples_leaf=1, \n",
    "                              min_samples_split=2,\n",
    "                              min_weight_fraction_leaf=0.0, \n",
    "                              n_jobs=4)"
   ]
  },
  {
   "cell_type": "markdown",
   "metadata": {},
   "source": [
    "# 1) Multiple ensembles shown to work. Analysis of why one ensemble performs better or worse than others"
   ]
  },
  {
   "cell_type": "code",
   "execution_count": 20,
   "metadata": {},
   "outputs": [
    {
     "name": "stdout",
     "output_type": "stream",
     "text": [
      "First 5 ROC_index of XGB is: [(0.0, 0.0), (0.0, 0.04), (0.00202020202020202, 0.04), (0.00202020202020202, 0.08), (0.005050505050505051, 0.08)]\n",
      "First 5 ROC_index of RF is: [(0.0, 0.0), (0.0, 0.04), (0.00202020202020202, 0.04), (0.00202020202020202, 0.08), (0.005050505050505051, 0.08)]\n"
     ]
    }
   ],
   "source": [
    "# train model\n",
    "clf1.fit(X_train, y_train)\n",
    "clf2.fit(X_train, y_train)\n",
    "\n",
    "# predict\n",
    "y_pre1 = clf1.predict_proba(X_test)[:, 1]\n",
    "y_pre2 = clf2.predict_proba(X_test)[:, 1]\n",
    "\n",
    "# calculate ROC index \n",
    "fpr1, tpr1, thresholds1 = metrics.roc_curve(y_test, y_pre1)\n",
    "fpr2, tpr2, thresholds2 = metrics.roc_curve(y_test, y_pre2)\n",
    "\n",
    "ROC_index_XGB = [(i,j) for i,j in zip(fpr1, tpr1)]\n",
    "print(\"First 5 ROC_index of XGB is:\", ROC_index_XGB[:5]) # print first 5 ROC index \n",
    "\n",
    "ROC_index_RF = [(i,j) for i,j in zip(fpr2, tpr2)]\n",
    "print(\"First 5 ROC_index of RF is:\", ROC_index_RF[:5]) # print first 5 ROC index "
   ]
  },
  {
   "cell_type": "code",
   "execution_count": 7,
   "metadata": {},
   "outputs": [
    {
     "name": "stdout",
     "output_type": "stream",
     "text": [
      "AUC of XGB is: 0.9171717171717171\n",
      "AUC of RF is: 0.8815151515151515\n"
     ]
    },
    {
     "data": {
      "image/png": "[encoded data removed]",
      "text/plain": [
       "<Figure size 432x288 with 1 Axes>"
      ]
     },
     "metadata": {
      "needs_background": "light"
     },
     "output_type": "display_data"
    }
   ],
   "source": [
    "# calculate AUC\n",
    "auc_score1 = metrics.roc_auc_score(y_test,y_pre1)\n",
    "print('AUC of XGB is:', auc_score1)\n",
    "auc_score2 = metrics.roc_auc_score(y_test,y_pre2)\n",
    "print('AUC of RF is:',auc_score2)\n",
    "\n",
    "# plot ROC of the models\n",
    "plt.plot(fpr1, tpr1, marker = 'o', label=\"xgb\")\n",
    "\n",
    "plt.plot(fpr2, tpr2, marker = '*', label=\"RF\")\n",
    "\n",
    "plt.show()"
   ]
  },
  {
   "cell_type": "markdown",
   "metadata": {},
   "source": [
    "XGBoost is one of boosting method, RF is one of bagging method, random forests and boosted trees are really the same models; the difference arises from how we train them. XGBoost simply take the gradient, and another important thing is XGBoost has regularization term. So XGBoost perform better than RF."
   ]
  },
  {
   "cell_type": "markdown",
   "metadata": {},
   "source": [
    "# 2) Analysis of interaction between hyperparameters and ensemble composition"
   ]
  },
  {
   "cell_type": "code",
   "execution_count": 1,
   "metadata": {},
   "outputs": [
    {
     "ename": "NameError",
     "evalue": "name 'LGBMClassifier' is not defined",
     "output_type": "error",
     "traceback": [
      "\u001b[0;31m---------------------------------------------------------------------------\u001b[0m",
      "\u001b[0;31mNameError\u001b[0m                                 Traceback (most recent call last)",
      "\u001b[0;32m<ipython-input-1-da81d43f0c4c>\u001b[0m in \u001b[0;36m<module>\u001b[0;34m\u001b[0m\n\u001b[0;32m----> 1\u001b[0;31m lgb1 = LGBMClassifier(boosting_type='gbdt', \n\u001b[0m\u001b[1;32m      2\u001b[0m                       \u001b[0mmax_depth\u001b[0m\u001b[0;34m=\u001b[0m\u001b[0;36m15\u001b[0m\u001b[0;34m,\u001b[0m\u001b[0;34m\u001b[0m\u001b[0;34m\u001b[0m\u001b[0m\n\u001b[1;32m      3\u001b[0m                       \u001b[0mobjective\u001b[0m\u001b[0;34m=\u001b[0m\u001b[0;34m'binary'\u001b[0m\u001b[0;34m\u001b[0m\u001b[0;34m\u001b[0m\u001b[0m\n\u001b[1;32m      4\u001b[0m                      )\n\u001b[1;32m      5\u001b[0m \u001b[0;34m\u001b[0m\u001b[0m\n",
      "\u001b[0;31mNameError\u001b[0m: name 'LGBMClassifier' is not defined"
     ]
    }
   ],
   "source": [
    "lgb1 = LGBMClassifier(boosting_type='gbdt', \n",
    "                      max_depth=15, \n",
    "                      objective='binary'\n",
    "                     )\n",
    "\n",
    "lgb2 = LGBMClassifier(boosting_type='gbdt', \n",
    "                      max_depth=10, \n",
    "                      objective='binary'\n",
    "                     )\n",
    "\n",
    "\n",
    "lgb3 = LGBMClassifier(boosting_type='gbdt', \n",
    "                      max_depth=5, \n",
    "                      objective='binary'\n",
    "                     )\n"
   ]
  },
  {
   "cell_type": "code",
   "execution_count": 21,
   "metadata": {},
   "outputs": [
    {
     "name": "stdout",
     "output_type": "stream",
     "text": [
      "First 5 ROC_index of XGB1 is: [(0.0, 0.0), (0.0, 0.04), (0.00202020202020202, 0.04), (0.00202020202020202, 0.08), (0.005050505050505051, 0.08)]\n",
      "First 5 ROC_index of XGB2 is: [(0.0, 0.0), (0.0, 0.04), (0.0, 0.08), (0.0030303030303030303, 0.08), (0.0030303030303030303, 0.12)]\n",
      "First 5 ROC_index of XGB3 is:\n",
      " [(0.0, 0.0), (0.0, 0.04), (0.007070707070707071, 0.04), (0.007070707070707071, 0.08), (0.00808080808080808, 0.08)]\n"
     ]
    }
   ],
   "source": [
    "# train model\n",
    "lgb1.fit(X_train, y_train)\n",
    "lgb2.fit(X_train, y_train)\n",
    "lgb3.fit(X_train, y_train)\n",
    "\n",
    "\n",
    "# predict\n",
    "y_pre1 = lgb1.predict_proba(X_test)[:, 1]\n",
    "y_pre2 = lgb2.predict_proba(X_test)[:, 1]\n",
    "y_pre3 = lgb3.predict_proba(X_test)[:, 1]\n",
    "\n",
    "# calculate ROC index \n",
    "fpr1, tpr1, thresholds1 = metrics.roc_curve(y_test, y_pre1)\n",
    "fpr2, tpr2, thresholds2 = metrics.roc_curve(y_test, y_pre2)\n",
    "fpr3, tpr3, thresholds3 = metrics.roc_curve(y_test, y_pre3)\n",
    "\n",
    "ROC_index_LGB1 = [(i,j) for i,j in zip(fpr1, tpr1)]\n",
    "print(\"First 5 ROC_index of XGB1 is:\", ROC_index_XGB1[:5]) # print first 5 ROC index\n",
    "\n",
    "ROC_index_LGB2 = [(i,j) for i,j in zip(fpr2, tpr2)]\n",
    "print(\"First 5 ROC_index of XGB2 is:\", ROC_index_XGB2[:5]) # print first 5 ROC index\n",
    "\n",
    "ROC_index_LGB3 = [(i,j) for i,j in zip(fpr3, tpr3)]\n",
    "print(\"First 5 ROC_index of XGB3 is:\\n\", ROC_index_XGB3[:5]) # print first 5 ROC index"
   ]
  },
  {
   "cell_type": "code",
   "execution_count": 10,
   "metadata": {},
   "outputs": [
    {
     "name": "stdout",
     "output_type": "stream",
     "text": [
      "AUC of XGB1 is: 0.9171717171717171\n",
      "AUC of XGB2 is: 0.9052929292929293\n",
      "AUC of XGB3 is: 0.8486464646464646\n"
     ]
    },
    {
     "data": {
      "image/png": "[encoded data removed]",
      "text/plain": [
       "<Figure size 432x288 with 1 Axes>"
      ]
     },
     "metadata": {
      "needs_background": "light"
     },
     "output_type": "display_data"
    }
   ],
   "source": [
    "# calculate AUC\n",
    "auc_score1 = metrics.roc_auc_score(y_test,y_pre1)\n",
    "print('AUC of XGB1 is:', auc_score1)\n",
    "auc_score2 = metrics.roc_auc_score(y_test,y_pre2)\n",
    "print('AUC of XGB2 is:',auc_score2)\n",
    "auc_score3 = metrics.roc_auc_score(y_test,y_pre3)\n",
    "print('AUC of XGB3 is:',auc_score3)\n",
    "\n",
    "# plot ROC of the models\n",
    "plt.plot(fpr1, tpr1, marker = 'o')\n",
    "plt.plot(fpr2, tpr2, marker = '*')\n",
    "plt.plot(fpr3, tpr3, marker = '^')\n",
    "\n",
    "plt.show()"
   ]
  },
  {
   "cell_type": "markdown",
   "metadata": {},
   "source": [
    "'max_depth' in xgb1 is 3 and in xgb2 is 5, other hyperparameters are same, but xgb1's AUC is larger than xgb2's. 'learning_rate' in xgb1 is 0.1 and in xgb3 is 0.01, other hyperparameters are same, but xgb1's AUC is larger than xgb2's."
   ]
  },
  {
   "cell_type": "markdown",
   "metadata": {},
   "source": [
    "# 3) Analysis of interaction between training/validation/testing and ensembles and hyperparameters."
   ]
  },
  {
   "cell_type": "code",
   "execution_count": 31,
   "metadata": {},
   "outputs": [
    {
     "name": "stdout",
     "output_type": "stream",
     "text": [
      "First 5 ROC_index of XGB1 is: [(0.0, 0.0), (0.002004008016032064, 0.0), (0.006012024048096192, 0.0), (0.006012024048096192, 0.1111111111111111), (0.014028056112224449, 0.1111111111111111)]\n",
      "First 5 ROC_index of XGB2 is: [(0.0, 0.0), (0.0, 0.05), (0.004048582995951417, 0.05), (0.004048582995951417, 0.15), (0.005398110661268556, 0.15)]\n",
      "First 5 ROC_index of XGB3 is: [(0.0, 0.0), (0.000580046403712297, 0.0), (0.0034802784222737818, 0.0), (0.0034802784222737818, 0.038461538461538464), (0.0063805104408352666, 0.038461538461538464)]\n"
     ]
    }
   ],
   "source": [
    "X_train1, X_test1, y_train1, y_test1 = data_split(df_data1, 0.2)\n",
    "clf1 = LGBMClassifier(boosting_type='gbdt', objective='binary').fit(X_train1, y_train1)\n",
    "\n",
    "X_train2, X_test2, y_train2, y_test2 = data_split(df_data1, 0.3)\n",
    "clf2 = LGBMClassifier(boosting_type='gbdt', objective='binary').fit(X_train2, y_train2)\n",
    "\n",
    "X_train3, X_test3, y_train3, y_test3 = data_split(df_data1, 0.7)\n",
    "clf3 = LGBMClassifier(boosting_type='gbdt', objective='binary').fit(X_train3, y_train3)\n",
    "\n",
    "# predict\n",
    "y_pre1 = clf1.predict_proba(X_test1)[:, 1]\n",
    "y_pre2 = clf2.predict_proba(X_test2)[:, 1]\n",
    "y_pre3 = clf3.predict_proba(X_test3)[:, 1]\n",
    "\n",
    "# calculate ROC index \n",
    "fpr1, tpr1, thresholds1 = metrics.roc_curve(y_test1, y_pre1)\n",
    "fpr2, tpr2, thresholds2 = metrics.roc_curve(y_test2, y_pre2)\n",
    "fpr3, tpr3, thresholds3 = metrics.roc_curve(y_test3, y_pre3)\n",
    "\n",
    "ROC_index_LGB1 = [(i,j) for i,j in zip(fpr1, tpr1)]\n",
    "print(\"First 5 ROC_index of XGB1 is:\", ROC_index_XGB1[:5]) # print first 5 ROC index\n",
    "\n",
    "ROC_index_LGB2 = [(i,j) for i,j in zip(fpr2, tpr2)]\n",
    "print(\"First 5 ROC_index of XGB2 is:\", ROC_index_XGB2[:5]) # print first 5 ROC index\n",
    "\n",
    "ROC_index_LGB3 = [(i,j) for i,j in zip(fpr3, tpr3)]\n",
    "print(\"First 5 ROC_index of XGB3 is:\", ROC_index_XGB3[:5]) # print first 5 ROC index"
   ]
  },
  {
   "cell_type": "code",
   "execution_count": 32,
   "metadata": {},
   "outputs": [
    {
     "name": "stdout",
     "output_type": "stream",
     "text": [
      "AUC of XGB1 is: 0.8908928969049209\n",
      "AUC of XGB2 is: 0.9114709851551956\n",
      "AUC of XGB3 is: 0.8754629216491165\n"
     ]
    },
    {
     "data": {
      "image/png": "[encoded data removed]",
      "text/plain": [
       "<Figure size 432x288 with 1 Axes>"
      ]
     },
     "metadata": {
      "needs_background": "light"
     },
     "output_type": "display_data"
    }
   ],
   "source": [
    "# calculate AUC\n",
    "auc_score1 = metrics.roc_auc_score(y_test1, y_pre1)\n",
    "print('AUC of LGB1 is:', auc_score1)\n",
    "auc_score2 = metrics.roc_auc_score(y_test2, y_pre2)\n",
    "print('AUC of LGB2 is:',auc_score2)\n",
    "auc_score3 = metrics.roc_auc_score(y_test3, y_pre3)\n",
    "print('AUC of LGB3 is:',auc_score3)\n",
    "\n",
    "# plot ROC of the models\n",
    "plt.plot(fpr1, tpr1, marker = 'o')\n",
    "plt.plot(fpr2, tpr2, marker = '*')\n",
    "plt.plot(fpr3, tpr3, marker = '^')\n",
    "\n",
    "plt.show()"
   ]
  },
  {
   "cell_type": "markdown",
   "metadata": {},
   "source": [
    "'test_size' of three dataset is 0.2, 0.3, 0.4, when I increase 'test_size', the AUC of the model is alse increase; but when 'test_size' increase too large, AUC begin decrease. When 'test_size' is small, more data will be use for training, when is large, less data will be use for training, it has better choosing appropriate 'test_size'."
   ]
  },
  {
   "cell_type": "code",
   "execution_count": null,
   "metadata": {},
   "outputs": [],
   "source": []
  }
 ],
 "metadata": {
  "kernelspec": {
   "display_name": "Python 3",
   "language": "python",
   "name": "python3"
  },
  "language_info": {
   "codemirror_mode": {
    "name": "ipython",
    "version": 3
   },
   "file_extension": ".py",
   "mimetype": "text/x-python",
   "name": "python",
   "nbconvert_exporter": "python",
   "pygments_lexer": "ipython3",
   "version": "3.7.3"
  }
 },
 "nbformat": 4,
 "nbformat_minor": 2
}
