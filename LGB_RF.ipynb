{
 "cells": [
  {
   "cell_type": "code",
   "execution_count": 1,
   "metadata": {},
   "outputs": [],
   "source": [
    "import pandas as pd\n",
    "import numpy as np\n",
    "from sklearn.model_selection import train_test_split\n",
    "from lightgbm import LGBMClassifier\n",
    "from sklearn.ensemble import RandomForestClassifier\n",
    "from sklearn.tree import DecisionTreeClassifier\n",
    "from sklearn.linear_model import LogisticRegression\n",
    "from sklearn.svm import SVC\n",
    "from sklearn import metrics\n",
    "import matplotlib.pyplot as plt"
   ]
  },
  {
   "cell_type": "code",
   "execution_count": 2,
   "metadata": {},
   "outputs": [
    {
     "data": {
      "text/plain": [
       "Index(['Date', 'WSR0', 'WSR1', 'WSR2', 'WSR3', 'WSR4', 'WSR5', 'WSR6', 'WSR7',\n",
       "       'WSR8', 'WSR9', 'WSR10', 'WSR11', 'WSR12', 'WSR13', 'WSR14', 'WSR15',\n",
       "       'WSR16', 'WSR17', 'WSR18', 'WSR19', 'WSR20', 'WSR21', 'WSR22', 'WSR23',\n",
       "       'WSR_PK', 'WSR_AV', 'T0', 'T1', 'T2', 'T3', 'T4', 'T5', 'T6', 'T7',\n",
       "       'T8', 'T9', 'T10', 'T11', 'T12', 'T13', 'T14', 'T15', 'T16', 'T17',\n",
       "       'T18', 'T19', 'T20', 'T21', 'T22', 'T23', 'T_PK', 'T_AV', 'T85', 'RH85',\n",
       "       'U85', 'V85', 'HT85', 'T70', 'RH70', 'U70', 'V70', 'HT70', 'T50',\n",
       "       'RH50', 'U50', 'V50', 'HT50', 'KI', 'TT', 'SLP', 'SLP_', 'Precp',\n",
       "       'Orzone'],\n",
       "      dtype='object')"
      ]
     },
     "execution_count": 2,
     "metadata": {},
     "output_type": "execute_result"
    }
   ],
   "source": [
    "df_data = pd.read_csv('ozone_eighthr.csv') # 读取数据\n",
    "df_data.replace(['?'],[-999], inplace =True) # 用-999替换？\n",
    "df_data.fillna(-999, inplace =True) #用-999填充空的地方\n",
    "df_data.columns # 特征名称如下"
   ]
  },
  {
   "cell_type": "code",
   "execution_count": 3,
   "metadata": {},
   "outputs": [],
   "source": [
    "label = df_data.pop('Orzone').values # label\n",
    "df_data.pop('Date')\n",
    "data = df_data.values # features\n",
    "X_train, X_test, y_train, y_test = train_test_split(data, label, test_size=0.3, random_state=999) #训练集、验证机切分"
   ]
  },
  {
   "cell_type": "markdown",
   "metadata": {},
   "source": [
    "# different models"
   ]
  },
  {
   "cell_type": "code",
   "execution_count": 4,
   "metadata": {},
   "outputs": [
    {
     "name": "stdout",
     "output_type": "stream",
     "text": [
      "AUC of lgb is: 0.9427506775067751\n",
      "AUC of RF is: 0.8548780487804879\n",
      "AUC of tree is: 0.6792344173441734\n"
     ]
    },
    {
     "name": "stderr",
     "output_type": "stream",
     "text": [
      "/home/ming/.local/lib/python3.6/site-packages/sklearn/ensemble/forest.py:245: FutureWarning: The default value of n_estimators will change from 10 in version 0.20 to 100 in 0.22.\n",
      "  \"10 in version 0.20 to 100 in 0.22.\", FutureWarning)\n",
      "/home/ming/.local/lib/python3.6/site-packages/sklearn/linear_model/logistic.py:432: FutureWarning: Default solver will be changed to 'lbfgs' in 0.22. Specify a solver to silence this warning.\n",
      "  FutureWarning)\n",
      "/home/ming/.local/lib/python3.6/site-packages/sklearn/svm/base.py:929: ConvergenceWarning: Liblinear failed to converge, increase the number of iterations.\n",
      "  \"the number of iterations.\", ConvergenceWarning)\n",
      "/home/ming/.local/lib/python3.6/site-packages/sklearn/svm/base.py:193: FutureWarning: The default value of gamma will change from 'auto' to 'scale' in version 0.22 to account better for unscaled features. Set gamma explicitly to 'auto' or 'scale' to avoid this warning.\n",
      "  \"avoid this warning.\", FutureWarning)\n"
     ]
    },
    {
     "name": "stdout",
     "output_type": "stream",
     "text": [
      "AUC of LR is: 0.8161754742547426\n",
      "AUC of SVM is: 0.553760162601626\n"
     ]
    },
    {
     "data": {
      "image/png": "[encoded data removed]",
      "text/plain": [
       "<Figure size 432x288 with 1 Axes>"
      ]
     },
     "metadata": {
      "needs_background": "light"
     },
     "output_type": "display_data"
    }
   ],
   "source": [
    "def train(model, model_name):\n",
    "    model.fit(X_train, y_train) # 训练\n",
    "    y_score = model.predict_proba(X_test)[:, 1] #预测\n",
    "    fpr, tpr, thresholds = metrics.roc_curve(y_test, y_score) #计算AUC index\n",
    "    AUC = metrics.roc_auc_score(y_test,y_score) #计算AUC\n",
    "    print('AUC of %s is: %s' %(model_name,AUC)) # 打印\n",
    "    return fpr, tpr\n",
    "  \n",
    "# 定义模型\n",
    "model1 = LGBMClassifier(boosting_type='gbdt', objective='binary')\n",
    "model2 = RandomForestClassifier()\n",
    "model3 = DecisionTreeClassifier()\n",
    "model4 = LogisticRegression()  \n",
    "model5 = SVC(probability=True)\n",
    "\n",
    "# 下面依次调用上面的函数\n",
    "fpr1, tpr1 = train(model1, 'lgb')\n",
    "fpr2, tpr2 = train(model2, 'RF')\n",
    "fpr3, tpr3 = train(model3, 'tree')\n",
    "fpr4, tpr4 = train(model4, 'LR')\n",
    "fpr5, tpr5 = train(model5, 'SVM')\n",
    "\n",
    "# 画图\n",
    "plt.plot(fpr1, tpr1, marker = 'o')\n",
    "plt.plot(fpr2, tpr2, marker = '*')\n",
    "plt.plot(fpr3, tpr3, marker = '^')\n",
    "plt.plot(fpr4, tpr4, marker = 'o')\n",
    "plt.plot(fpr5, tpr5, marker = '*')\n",
    "plt.show()"
   ]
  },
  {
   "cell_type": "markdown",
   "metadata": {},
   "source": [
    "LGB performs better than other methods, it is a boosting methods, and iterate over multiple weak models, on the other hand, each step is based on the residual error of the previous step, paying more attention to the accuracy rate."
   ]
  },
  {
   "cell_type": "markdown",
   "metadata": {},
   "source": [
    "# defferent parameter"
   ]
  },
  {
   "cell_type": "markdown",
   "metadata": {},
   "source": [
    "1) different max_depth in LGB"
   ]
  },
  {
   "cell_type": "code",
   "execution_count": 5,
   "metadata": {},
   "outputs": [
    {
     "name": "stdout",
     "output_type": "stream",
     "text": [
      "[1]\tvalid_0's binary_logloss: 0.200003\tvalid_0's auc: 0.843801\n",
      "Training until validation scores don't improve for 10 rounds.\n",
      "[2]\tvalid_0's binary_logloss: 0.19135\tvalid_0's auc: 0.868327\n",
      "[3]\tvalid_0's binary_logloss: 0.185544\tvalid_0's auc: 0.881301\n",
      "[4]\tvalid_0's binary_logloss: 0.180508\tvalid_0's auc: 0.886738\n",
      "[5]\tvalid_0's binary_logloss: 0.175454\tvalid_0's auc: 0.893106\n",
      "[6]\tvalid_0's binary_logloss: 0.172265\tvalid_0's auc: 0.895969\n",
      "[7]\tvalid_0's binary_logloss: 0.1688\tvalid_0's auc: 0.899543\n",
      "[8]\tvalid_0's binary_logloss: 0.166655\tvalid_0's auc: 0.902507\n",
      "[9]\tvalid_0's binary_logloss: 0.164585\tvalid_0's auc: 0.903066\n",
      "[10]\tvalid_0's binary_logloss: 0.162587\tvalid_0's auc: 0.904895\n",
      "[11]\tvalid_0's binary_logloss: 0.159967\tvalid_0's auc: 0.90957\n",
      "[12]\tvalid_0's binary_logloss: 0.158047\tvalid_0's auc: 0.912432\n",
      "[13]\tvalid_0's binary_logloss: 0.157337\tvalid_0's auc: 0.910349\n",
      "[14]\tvalid_0's binary_logloss: 0.156887\tvalid_0's auc: 0.90918\n",
      "[15]\tvalid_0's binary_logloss: 0.154836\tvalid_0's auc: 0.914736\n",
      "[16]\tvalid_0's binary_logloss: 0.15292\tvalid_0's auc: 0.918479\n",
      "[17]\tvalid_0's binary_logloss: 0.149938\tvalid_0's auc: 0.923493\n",
      "[18]\tvalid_0's binary_logloss: 0.148979\tvalid_0's auc: 0.923933\n",
      "[19]\tvalid_0's binary_logloss: 0.148147\tvalid_0's auc: 0.922476\n",
      "[20]\tvalid_0's binary_logloss: 0.146973\tvalid_0's auc: 0.925339\n",
      "[21]\tvalid_0's binary_logloss: 0.145856\tvalid_0's auc: 0.9271\n",
      "[22]\tvalid_0's binary_logloss: 0.144623\tvalid_0's auc: 0.927778\n",
      "[23]\tvalid_0's binary_logloss: 0.144033\tvalid_0's auc: 0.928523\n",
      "[24]\tvalid_0's binary_logloss: 0.143132\tvalid_0's auc: 0.929404\n",
      "[25]\tvalid_0's binary_logloss: 0.142429\tvalid_0's auc: 0.930691\n",
      "[26]\tvalid_0's binary_logloss: 0.141356\tvalid_0's auc: 0.933096\n",
      "[27]\tvalid_0's binary_logloss: 0.140325\tvalid_0's auc: 0.933774\n",
      "[28]\tvalid_0's binary_logloss: 0.139388\tvalid_0's auc: 0.933435\n",
      "[29]\tvalid_0's binary_logloss: 0.138887\tvalid_0's auc: 0.933232\n",
      "[30]\tvalid_0's binary_logloss: 0.138506\tvalid_0's auc: 0.933537\n",
      "[31]\tvalid_0's binary_logloss: 0.137909\tvalid_0's auc: 0.934214\n",
      "[32]\tvalid_0's binary_logloss: 0.137599\tvalid_0's auc: 0.934146\n",
      "[33]\tvalid_0's binary_logloss: 0.137418\tvalid_0's auc: 0.933164\n",
      "[34]\tvalid_0's binary_logloss: 0.137152\tvalid_0's auc: 0.933774\n",
      "[35]\tvalid_0's binary_logloss: 0.136885\tvalid_0's auc: 0.934214\n",
      "[36]\tvalid_0's binary_logloss: 0.136685\tvalid_0's auc: 0.934282\n",
      "[37]\tvalid_0's binary_logloss: 0.13656\tvalid_0's auc: 0.934621\n",
      "[38]\tvalid_0's binary_logloss: 0.135524\tvalid_0's auc: 0.935705\n",
      "[39]\tvalid_0's binary_logloss: 0.135388\tvalid_0's auc: 0.935772\n",
      "[40]\tvalid_0's binary_logloss: 0.134435\tvalid_0's auc: 0.936687\n",
      "[41]\tvalid_0's binary_logloss: 0.134063\tvalid_0's auc: 0.936755\n",
      "[42]\tvalid_0's binary_logloss: 0.13322\tvalid_0's auc: 0.938211\n",
      "[43]\tvalid_0's binary_logloss: 0.132681\tvalid_0's auc: 0.939804\n",
      "[44]\tvalid_0's binary_logloss: 0.132801\tvalid_0's auc: 0.938618\n",
      "[45]\tvalid_0's binary_logloss: 0.132251\tvalid_0's auc: 0.939465\n",
      "[46]\tvalid_0's binary_logloss: 0.132635\tvalid_0's auc: 0.938482\n",
      "[47]\tvalid_0's binary_logloss: 0.132273\tvalid_0's auc: 0.939024\n",
      "[48]\tvalid_0's binary_logloss: 0.132781\tvalid_0's auc: 0.938008\n",
      "[49]\tvalid_0's binary_logloss: 0.13248\tvalid_0's auc: 0.937873\n",
      "[50]\tvalid_0's binary_logloss: 0.132425\tvalid_0's auc: 0.937534\n",
      "[51]\tvalid_0's binary_logloss: 0.132585\tvalid_0's auc: 0.937195\n",
      "[52]\tvalid_0's binary_logloss: 0.132703\tvalid_0's auc: 0.936789\n",
      "[53]\tvalid_0's binary_logloss: 0.132385\tvalid_0's auc: 0.936924\n",
      "Early stopping, best iteration is:\n",
      "[43]\tvalid_0's binary_logloss: 0.132681\tvalid_0's auc: 0.939804\n",
      "[1]\tvalid_0's binary_logloss: 0.197555\tvalid_0's auc: 0.860654\n",
      "Training until validation scores don't improve for 10 rounds.\n",
      "[2]\tvalid_0's binary_logloss: 0.186291\tvalid_0's auc: 0.881064\n",
      "[3]\tvalid_0's binary_logloss: 0.179851\tvalid_0's auc: 0.888178\n",
      "[4]\tvalid_0's binary_logloss: 0.173792\tvalid_0's auc: 0.893716\n",
      "[5]\tvalid_0's binary_logloss: 0.169524\tvalid_0's auc: 0.900407\n",
      "[6]\tvalid_0's binary_logloss: 0.164763\tvalid_0's auc: 0.906707\n",
      "[7]\tvalid_0's binary_logloss: 0.162576\tvalid_0's auc: 0.908215\n",
      "[8]\tvalid_0's binary_logloss: 0.160058\tvalid_0's auc: 0.907707\n",
      "[9]\tvalid_0's binary_logloss: 0.157231\tvalid_0's auc: 0.911399\n",
      "[10]\tvalid_0's binary_logloss: 0.153606\tvalid_0's auc: 0.914719\n",
      "[11]\tvalid_0's binary_logloss: 0.151287\tvalid_0's auc: 0.91687\n",
      "[12]\tvalid_0's binary_logloss: 0.150354\tvalid_0's auc: 0.914973\n",
      "[13]\tvalid_0's binary_logloss: 0.148872\tvalid_0's auc: 0.915617\n",
      "[14]\tvalid_0's binary_logloss: 0.148194\tvalid_0's auc: 0.913923\n",
      "[15]\tvalid_0's binary_logloss: 0.147043\tvalid_0's auc: 0.915617\n",
      "[16]\tvalid_0's binary_logloss: 0.146137\tvalid_0's auc: 0.916226\n",
      "[17]\tvalid_0's binary_logloss: 0.144611\tvalid_0's auc: 0.918496\n",
      "[18]\tvalid_0's binary_logloss: 0.143687\tvalid_0's auc: 0.918767\n",
      "[19]\tvalid_0's binary_logloss: 0.142434\tvalid_0's auc: 0.918869\n",
      "[20]\tvalid_0's binary_logloss: 0.141956\tvalid_0's auc: 0.919919\n",
      "[21]\tvalid_0's binary_logloss: 0.140386\tvalid_0's auc: 0.921477\n",
      "[22]\tvalid_0's binary_logloss: 0.140485\tvalid_0's auc: 0.920461\n",
      "[23]\tvalid_0's binary_logloss: 0.139998\tvalid_0's auc: 0.921477\n",
      "[24]\tvalid_0's binary_logloss: 0.138994\tvalid_0's auc: 0.922256\n",
      "[25]\tvalid_0's binary_logloss: 0.13808\tvalid_0's auc: 0.922934\n",
      "[26]\tvalid_0's binary_logloss: 0.137758\tvalid_0's auc: 0.922188\n",
      "[27]\tvalid_0's binary_logloss: 0.137362\tvalid_0's auc: 0.92378\n",
      "[28]\tvalid_0's binary_logloss: 0.136824\tvalid_0's auc: 0.924797\n",
      "[29]\tvalid_0's binary_logloss: 0.13701\tvalid_0's auc: 0.923848\n",
      "[30]\tvalid_0's binary_logloss: 0.136531\tvalid_0's auc: 0.923543\n",
      "[31]\tvalid_0's binary_logloss: 0.135907\tvalid_0's auc: 0.925271\n",
      "[32]\tvalid_0's binary_logloss: 0.135182\tvalid_0's auc: 0.926728\n",
      "[33]\tvalid_0's binary_logloss: 0.134551\tvalid_0's auc: 0.927473\n",
      "[34]\tvalid_0's binary_logloss: 0.133956\tvalid_0's auc: 0.928794\n",
      "[35]\tvalid_0's binary_logloss: 0.134652\tvalid_0's auc: 0.927304\n",
      "[36]\tvalid_0's binary_logloss: 0.13453\tvalid_0's auc: 0.928083\n",
      "[37]\tvalid_0's binary_logloss: 0.134186\tvalid_0's auc: 0.92876\n",
      "[38]\tvalid_0's binary_logloss: 0.134172\tvalid_0's auc: 0.928455\n",
      "[39]\tvalid_0's binary_logloss: 0.134201\tvalid_0's auc: 0.927778\n",
      "[40]\tvalid_0's binary_logloss: 0.133959\tvalid_0's auc: 0.927676\n",
      "[41]\tvalid_0's binary_logloss: 0.133355\tvalid_0's auc: 0.928354\n",
      "[42]\tvalid_0's binary_logloss: 0.133331\tvalid_0's auc: 0.928218\n",
      "[43]\tvalid_0's binary_logloss: 0.133311\tvalid_0's auc: 0.927439\n",
      "[44]\tvalid_0's binary_logloss: 0.132506\tvalid_0's auc: 0.929234\n",
      "[45]\tvalid_0's binary_logloss: 0.132551\tvalid_0's auc: 0.92876\n",
      "[46]\tvalid_0's binary_logloss: 0.131863\tvalid_0's auc: 0.929607\n",
      "[47]\tvalid_0's binary_logloss: 0.132033\tvalid_0's auc: 0.928659\n",
      "[48]\tvalid_0's binary_logloss: 0.131663\tvalid_0's auc: 0.930793\n",
      "[49]\tvalid_0's binary_logloss: 0.131446\tvalid_0's auc: 0.93147\n",
      "[50]\tvalid_0's binary_logloss: 0.130791\tvalid_0's auc: 0.932757\n",
      "[51]\tvalid_0's binary_logloss: 0.130482\tvalid_0's auc: 0.933266\n",
      "[52]\tvalid_0's binary_logloss: 0.130314\tvalid_0's auc: 0.933164\n",
      "[53]\tvalid_0's binary_logloss: 0.130301\tvalid_0's auc: 0.933672\n",
      "[54]\tvalid_0's binary_logloss: 0.129863\tvalid_0's auc: 0.934079\n",
      "[55]\tvalid_0's binary_logloss: 0.12939\tvalid_0's auc: 0.934112\n",
      "[56]\tvalid_0's binary_logloss: 0.129401\tvalid_0's auc: 0.933469\n",
      "[57]\tvalid_0's binary_logloss: 0.128567\tvalid_0's auc: 0.935264\n",
      "[58]\tvalid_0's binary_logloss: 0.129024\tvalid_0's auc: 0.934892\n",
      "[59]\tvalid_0's binary_logloss: 0.129059\tvalid_0's auc: 0.935772\n",
      "[60]\tvalid_0's binary_logloss: 0.129092\tvalid_0's auc: 0.935467\n",
      "[61]\tvalid_0's binary_logloss: 0.12895\tvalid_0's auc: 0.936009\n",
      "[62]\tvalid_0's binary_logloss: 0.129285\tvalid_0's auc: 0.935772\n",
      "[63]\tvalid_0's binary_logloss: 0.129286\tvalid_0's auc: 0.936043\n",
      "[64]\tvalid_0's binary_logloss: 0.129255\tvalid_0's auc: 0.936077\n",
      "[65]\tvalid_0's binary_logloss: 0.129254\tvalid_0's auc: 0.936721\n",
      "[66]\tvalid_0's binary_logloss: 0.129967\tvalid_0's auc: 0.935569\n",
      "[67]\tvalid_0's binary_logloss: 0.130879\tvalid_0's auc: 0.934011\n",
      "Early stopping, best iteration is:\n",
      "[57]\tvalid_0's binary_logloss: 0.128567\tvalid_0's auc: 0.935264\n",
      "[1]\tvalid_0's binary_logloss: 0.197634\tvalid_0's auc: 0.855522\n",
      "Training until validation scores don't improve for 10 rounds.\n",
      "[2]\tvalid_0's binary_logloss: 0.186185\tvalid_0's auc: 0.878337\n",
      "[3]\tvalid_0's binary_logloss: 0.178963\tvalid_0's auc: 0.889346\n",
      "[4]\tvalid_0's binary_logloss: 0.172954\tvalid_0's auc: 0.894614\n",
      "[5]\tvalid_0's binary_logloss: 0.166282\tvalid_0's auc: 0.907571\n",
      "[6]\tvalid_0's binary_logloss: 0.16214\tvalid_0's auc: 0.909807\n"
     ]
    },
    {
     "name": "stdout",
     "output_type": "stream",
     "text": [
      "[7]\tvalid_0's binary_logloss: 0.159662\tvalid_0's auc: 0.907622\n",
      "[8]\tvalid_0's binary_logloss: 0.156347\tvalid_0's auc: 0.911822\n",
      "[9]\tvalid_0's binary_logloss: 0.152634\tvalid_0's auc: 0.915176\n",
      "[10]\tvalid_0's binary_logloss: 0.150923\tvalid_0's auc: 0.915075\n",
      "[11]\tvalid_0's binary_logloss: 0.149839\tvalid_0's auc: 0.914228\n",
      "[12]\tvalid_0's binary_logloss: 0.148694\tvalid_0's auc: 0.912907\n",
      "[13]\tvalid_0's binary_logloss: 0.146148\tvalid_0's auc: 0.91582\n",
      "[14]\tvalid_0's binary_logloss: 0.144796\tvalid_0's auc: 0.914668\n",
      "[15]\tvalid_0's binary_logloss: 0.143699\tvalid_0's auc: 0.915617\n",
      "[16]\tvalid_0's binary_logloss: 0.142898\tvalid_0's auc: 0.913381\n",
      "[17]\tvalid_0's binary_logloss: 0.140804\tvalid_0's auc: 0.917852\n",
      "[18]\tvalid_0's binary_logloss: 0.140935\tvalid_0's auc: 0.916023\n",
      "[19]\tvalid_0's binary_logloss: 0.140117\tvalid_0's auc: 0.917852\n",
      "[20]\tvalid_0's binary_logloss: 0.13894\tvalid_0's auc: 0.918259\n",
      "[21]\tvalid_0's binary_logloss: 0.138915\tvalid_0's auc: 0.916396\n",
      "[22]\tvalid_0's binary_logloss: 0.13847\tvalid_0's auc: 0.917175\n",
      "[23]\tvalid_0's binary_logloss: 0.136943\tvalid_0's auc: 0.920122\n",
      "[24]\tvalid_0's binary_logloss: 0.135866\tvalid_0's auc: 0.920291\n",
      "[25]\tvalid_0's binary_logloss: 0.136333\tvalid_0's auc: 0.919072\n",
      "[26]\tvalid_0's binary_logloss: 0.135134\tvalid_0's auc: 0.920393\n",
      "[27]\tvalid_0's binary_logloss: 0.133795\tvalid_0's auc: 0.921748\n",
      "[28]\tvalid_0's binary_logloss: 0.133919\tvalid_0's auc: 0.921104\n",
      "[29]\tvalid_0's binary_logloss: 0.133206\tvalid_0's auc: 0.922493\n",
      "[30]\tvalid_0's binary_logloss: 0.132731\tvalid_0's auc: 0.923103\n",
      "[31]\tvalid_0's binary_logloss: 0.132535\tvalid_0's auc: 0.923035\n",
      "[32]\tvalid_0's binary_logloss: 0.132232\tvalid_0's auc: 0.923171\n",
      "[33]\tvalid_0's binary_logloss: 0.132826\tvalid_0's auc: 0.922222\n",
      "[34]\tvalid_0's binary_logloss: 0.132502\tvalid_0's auc: 0.922425\n",
      "[35]\tvalid_0's binary_logloss: 0.131628\tvalid_0's auc: 0.923476\n",
      "[36]\tvalid_0's binary_logloss: 0.131142\tvalid_0's auc: 0.924356\n",
      "[37]\tvalid_0's binary_logloss: 0.130432\tvalid_0's auc: 0.925407\n",
      "[38]\tvalid_0's binary_logloss: 0.130558\tvalid_0's auc: 0.925847\n",
      "[39]\tvalid_0's binary_logloss: 0.131296\tvalid_0's auc: 0.924627\n",
      "[40]\tvalid_0's binary_logloss: 0.130605\tvalid_0's auc: 0.925711\n",
      "[41]\tvalid_0's binary_logloss: 0.130186\tvalid_0's auc: 0.926355\n",
      "[42]\tvalid_0's binary_logloss: 0.130339\tvalid_0's auc: 0.92544\n",
      "[43]\tvalid_0's binary_logloss: 0.130615\tvalid_0's auc: 0.924627\n",
      "[44]\tvalid_0's binary_logloss: 0.130597\tvalid_0's auc: 0.924593\n",
      "[45]\tvalid_0's binary_logloss: 0.130645\tvalid_0's auc: 0.924526\n",
      "[46]\tvalid_0's binary_logloss: 0.130939\tvalid_0's auc: 0.924289\n",
      "[47]\tvalid_0's binary_logloss: 0.131819\tvalid_0's auc: 0.923272\n",
      "[48]\tvalid_0's binary_logloss: 0.131534\tvalid_0's auc: 0.923645\n",
      "[49]\tvalid_0's binary_logloss: 0.130356\tvalid_0's auc: 0.926389\n",
      "[50]\tvalid_0's binary_logloss: 0.130288\tvalid_0's auc: 0.92666\n",
      "[51]\tvalid_0's binary_logloss: 0.130147\tvalid_0's auc: 0.927575\n",
      "[52]\tvalid_0's binary_logloss: 0.130311\tvalid_0's auc: 0.927473\n",
      "[53]\tvalid_0's binary_logloss: 0.130096\tvalid_0's auc: 0.928963\n",
      "[54]\tvalid_0's binary_logloss: 0.130426\tvalid_0's auc: 0.927846\n",
      "[55]\tvalid_0's binary_logloss: 0.130553\tvalid_0's auc: 0.927812\n",
      "[56]\tvalid_0's binary_logloss: 0.130402\tvalid_0's auc: 0.929099\n",
      "[57]\tvalid_0's binary_logloss: 0.130094\tvalid_0's auc: 0.929065\n",
      "[58]\tvalid_0's binary_logloss: 0.130851\tvalid_0's auc: 0.928252\n",
      "[59]\tvalid_0's binary_logloss: 0.131019\tvalid_0's auc: 0.928083\n",
      "[60]\tvalid_0's binary_logloss: 0.130733\tvalid_0's auc: 0.928997\n",
      "[61]\tvalid_0's binary_logloss: 0.130453\tvalid_0's auc: 0.930691\n",
      "[62]\tvalid_0's binary_logloss: 0.130545\tvalid_0's auc: 0.931335\n",
      "[63]\tvalid_0's binary_logloss: 0.13106\tvalid_0's auc: 0.930115\n",
      "[64]\tvalid_0's binary_logloss: 0.131755\tvalid_0's auc: 0.930115\n",
      "[65]\tvalid_0's binary_logloss: 0.131773\tvalid_0's auc: 0.93103\n",
      "[66]\tvalid_0's binary_logloss: 0.131998\tvalid_0's auc: 0.930318\n",
      "[67]\tvalid_0's binary_logloss: 0.13243\tvalid_0's auc: 0.929438\n",
      "Early stopping, best iteration is:\n",
      "[57]\tvalid_0's binary_logloss: 0.130094\tvalid_0's auc: 0.929065\n",
      "[1]\tvalid_0's binary_logloss: 0.195347\tvalid_0's auc: 0.801541\n",
      "Training until validation scores don't improve for 10 rounds.\n",
      "[2]\tvalid_0's binary_logloss: 0.185262\tvalid_0's auc: 0.814668\n",
      "[3]\tvalid_0's binary_logloss: 0.176542\tvalid_0's auc: 0.870037\n",
      "[4]\tvalid_0's binary_logloss: 0.16903\tvalid_0's auc: 0.893835\n",
      "[5]\tvalid_0's binary_logloss: 0.164654\tvalid_0's auc: 0.908774\n",
      "[6]\tvalid_0's binary_logloss: 0.159627\tvalid_0's auc: 0.915617\n",
      "[7]\tvalid_0's binary_logloss: 0.155083\tvalid_0's auc: 0.922747\n",
      "[8]\tvalid_0's binary_logloss: 0.152007\tvalid_0's auc: 0.923408\n",
      "[9]\tvalid_0's binary_logloss: 0.148562\tvalid_0's auc: 0.926016\n",
      "[10]\tvalid_0's binary_logloss: 0.145702\tvalid_0's auc: 0.928252\n",
      "[11]\tvalid_0's binary_logloss: 0.143327\tvalid_0's auc: 0.931369\n",
      "[12]\tvalid_0's binary_logloss: 0.141776\tvalid_0's auc: 0.930183\n",
      "[13]\tvalid_0's binary_logloss: 0.140426\tvalid_0's auc: 0.930691\n",
      "[14]\tvalid_0's binary_logloss: 0.138376\tvalid_0's auc: 0.93147\n",
      "[15]\tvalid_0's binary_logloss: 0.137317\tvalid_0's auc: 0.930454\n",
      "[16]\tvalid_0's binary_logloss: 0.137125\tvalid_0's auc: 0.927202\n",
      "[17]\tvalid_0's binary_logloss: 0.135872\tvalid_0's auc: 0.928557\n",
      "[18]\tvalid_0's binary_logloss: 0.134302\tvalid_0's auc: 0.93042\n",
      "[19]\tvalid_0's binary_logloss: 0.134251\tvalid_0's auc: 0.928252\n",
      "[20]\tvalid_0's binary_logloss: 0.133044\tvalid_0's auc: 0.930522\n",
      "[21]\tvalid_0's binary_logloss: 0.132926\tvalid_0's auc: 0.929878\n",
      "[22]\tvalid_0's binary_logloss: 0.132661\tvalid_0's auc: 0.930657\n",
      "[23]\tvalid_0's binary_logloss: 0.131171\tvalid_0's auc: 0.932046\n",
      "[24]\tvalid_0's binary_logloss: 0.131111\tvalid_0's auc: 0.932148\n",
      "[25]\tvalid_0's binary_logloss: 0.131221\tvalid_0's auc: 0.932182\n",
      "[26]\tvalid_0's binary_logloss: 0.13036\tvalid_0's auc: 0.933943\n",
      "[27]\tvalid_0's binary_logloss: 0.129021\tvalid_0's auc: 0.934417\n",
      "[28]\tvalid_0's binary_logloss: 0.128691\tvalid_0's auc: 0.935434\n",
      "[29]\tvalid_0's binary_logloss: 0.128374\tvalid_0's auc: 0.93523\n",
      "[30]\tvalid_0's binary_logloss: 0.128182\tvalid_0's auc: 0.935671\n",
      "[31]\tvalid_0's binary_logloss: 0.1277\tvalid_0's auc: 0.93706\n",
      "[32]\tvalid_0's binary_logloss: 0.127051\tvalid_0's auc: 0.937263\n",
      "[33]\tvalid_0's binary_logloss: 0.126678\tvalid_0's auc: 0.938211\n",
      "[34]\tvalid_0's binary_logloss: 0.126298\tvalid_0's auc: 0.939126\n",
      "[35]\tvalid_0's binary_logloss: 0.126129\tvalid_0's auc: 0.939058\n",
      "[36]\tvalid_0's binary_logloss: 0.126046\tvalid_0's auc: 0.939736\n",
      "[37]\tvalid_0's binary_logloss: 0.125606\tvalid_0's auc: 0.939905\n",
      "[38]\tvalid_0's binary_logloss: 0.125535\tvalid_0's auc: 0.939228\n",
      "[39]\tvalid_0's binary_logloss: 0.12541\tvalid_0's auc: 0.93916\n",
      "[40]\tvalid_0's binary_logloss: 0.125829\tvalid_0's auc: 0.939262\n",
      "[41]\tvalid_0's binary_logloss: 0.126029\tvalid_0's auc: 0.939024\n",
      "[42]\tvalid_0's binary_logloss: 0.125237\tvalid_0's auc: 0.939465\n",
      "[43]\tvalid_0's binary_logloss: 0.125451\tvalid_0's auc: 0.939702\n",
      "[44]\tvalid_0's binary_logloss: 0.12607\tvalid_0's auc: 0.939465\n",
      "[45]\tvalid_0's binary_logloss: 0.126149\tvalid_0's auc: 0.9396\n",
      "[46]\tvalid_0's binary_logloss: 0.125705\tvalid_0's auc: 0.940786\n",
      "[47]\tvalid_0's binary_logloss: 0.124994\tvalid_0's auc: 0.941599\n",
      "[48]\tvalid_0's binary_logloss: 0.12458\tvalid_0's auc: 0.943022\n",
      "[49]\tvalid_0's binary_logloss: 0.125076\tvalid_0's auc: 0.943123\n",
      "[50]\tvalid_0's binary_logloss: 0.125704\tvalid_0's auc: 0.942209\n",
      "[51]\tvalid_0's binary_logloss: 0.12563\tvalid_0's auc: 0.942412\n",
      "[52]\tvalid_0's binary_logloss: 0.126058\tvalid_0's auc: 0.941701\n",
      "[53]\tvalid_0's binary_logloss: 0.127209\tvalid_0's auc: 0.940549\n",
      "[54]\tvalid_0's binary_logloss: 0.126979\tvalid_0's auc: 0.94065\n",
      "[55]\tvalid_0's binary_logloss: 0.127223\tvalid_0's auc: 0.940921\n",
      "[56]\tvalid_0's binary_logloss: 0.128181\tvalid_0's auc: 0.940549\n",
      "[57]\tvalid_0's binary_logloss: 0.128174\tvalid_0's auc: 0.941294\n",
      "[58]\tvalid_0's binary_logloss: 0.128426\tvalid_0's auc: 0.942141\n",
      "Early stopping, best iteration is:\n",
      "[48]\tvalid_0's binary_logloss: 0.12458\tvalid_0's auc: 0.943022\n",
      "[1]\tvalid_0's binary_logloss: 0.194634\tvalid_0's auc: 0.804099\n",
      "Training until validation scores don't improve for 10 rounds.\n",
      "[2]\tvalid_0's binary_logloss: 0.186128\tvalid_0's auc: 0.846104\n",
      "[3]\tvalid_0's binary_logloss: 0.178648\tvalid_0's auc: 0.874983\n",
      "[4]\tvalid_0's binary_logloss: 0.17281\tvalid_0's auc: 0.887771\n",
      "[5]\tvalid_0's binary_logloss: 0.166974\tvalid_0's auc: 0.90686\n",
      "[6]\tvalid_0's binary_logloss: 0.162212\tvalid_0's auc: 0.912043\n",
      "[7]\tvalid_0's binary_logloss: 0.157984\tvalid_0's auc: 0.915617\n",
      "[8]\tvalid_0's binary_logloss: 0.153645\tvalid_0's auc: 0.922358\n",
      "[9]\tvalid_0's binary_logloss: 0.150365\tvalid_0's auc: 0.925203\n",
      "[10]\tvalid_0's binary_logloss: 0.147508\tvalid_0's auc: 0.926321\n",
      "[11]\tvalid_0's binary_logloss: 0.14621\tvalid_0's auc: 0.926863\n",
      "[12]\tvalid_0's binary_logloss: 0.143499\tvalid_0's auc: 0.929438\n",
      "[13]\tvalid_0's binary_logloss: 0.142026\tvalid_0's auc: 0.930386\n",
      "[14]\tvalid_0's binary_logloss: 0.140483\tvalid_0's auc: 0.931978\n",
      "[15]\tvalid_0's binary_logloss: 0.14013\tvalid_0's auc: 0.930454\n",
      "[16]\tvalid_0's binary_logloss: 0.138585\tvalid_0's auc: 0.931775\n",
      "[17]\tvalid_0's binary_logloss: 0.137929\tvalid_0's auc: 0.930589\n",
      "[18]\tvalid_0's binary_logloss: 0.136474\tvalid_0's auc: 0.93147\n",
      "[19]\tvalid_0's binary_logloss: 0.134809\tvalid_0's auc: 0.932757\n",
      "[20]\tvalid_0's binary_logloss: 0.134199\tvalid_0's auc: 0.931843\n",
      "[21]\tvalid_0's binary_logloss: 0.134383\tvalid_0's auc: 0.930928\n",
      "[22]\tvalid_0's binary_logloss: 0.134378\tvalid_0's auc: 0.929336\n",
      "[23]\tvalid_0's binary_logloss: 0.133799\tvalid_0's auc: 0.929438\n",
      "[24]\tvalid_0's binary_logloss: 0.133491\tvalid_0's auc: 0.929878\n",
      "[25]\tvalid_0's binary_logloss: 0.133011\tvalid_0's auc: 0.929539\n",
      "[26]\tvalid_0's binary_logloss: 0.132816\tvalid_0's auc: 0.930115\n",
      "[27]\tvalid_0's binary_logloss: 0.131597\tvalid_0's auc: 0.931944\n",
      "[28]\tvalid_0's binary_logloss: 0.130907\tvalid_0's auc: 0.932012\n",
      "[29]\tvalid_0's binary_logloss: 0.130529\tvalid_0's auc: 0.932486\n",
      "Early stopping, best iteration is:\n",
      "[19]\tvalid_0's binary_logloss: 0.134809\tvalid_0's auc: 0.932757\n",
      "[1]\tvalid_0's binary_logloss: 0.194634\tvalid_0's auc: 0.804099\n",
      "Training until validation scores don't improve for 10 rounds.\n",
      "[2]\tvalid_0's binary_logloss: 0.186128\tvalid_0's auc: 0.846104\n"
     ]
    },
    {
     "name": "stdout",
     "output_type": "stream",
     "text": [
      "[3]\tvalid_0's binary_logloss: 0.178648\tvalid_0's auc: 0.874983\n",
      "[4]\tvalid_0's binary_logloss: 0.172568\tvalid_0's auc: 0.887331\n",
      "[5]\tvalid_0's binary_logloss: 0.16642\tvalid_0's auc: 0.905403\n",
      "[6]\tvalid_0's binary_logloss: 0.160703\tvalid_0's auc: 0.913499\n",
      "[7]\tvalid_0's binary_logloss: 0.156086\tvalid_0's auc: 0.920105\n",
      "[8]\tvalid_0's binary_logloss: 0.152759\tvalid_0's auc: 0.921985\n",
      "[9]\tvalid_0's binary_logloss: 0.150665\tvalid_0's auc: 0.921748\n",
      "[10]\tvalid_0's binary_logloss: 0.147255\tvalid_0's auc: 0.926016\n",
      "[11]\tvalid_0's binary_logloss: 0.144582\tvalid_0's auc: 0.929167\n",
      "[12]\tvalid_0's binary_logloss: 0.141739\tvalid_0's auc: 0.931301\n",
      "[13]\tvalid_0's binary_logloss: 0.140307\tvalid_0's auc: 0.931673\n",
      "[14]\tvalid_0's binary_logloss: 0.137869\tvalid_0's auc: 0.934722\n",
      "[15]\tvalid_0's binary_logloss: 0.137116\tvalid_0's auc: 0.933909\n",
      "[16]\tvalid_0's binary_logloss: 0.134978\tvalid_0's auc: 0.936382\n",
      "[17]\tvalid_0's binary_logloss: 0.13468\tvalid_0's auc: 0.935095\n",
      "[18]\tvalid_0's binary_logloss: 0.13401\tvalid_0's auc: 0.934451\n",
      "[19]\tvalid_0's binary_logloss: 0.133581\tvalid_0's auc: 0.933062\n",
      "[20]\tvalid_0's binary_logloss: 0.132208\tvalid_0's auc: 0.934892\n",
      "[21]\tvalid_0's binary_logloss: 0.132529\tvalid_0's auc: 0.932486\n",
      "[22]\tvalid_0's binary_logloss: 0.132188\tvalid_0's auc: 0.932317\n",
      "[23]\tvalid_0's binary_logloss: 0.131316\tvalid_0's auc: 0.932486\n",
      "[24]\tvalid_0's binary_logloss: 0.131227\tvalid_0's auc: 0.932012\n",
      "[25]\tvalid_0's binary_logloss: 0.130809\tvalid_0's auc: 0.932453\n",
      "[26]\tvalid_0's binary_logloss: 0.131634\tvalid_0's auc: 0.930759\n",
      "Early stopping, best iteration is:\n",
      "[16]\tvalid_0's binary_logloss: 0.134978\tvalid_0's auc: 0.936382\n"
     ]
    }
   ],
   "source": [
    "L = []\n",
    "R = []\n",
    "auc = []\n",
    "# 比较不同的 max_depth，分别取值3,4,5,6,7,8，训练、画图过程与上面类似\n",
    "for depth in [3,4,5,6,7,8]:\n",
    "    clf = LGBMClassifier(boosting_type='gbdt', \n",
    "                             objective='binary',\n",
    "                             max_depth = depth\n",
    "                        )  \n",
    "    clf.fit(X_train, y_train, eval_set=[(X_test, y_test)], eval_metric='auc', early_stopping_rounds=10)  \n",
    "    \n",
    "    y_score = clf.predict_proba(X_test)[:, 1]\n",
    "    L.append(metrics.roc_curve(y_test, y_score)[0])\n",
    "    R.append(metrics.roc_curve(y_test, y_score)[1])\n",
    "    auc.append(metrics.roc_auc_score(y_test,y_score))"
   ]
  },
  {
   "cell_type": "code",
   "execution_count": 6,
   "metadata": {},
   "outputs": [
    {
     "name": "stdout",
     "output_type": "stream",
     "text": [
      "[0.9399051490514906, 0.9352642276422765, 0.9290650406504065, 0.9430216802168021, 0.9327574525745257, 0.9362804878048779]\n"
     ]
    },
    {
     "data": {
      "image/png": "[encoded data removed]",
      "text/plain": [
       "<Figure size 432x288 with 1 Axes>"
      ]
     },
     "metadata": {
      "needs_background": "light"
     },
     "output_type": "display_data"
    }
   ],
   "source": [
    "print(auc)\n",
    "plt.plot(L[0], R[0], marker = 'o') \n",
    "plt.plot(L[1], R[1], marker = '*') \n",
    "plt.plot(L[2], R[2], marker = '^') \n",
    "plt.plot(L[3], R[3], marker = '.')\n",
    "plt.plot(L[4], R[4], marker = 'o') \n",
    "plt.plot(L[5], R[5], marker = '*') \n",
    "plt.show()"
   ]
  },
  {
   "cell_type": "markdown",
   "metadata": {},
   "source": [
    "With the increase of max_depth, auc decreases first, then increases, and then decreases again, indicating that this parameter will affect the effect of the model to some extent, and a value in the middle can make the model achieve the best effect."
   ]
  },
  {
   "cell_type": "markdown",
   "metadata": {},
   "source": [
    "2) different num_leaves in LGB"
   ]
  },
  {
   "cell_type": "code",
   "execution_count": 7,
   "metadata": {},
   "outputs": [
    {
     "name": "stdout",
     "output_type": "stream",
     "text": [
      "[1]\tvalid_0's binary_logloss: 0.194634\tvalid_0's auc: 0.804099\n",
      "Training until validation scores don't improve for 10 rounds.\n",
      "[2]\tvalid_0's binary_logloss: 0.186127\tvalid_0's auc: 0.845867\n",
      "[3]\tvalid_0's binary_logloss: 0.178646\tvalid_0's auc: 0.875017\n",
      "[4]\tvalid_0's binary_logloss: 0.172581\tvalid_0's auc: 0.887534\n",
      "[5]\tvalid_0's binary_logloss: 0.166717\tvalid_0's auc: 0.902625\n",
      "[6]\tvalid_0's binary_logloss: 0.161396\tvalid_0's auc: 0.911094\n",
      "[7]\tvalid_0's binary_logloss: 0.15678\tvalid_0's auc: 0.918716\n",
      "[8]\tvalid_0's binary_logloss: 0.153821\tvalid_0's auc: 0.91958\n",
      "[9]\tvalid_0's binary_logloss: 0.149599\tvalid_0's auc: 0.923984\n",
      "[10]\tvalid_0's binary_logloss: 0.146969\tvalid_0's auc: 0.92544\n",
      "[11]\tvalid_0's binary_logloss: 0.144292\tvalid_0's auc: 0.928862\n",
      "[12]\tvalid_0's binary_logloss: 0.143309\tvalid_0's auc: 0.928862\n",
      "[13]\tvalid_0's binary_logloss: 0.141657\tvalid_0's auc: 0.927575\n",
      "[14]\tvalid_0's binary_logloss: 0.140378\tvalid_0's auc: 0.928049\n",
      "[15]\tvalid_0's binary_logloss: 0.138187\tvalid_0's auc: 0.931131\n",
      "[16]\tvalid_0's binary_logloss: 0.137766\tvalid_0's auc: 0.929912\n",
      "[17]\tvalid_0's binary_logloss: 0.136699\tvalid_0's auc: 0.929302\n",
      "[18]\tvalid_0's binary_logloss: 0.135667\tvalid_0's auc: 0.929709\n",
      "[19]\tvalid_0's binary_logloss: 0.133818\tvalid_0's auc: 0.932995\n",
      "[20]\tvalid_0's binary_logloss: 0.132978\tvalid_0's auc: 0.932622\n",
      "[21]\tvalid_0's binary_logloss: 0.13342\tvalid_0's auc: 0.931301\n",
      "[22]\tvalid_0's binary_logloss: 0.134251\tvalid_0's auc: 0.929268\n",
      "[23]\tvalid_0's binary_logloss: 0.134355\tvalid_0's auc: 0.928388\n",
      "[24]\tvalid_0's binary_logloss: 0.134612\tvalid_0's auc: 0.92815\n",
      "[25]\tvalid_0's binary_logloss: 0.134029\tvalid_0's auc: 0.927846\n",
      "[26]\tvalid_0's binary_logloss: 0.133994\tvalid_0's auc: 0.927812\n",
      "[27]\tvalid_0's binary_logloss: 0.134558\tvalid_0's auc: 0.926253\n",
      "[28]\tvalid_0's binary_logloss: 0.13457\tvalid_0's auc: 0.927473\n",
      "[29]\tvalid_0's binary_logloss: 0.133194\tvalid_0's auc: 0.928862\n",
      "Early stopping, best iteration is:\n",
      "[19]\tvalid_0's binary_logloss: 0.133818\tvalid_0's auc: 0.932995\n",
      "[1]\tvalid_0's binary_logloss: 0.194634\tvalid_0's auc: 0.80669\n",
      "Training until validation scores don't improve for 10 rounds.\n",
      "[2]\tvalid_0's binary_logloss: 0.186125\tvalid_0's auc: 0.86189\n",
      "[3]\tvalid_0's binary_logloss: 0.178644\tvalid_0's auc: 0.875576\n",
      "[4]\tvalid_0's binary_logloss: 0.172588\tvalid_0's auc: 0.887619\n",
      "[5]\tvalid_0's binary_logloss: 0.166732\tvalid_0's auc: 0.902829\n",
      "[6]\tvalid_0's binary_logloss: 0.161407\tvalid_0's auc: 0.911196\n",
      "[7]\tvalid_0's binary_logloss: 0.156791\tvalid_0's auc: 0.918818\n",
      "[8]\tvalid_0's binary_logloss: 0.153831\tvalid_0's auc: 0.919749\n",
      "[9]\tvalid_0's binary_logloss: 0.149613\tvalid_0's auc: 0.924085\n",
      "[10]\tvalid_0's binary_logloss: 0.146987\tvalid_0's auc: 0.925644\n",
      "[11]\tvalid_0's binary_logloss: 0.144761\tvalid_0's auc: 0.929065\n",
      "[12]\tvalid_0's binary_logloss: 0.142046\tvalid_0's auc: 0.932622\n",
      "[13]\tvalid_0's binary_logloss: 0.140237\tvalid_0's auc: 0.932114\n",
      "[14]\tvalid_0's binary_logloss: 0.137587\tvalid_0's auc: 0.935637\n",
      "[15]\tvalid_0's binary_logloss: 0.135979\tvalid_0's auc: 0.935501\n",
      "[16]\tvalid_0's binary_logloss: 0.134149\tvalid_0's auc: 0.937229\n",
      "[17]\tvalid_0's binary_logloss: 0.133045\tvalid_0's auc: 0.937195\n",
      "[18]\tvalid_0's binary_logloss: 0.132836\tvalid_0's auc: 0.935705\n",
      "[19]\tvalid_0's binary_logloss: 0.133179\tvalid_0's auc: 0.935061\n",
      "[20]\tvalid_0's binary_logloss: 0.133378\tvalid_0's auc: 0.934146\n",
      "[21]\tvalid_0's binary_logloss: 0.131941\tvalid_0's auc: 0.935976\n",
      "[22]\tvalid_0's binary_logloss: 0.131244\tvalid_0's auc: 0.937263\n",
      "[23]\tvalid_0's binary_logloss: 0.1306\tvalid_0's auc: 0.938516\n",
      "[24]\tvalid_0's binary_logloss: 0.130302\tvalid_0's auc: 0.938415\n",
      "[25]\tvalid_0's binary_logloss: 0.130503\tvalid_0's auc: 0.937534\n",
      "[26]\tvalid_0's binary_logloss: 0.130361\tvalid_0's auc: 0.938482\n",
      "[27]\tvalid_0's binary_logloss: 0.131195\tvalid_0's auc: 0.937161\n",
      "[28]\tvalid_0's binary_logloss: 0.129735\tvalid_0's auc: 0.938618\n",
      "[29]\tvalid_0's binary_logloss: 0.129181\tvalid_0's auc: 0.93916\n",
      "[30]\tvalid_0's binary_logloss: 0.1289\tvalid_0's auc: 0.939668\n",
      "[31]\tvalid_0's binary_logloss: 0.128569\tvalid_0's auc: 0.939465\n",
      "[32]\tvalid_0's binary_logloss: 0.129178\tvalid_0's auc: 0.938991\n",
      "[33]\tvalid_0's binary_logloss: 0.128548\tvalid_0's auc: 0.939566\n",
      "[34]\tvalid_0's binary_logloss: 0.128473\tvalid_0's auc: 0.939871\n",
      "[35]\tvalid_0's binary_logloss: 0.127562\tvalid_0's auc: 0.942717\n",
      "[36]\tvalid_0's binary_logloss: 0.127064\tvalid_0's auc: 0.943293\n",
      "[37]\tvalid_0's binary_logloss: 0.127166\tvalid_0's auc: 0.94397\n",
      "[38]\tvalid_0's binary_logloss: 0.126778\tvalid_0's auc: 0.944343\n",
      "[39]\tvalid_0's binary_logloss: 0.12715\tvalid_0's auc: 0.945393\n",
      "[40]\tvalid_0's binary_logloss: 0.126675\tvalid_0's auc: 0.946714\n",
      "[41]\tvalid_0's binary_logloss: 0.126828\tvalid_0's auc: 0.946883\n",
      "[42]\tvalid_0's binary_logloss: 0.127823\tvalid_0's auc: 0.945969\n",
      "[43]\tvalid_0's binary_logloss: 0.128555\tvalid_0's auc: 0.945935\n",
      "[44]\tvalid_0's binary_logloss: 0.129349\tvalid_0's auc: 0.945833\n",
      "[45]\tvalid_0's binary_logloss: 0.129829\tvalid_0's auc: 0.946545\n",
      "[46]\tvalid_0's binary_logloss: 0.130696\tvalid_0's auc: 0.946646\n",
      "[47]\tvalid_0's binary_logloss: 0.130424\tvalid_0's auc: 0.94668\n",
      "[48]\tvalid_0's binary_logloss: 0.131354\tvalid_0's auc: 0.945833\n",
      "[49]\tvalid_0's binary_logloss: 0.132515\tvalid_0's auc: 0.945935\n",
      "[50]\tvalid_0's binary_logloss: 0.13214\tvalid_0's auc: 0.946816\n",
      "Early stopping, best iteration is:\n",
      "[40]\tvalid_0's binary_logloss: 0.126675\tvalid_0's auc: 0.946714\n",
      "[1]\tvalid_0's binary_logloss: 0.194634\tvalid_0's auc: 0.80669\n",
      "Training until validation scores don't improve for 10 rounds.\n",
      "[2]\tvalid_0's binary_logloss: 0.186125\tvalid_0's auc: 0.860874\n",
      "[3]\tvalid_0's binary_logloss: 0.178644\tvalid_0's auc: 0.875576\n",
      "[4]\tvalid_0's binary_logloss: 0.172588\tvalid_0's auc: 0.887619\n",
      "[5]\tvalid_0's binary_logloss: 0.166732\tvalid_0's auc: 0.902829\n",
      "[6]\tvalid_0's binary_logloss: 0.161407\tvalid_0's auc: 0.911162\n",
      "[7]\tvalid_0's binary_logloss: 0.156791\tvalid_0's auc: 0.918818\n",
      "[8]\tvalid_0's binary_logloss: 0.153831\tvalid_0's auc: 0.919749\n",
      "[9]\tvalid_0's binary_logloss: 0.149612\tvalid_0's auc: 0.924085\n",
      "[10]\tvalid_0's binary_logloss: 0.146986\tvalid_0's auc: 0.925644\n",
      "[11]\tvalid_0's binary_logloss: 0.144761\tvalid_0's auc: 0.929065\n",
      "[12]\tvalid_0's binary_logloss: 0.142046\tvalid_0's auc: 0.932622\n",
      "[13]\tvalid_0's binary_logloss: 0.140237\tvalid_0's auc: 0.932114\n",
      "[14]\tvalid_0's binary_logloss: 0.137587\tvalid_0's auc: 0.935637\n",
      "[15]\tvalid_0's binary_logloss: 0.135978\tvalid_0's auc: 0.935501\n",
      "[16]\tvalid_0's binary_logloss: 0.134148\tvalid_0's auc: 0.937229\n",
      "[17]\tvalid_0's binary_logloss: 0.133044\tvalid_0's auc: 0.937195\n",
      "[18]\tvalid_0's binary_logloss: 0.132836\tvalid_0's auc: 0.935705\n",
      "[19]\tvalid_0's binary_logloss: 0.133178\tvalid_0's auc: 0.935061\n",
      "[20]\tvalid_0's binary_logloss: 0.133377\tvalid_0's auc: 0.934146\n",
      "[21]\tvalid_0's binary_logloss: 0.13194\tvalid_0's auc: 0.936009\n",
      "[22]\tvalid_0's binary_logloss: 0.131243\tvalid_0's auc: 0.937263\n",
      "[23]\tvalid_0's binary_logloss: 0.130599\tvalid_0's auc: 0.938516\n",
      "[24]\tvalid_0's binary_logloss: 0.130301\tvalid_0's auc: 0.938415\n",
      "[25]\tvalid_0's binary_logloss: 0.130502\tvalid_0's auc: 0.937568\n",
      "[26]\tvalid_0's binary_logloss: 0.13036\tvalid_0's auc: 0.938482\n",
      "[27]\tvalid_0's binary_logloss: 0.131195\tvalid_0's auc: 0.937127\n",
      "[28]\tvalid_0's binary_logloss: 0.129734\tvalid_0's auc: 0.938618\n",
      "[29]\tvalid_0's binary_logloss: 0.12918\tvalid_0's auc: 0.939228\n",
      "[30]\tvalid_0's binary_logloss: 0.128901\tvalid_0's auc: 0.939634\n",
      "[31]\tvalid_0's binary_logloss: 0.128569\tvalid_0's auc: 0.939465\n",
      "[32]\tvalid_0's binary_logloss: 0.129179\tvalid_0's auc: 0.938991\n",
      "[33]\tvalid_0's binary_logloss: 0.128549\tvalid_0's auc: 0.939566\n",
      "[34]\tvalid_0's binary_logloss: 0.128474\tvalid_0's auc: 0.939905\n",
      "[35]\tvalid_0's binary_logloss: 0.127562\tvalid_0's auc: 0.942717\n",
      "[36]\tvalid_0's binary_logloss: 0.127064\tvalid_0's auc: 0.943293\n",
      "[37]\tvalid_0's binary_logloss: 0.127166\tvalid_0's auc: 0.94397\n",
      "[38]\tvalid_0's binary_logloss: 0.126778\tvalid_0's auc: 0.944343\n",
      "[39]\tvalid_0's binary_logloss: 0.12715\tvalid_0's auc: 0.945393\n",
      "[40]\tvalid_0's binary_logloss: 0.126674\tvalid_0's auc: 0.946714\n",
      "[41]\tvalid_0's binary_logloss: 0.126828\tvalid_0's auc: 0.94685\n",
      "[42]\tvalid_0's binary_logloss: 0.127823\tvalid_0's auc: 0.946003\n",
      "[43]\tvalid_0's binary_logloss: 0.128555\tvalid_0's auc: 0.945935\n",
      "[44]\tvalid_0's binary_logloss: 0.129349\tvalid_0's auc: 0.945833\n",
      "[45]\tvalid_0's binary_logloss: 0.129829\tvalid_0's auc: 0.946579\n",
      "[46]\tvalid_0's binary_logloss: 0.130696\tvalid_0's auc: 0.946612\n",
      "[47]\tvalid_0's binary_logloss: 0.130424\tvalid_0's auc: 0.94668\n",
      "[48]\tvalid_0's binary_logloss: 0.131354\tvalid_0's auc: 0.945833\n",
      "[49]\tvalid_0's binary_logloss: 0.132515\tvalid_0's auc: 0.945935\n",
      "[50]\tvalid_0's binary_logloss: 0.13214\tvalid_0's auc: 0.94685\n",
      "Early stopping, best iteration is:\n",
      "[40]\tvalid_0's binary_logloss: 0.126674\tvalid_0's auc: 0.946714\n",
      "[1]\tvalid_0's binary_logloss: 0.194634\tvalid_0's auc: 0.80669\n",
      "Training until validation scores don't improve for 10 rounds.\n",
      "[2]\tvalid_0's binary_logloss: 0.186125\tvalid_0's auc: 0.860874\n",
      "[3]\tvalid_0's binary_logloss: 0.178644\tvalid_0's auc: 0.875576\n",
      "[4]\tvalid_0's binary_logloss: 0.172588\tvalid_0's auc: 0.887619\n",
      "[5]\tvalid_0's binary_logloss: 0.166732\tvalid_0's auc: 0.902829\n",
      "[6]\tvalid_0's binary_logloss: 0.161407\tvalid_0's auc: 0.911162\n",
      "[7]\tvalid_0's binary_logloss: 0.156791\tvalid_0's auc: 0.918818\n",
      "[8]\tvalid_0's binary_logloss: 0.153831\tvalid_0's auc: 0.919749\n",
      "[9]\tvalid_0's binary_logloss: 0.149612\tvalid_0's auc: 0.924085\n",
      "[10]\tvalid_0's binary_logloss: 0.146986\tvalid_0's auc: 0.925644\n",
      "[11]\tvalid_0's binary_logloss: 0.144761\tvalid_0's auc: 0.929065\n",
      "[12]\tvalid_0's binary_logloss: 0.142046\tvalid_0's auc: 0.932622\n",
      "[13]\tvalid_0's binary_logloss: 0.140237\tvalid_0's auc: 0.932114\n",
      "[14]\tvalid_0's binary_logloss: 0.137587\tvalid_0's auc: 0.935637\n",
      "[15]\tvalid_0's binary_logloss: 0.135978\tvalid_0's auc: 0.935501\n",
      "[16]\tvalid_0's binary_logloss: 0.134148\tvalid_0's auc: 0.937229\n",
      "[17]\tvalid_0's binary_logloss: 0.133044\tvalid_0's auc: 0.937195\n",
      "[18]\tvalid_0's binary_logloss: 0.132836\tvalid_0's auc: 0.935705\n",
      "[19]\tvalid_0's binary_logloss: 0.133178\tvalid_0's auc: 0.935061\n",
      "[20]\tvalid_0's binary_logloss: 0.133377\tvalid_0's auc: 0.934146\n",
      "[21]\tvalid_0's binary_logloss: 0.13194\tvalid_0's auc: 0.936009\n",
      "[22]\tvalid_0's binary_logloss: 0.131243\tvalid_0's auc: 0.937263\n"
     ]
    },
    {
     "name": "stdout",
     "output_type": "stream",
     "text": [
      "[23]\tvalid_0's binary_logloss: 0.130599\tvalid_0's auc: 0.938516\n",
      "[24]\tvalid_0's binary_logloss: 0.130301\tvalid_0's auc: 0.938415\n",
      "[25]\tvalid_0's binary_logloss: 0.130502\tvalid_0's auc: 0.937568\n",
      "[26]\tvalid_0's binary_logloss: 0.13036\tvalid_0's auc: 0.938482\n",
      "[27]\tvalid_0's binary_logloss: 0.131195\tvalid_0's auc: 0.937127\n",
      "[28]\tvalid_0's binary_logloss: 0.129734\tvalid_0's auc: 0.938618\n",
      "[29]\tvalid_0's binary_logloss: 0.12918\tvalid_0's auc: 0.939228\n",
      "[30]\tvalid_0's binary_logloss: 0.128901\tvalid_0's auc: 0.939634\n",
      "[31]\tvalid_0's binary_logloss: 0.128569\tvalid_0's auc: 0.939465\n",
      "[32]\tvalid_0's binary_logloss: 0.129179\tvalid_0's auc: 0.938991\n",
      "[33]\tvalid_0's binary_logloss: 0.128549\tvalid_0's auc: 0.939566\n",
      "[34]\tvalid_0's binary_logloss: 0.128474\tvalid_0's auc: 0.939905\n",
      "[35]\tvalid_0's binary_logloss: 0.127562\tvalid_0's auc: 0.942717\n",
      "[36]\tvalid_0's binary_logloss: 0.127064\tvalid_0's auc: 0.943293\n",
      "[37]\tvalid_0's binary_logloss: 0.127166\tvalid_0's auc: 0.94397\n",
      "[38]\tvalid_0's binary_logloss: 0.126778\tvalid_0's auc: 0.944343\n",
      "[39]\tvalid_0's binary_logloss: 0.12715\tvalid_0's auc: 0.945393\n",
      "[40]\tvalid_0's binary_logloss: 0.126674\tvalid_0's auc: 0.946714\n",
      "[41]\tvalid_0's binary_logloss: 0.126828\tvalid_0's auc: 0.94685\n",
      "[42]\tvalid_0's binary_logloss: 0.127823\tvalid_0's auc: 0.946003\n",
      "[43]\tvalid_0's binary_logloss: 0.128555\tvalid_0's auc: 0.945935\n",
      "[44]\tvalid_0's binary_logloss: 0.129349\tvalid_0's auc: 0.945833\n",
      "[45]\tvalid_0's binary_logloss: 0.129829\tvalid_0's auc: 0.946579\n",
      "[46]\tvalid_0's binary_logloss: 0.130696\tvalid_0's auc: 0.946612\n",
      "[47]\tvalid_0's binary_logloss: 0.130424\tvalid_0's auc: 0.94668\n",
      "[48]\tvalid_0's binary_logloss: 0.131354\tvalid_0's auc: 0.945833\n",
      "[49]\tvalid_0's binary_logloss: 0.132515\tvalid_0's auc: 0.945935\n",
      "[50]\tvalid_0's binary_logloss: 0.13214\tvalid_0's auc: 0.94685\n",
      "Early stopping, best iteration is:\n",
      "[40]\tvalid_0's binary_logloss: 0.126674\tvalid_0's auc: 0.946714\n",
      "[1]\tvalid_0's binary_logloss: 0.194634\tvalid_0's auc: 0.80669\n",
      "Training until validation scores don't improve for 10 rounds.\n",
      "[2]\tvalid_0's binary_logloss: 0.186125\tvalid_0's auc: 0.860874\n",
      "[3]\tvalid_0's binary_logloss: 0.178644\tvalid_0's auc: 0.875576\n",
      "[4]\tvalid_0's binary_logloss: 0.172588\tvalid_0's auc: 0.887619\n",
      "[5]\tvalid_0's binary_logloss: 0.166732\tvalid_0's auc: 0.902829\n",
      "[6]\tvalid_0's binary_logloss: 0.161407\tvalid_0's auc: 0.911162\n",
      "[7]\tvalid_0's binary_logloss: 0.156791\tvalid_0's auc: 0.918818\n",
      "[8]\tvalid_0's binary_logloss: 0.153831\tvalid_0's auc: 0.919749\n",
      "[9]\tvalid_0's binary_logloss: 0.149612\tvalid_0's auc: 0.924085\n",
      "[10]\tvalid_0's binary_logloss: 0.146986\tvalid_0's auc: 0.925644\n",
      "[11]\tvalid_0's binary_logloss: 0.144761\tvalid_0's auc: 0.929065\n",
      "[12]\tvalid_0's binary_logloss: 0.142046\tvalid_0's auc: 0.932622\n",
      "[13]\tvalid_0's binary_logloss: 0.140237\tvalid_0's auc: 0.932114\n",
      "[14]\tvalid_0's binary_logloss: 0.137587\tvalid_0's auc: 0.935637\n",
      "[15]\tvalid_0's binary_logloss: 0.135978\tvalid_0's auc: 0.935501\n",
      "[16]\tvalid_0's binary_logloss: 0.134148\tvalid_0's auc: 0.937229\n",
      "[17]\tvalid_0's binary_logloss: 0.133044\tvalid_0's auc: 0.937195\n",
      "[18]\tvalid_0's binary_logloss: 0.132836\tvalid_0's auc: 0.935705\n",
      "[19]\tvalid_0's binary_logloss: 0.133178\tvalid_0's auc: 0.935061\n",
      "[20]\tvalid_0's binary_logloss: 0.133377\tvalid_0's auc: 0.934146\n",
      "[21]\tvalid_0's binary_logloss: 0.13194\tvalid_0's auc: 0.936009\n",
      "[22]\tvalid_0's binary_logloss: 0.131243\tvalid_0's auc: 0.937263\n",
      "[23]\tvalid_0's binary_logloss: 0.130599\tvalid_0's auc: 0.938516\n",
      "[24]\tvalid_0's binary_logloss: 0.130301\tvalid_0's auc: 0.938415\n",
      "[25]\tvalid_0's binary_logloss: 0.130502\tvalid_0's auc: 0.937568\n",
      "[26]\tvalid_0's binary_logloss: 0.13036\tvalid_0's auc: 0.938482\n",
      "[27]\tvalid_0's binary_logloss: 0.131195\tvalid_0's auc: 0.937127\n",
      "[28]\tvalid_0's binary_logloss: 0.129734\tvalid_0's auc: 0.938618\n",
      "[29]\tvalid_0's binary_logloss: 0.12918\tvalid_0's auc: 0.939228\n",
      "[30]\tvalid_0's binary_logloss: 0.128901\tvalid_0's auc: 0.939634\n",
      "[31]\tvalid_0's binary_logloss: 0.128569\tvalid_0's auc: 0.939465\n",
      "[32]\tvalid_0's binary_logloss: 0.129179\tvalid_0's auc: 0.938991\n",
      "[33]\tvalid_0's binary_logloss: 0.128549\tvalid_0's auc: 0.939566\n",
      "[34]\tvalid_0's binary_logloss: 0.128474\tvalid_0's auc: 0.939905\n",
      "[35]\tvalid_0's binary_logloss: 0.127562\tvalid_0's auc: 0.942717\n",
      "[36]\tvalid_0's binary_logloss: 0.127064\tvalid_0's auc: 0.943293\n",
      "[37]\tvalid_0's binary_logloss: 0.127166\tvalid_0's auc: 0.94397\n",
      "[38]\tvalid_0's binary_logloss: 0.126778\tvalid_0's auc: 0.944343\n",
      "[39]\tvalid_0's binary_logloss: 0.12715\tvalid_0's auc: 0.945393\n",
      "[40]\tvalid_0's binary_logloss: 0.126674\tvalid_0's auc: 0.946714\n",
      "[41]\tvalid_0's binary_logloss: 0.126828\tvalid_0's auc: 0.94685\n",
      "[42]\tvalid_0's binary_logloss: 0.127823\tvalid_0's auc: 0.946003\n",
      "[43]\tvalid_0's binary_logloss: 0.128555\tvalid_0's auc: 0.945935\n",
      "[44]\tvalid_0's binary_logloss: 0.129349\tvalid_0's auc: 0.945833\n",
      "[45]\tvalid_0's binary_logloss: 0.129829\tvalid_0's auc: 0.946579\n",
      "[46]\tvalid_0's binary_logloss: 0.130696\tvalid_0's auc: 0.946612\n",
      "[47]\tvalid_0's binary_logloss: 0.130424\tvalid_0's auc: 0.94668\n",
      "[48]\tvalid_0's binary_logloss: 0.131354\tvalid_0's auc: 0.945833\n",
      "[49]\tvalid_0's binary_logloss: 0.132515\tvalid_0's auc: 0.945935\n",
      "[50]\tvalid_0's binary_logloss: 0.13214\tvalid_0's auc: 0.94685\n",
      "Early stopping, best iteration is:\n",
      "[40]\tvalid_0's binary_logloss: 0.126674\tvalid_0's auc: 0.946714\n"
     ]
    }
   ],
   "source": [
    "L = []\n",
    "R = []\n",
    "auc = []\n",
    "# 比较不同的num_leaves\n",
    "for num in [30, 50, 70, 90, 110]:\n",
    "    clf = LGBMClassifier(boosting_type='gbdt', \n",
    "                             objective='binary',\n",
    "                             num_leaves = num\n",
    "                        )  \n",
    "    clf.fit(X_train, y_train, eval_set=[(X_test, y_test)], eval_metric='auc', early_stopping_rounds=10)  \n",
    "    \n",
    "    y_score = clf.predict_proba(X_test)[:, 1]\n",
    "    L.append(metrics.roc_curve(y_test, y_score)[0])\n",
    "    R.append(metrics.roc_curve(y_test, y_score)[1])\n",
    "    auc.append(metrics.roc_auc_score(y_test,y_score))"
   ]
  },
  {
   "cell_type": "code",
   "execution_count": 8,
   "metadata": {},
   "outputs": [
    {
     "name": "stdout",
     "output_type": "stream",
     "text": [
      "[0.932960704607046, 0.9467140921409214, 0.9467140921409214, 0.9467140921409214, 0.9467140921409214]\n"
     ]
    },
    {
     "data": {
      "image/png": "[encoded data removed]",
      "text/plain": [
       "<Figure size 432x288 with 1 Axes>"
      ]
     },
     "metadata": {
      "needs_background": "light"
     },
     "output_type": "display_data"
    }
   ],
   "source": [
    "print(auc)\n",
    "plt.plot(L[0], R[0], marker = 'o') \n",
    "plt.plot(L[1], R[1], marker = '*') \n",
    "plt.plot(L[2], R[2], marker = '^') \n",
    "plt.plot(L[3], R[3], marker = '.')\n",
    "plt.plot(L[4], R[4], marker = 'o') \n",
    "plt.show()"
   ]
  },
  {
   "cell_type": "markdown",
   "metadata": {},
   "source": [
    "As num_leaves increases, the auc decreases first, then increases, because the model fits better and better, then overfits."
   ]
  },
  {
   "cell_type": "markdown",
   "metadata": {},
   "source": [
    "3) different n_estimators in RF"
   ]
  },
  {
   "cell_type": "code",
   "execution_count": 9,
   "metadata": {},
   "outputs": [],
   "source": [
    "L = []\n",
    "R = []\n",
    "auc = []\n",
    "\n",
    "# 比较不同的n_estimators\n",
    "for num in [100, 200, 300, 400, 500]:\n",
    "    clf = RandomForestClassifier(n_estimators=num)\n",
    "    clf.fit(X_train, y_train)  \n",
    "    \n",
    "    y_score = clf.predict_proba(X_test)[:, 1]\n",
    "    L.append(metrics.roc_curve(y_test, y_score)[0])\n",
    "    R.append(metrics.roc_curve(y_test, y_score)[1])\n",
    "    auc.append(metrics.roc_auc_score(y_test,y_score))"
   ]
  },
  {
   "cell_type": "code",
   "execution_count": 10,
   "metadata": {},
   "outputs": [
    {
     "name": "stdout",
     "output_type": "stream",
     "text": [
      "[0.93755081300813, 0.9370088075880759, 0.9355352303523035, 0.9421917344173443, 0.9423272357723578]\n"
     ]
    },
    {
     "data": {
      "image/png": "[encoded data removed]",
      "text/plain": [
       "<Figure size 432x288 with 1 Axes>"
      ]
     },
     "metadata": {
      "needs_background": "light"
     },
     "output_type": "display_data"
    }
   ],
   "source": [
    "print(auc)\n",
    "plt.plot(L[0], R[0], marker = 'o') \n",
    "plt.plot(L[1], R[1], marker = '*') \n",
    "plt.plot(L[2], R[2], marker = '^') \n",
    "plt.plot(L[3], R[3], marker = '.')\n",
    "plt.plot(L[4], R[4], marker = 'o') \n",
    "plt.show()"
   ]
  },
  {
   "cell_type": "markdown",
   "metadata": {},
   "source": [
    "With the increase of n_estimators, the auc first decreases, then increases, and then becomes stable, indicating that the model tends to be stable after the value of n_estimators is larger."
   ]
  },
  {
   "cell_type": "markdown",
   "metadata": {},
   "source": [
    "4) different bootstrap in RF"
   ]
  },
  {
   "cell_type": "code",
   "execution_count": 11,
   "metadata": {},
   "outputs": [
    {
     "name": "stderr",
     "output_type": "stream",
     "text": [
      "/home/ming/.local/lib/python3.6/site-packages/sklearn/ensemble/forest.py:245: FutureWarning: The default value of n_estimators will change from 10 in version 0.20 to 100 in 0.22.\n",
      "  \"10 in version 0.20 to 100 in 0.22.\", FutureWarning)\n",
      "/home/ming/.local/lib/python3.6/site-packages/sklearn/ensemble/forest.py:245: FutureWarning: The default value of n_estimators will change from 10 in version 0.20 to 100 in 0.22.\n",
      "  \"10 in version 0.20 to 100 in 0.22.\", FutureWarning)\n"
     ]
    }
   ],
   "source": [
    "L = []\n",
    "R = []\n",
    "auc = []\n",
    "\n",
    "# 比较RF不同的bootstrap\n",
    "for bootstrap in [True, False]:\n",
    "    clf = RandomForestClassifier(bootstrap=bootstrap)\n",
    "    clf.fit(X_train, y_train)  \n",
    "    \n",
    "    y_score = clf.predict_proba(X_test)[:, 1]\n",
    "    L.append(metrics.roc_curve(y_test, y_score)[0])\n",
    "    R.append(metrics.roc_curve(y_test, y_score)[1])\n",
    "    auc.append(metrics.roc_auc_score(y_test,y_score))"
   ]
  },
  {
   "cell_type": "code",
   "execution_count": 12,
   "metadata": {},
   "outputs": [
    {
     "name": "stdout",
     "output_type": "stream",
     "text": [
      "[0.8393970189701896, 0.8635670731707318]\n"
     ]
    },
    {
     "data": {
      "image/png": "[encoded data removed]",
      "text/plain": [
       "<Figure size 432x288 with 1 Axes>"
      ]
     },
     "metadata": {
      "needs_background": "light"
     },
     "output_type": "display_data"
    }
   ],
   "source": [
    "print(auc)\n",
    "plt.plot(L[0], R[0], marker = 'o') \n",
    "plt.plot(L[1], R[1], marker = '*') \n",
    "plt.show()"
   ]
  },
  {
   "cell_type": "markdown",
   "metadata": {},
   "source": [
    "From the model effect, the effect of sampling without replacement is better than that with replacement."
   ]
  },
  {
   "cell_type": "markdown",
   "metadata": {},
   "source": [
    "# defferent data split ratio"
   ]
  },
  {
   "cell_type": "code",
   "execution_count": 13,
   "metadata": {},
   "outputs": [
    {
     "name": "stdout",
     "output_type": "stream",
     "text": [
      "[1]\tvalid_0's binary_logloss: 0.194634\tvalid_0's auc: 0.804099\n",
      "Training until validation scores don't improve for 10 rounds.\n",
      "[2]\tvalid_0's binary_logloss: 0.186128\tvalid_0's auc: 0.846104\n",
      "[3]\tvalid_0's binary_logloss: 0.178648\tvalid_0's auc: 0.874983\n",
      "[4]\tvalid_0's binary_logloss: 0.172587\tvalid_0's auc: 0.8875\n",
      "[5]\tvalid_0's binary_logloss: 0.166717\tvalid_0's auc: 0.902761\n",
      "[6]\tvalid_0's binary_logloss: 0.161392\tvalid_0's auc: 0.911196\n",
      "[7]\tvalid_0's binary_logloss: 0.156775\tvalid_0's auc: 0.918852\n",
      "[8]\tvalid_0's binary_logloss: 0.153817\tvalid_0's auc: 0.919682\n",
      "[9]\tvalid_0's binary_logloss: 0.149595\tvalid_0's auc: 0.923916\n",
      "[10]\tvalid_0's binary_logloss: 0.146969\tvalid_0's auc: 0.92544\n",
      "[11]\tvalid_0's binary_logloss: 0.144294\tvalid_0's auc: 0.928997\n",
      "[12]\tvalid_0's binary_logloss: 0.143315\tvalid_0's auc: 0.928896\n",
      "[13]\tvalid_0's binary_logloss: 0.141672\tvalid_0's auc: 0.927541\n",
      "[14]\tvalid_0's binary_logloss: 0.140397\tvalid_0's auc: 0.927981\n",
      "[15]\tvalid_0's binary_logloss: 0.138203\tvalid_0's auc: 0.931131\n",
      "[16]\tvalid_0's binary_logloss: 0.13779\tvalid_0's auc: 0.92998\n",
      "[17]\tvalid_0's binary_logloss: 0.136688\tvalid_0's auc: 0.929336\n",
      "[18]\tvalid_0's binary_logloss: 0.135807\tvalid_0's auc: 0.929743\n",
      "[19]\tvalid_0's binary_logloss: 0.134145\tvalid_0's auc: 0.932486\n",
      "[20]\tvalid_0's binary_logloss: 0.13319\tvalid_0's auc: 0.932554\n",
      "[21]\tvalid_0's binary_logloss: 0.133663\tvalid_0's auc: 0.931098\n",
      "[22]\tvalid_0's binary_logloss: 0.134477\tvalid_0's auc: 0.928896\n",
      "[23]\tvalid_0's binary_logloss: 0.135034\tvalid_0's auc: 0.927913\n",
      "[24]\tvalid_0's binary_logloss: 0.134857\tvalid_0's auc: 0.927676\n",
      "[25]\tvalid_0's binary_logloss: 0.135199\tvalid_0's auc: 0.927134\n",
      "[26]\tvalid_0's binary_logloss: 0.135156\tvalid_0's auc: 0.927744\n",
      "[27]\tvalid_0's binary_logloss: 0.135193\tvalid_0's auc: 0.928286\n",
      "[28]\tvalid_0's binary_logloss: 0.134227\tvalid_0's auc: 0.930386\n",
      "[29]\tvalid_0's binary_logloss: 0.133943\tvalid_0's auc: 0.930149\n",
      "[30]\tvalid_0's binary_logloss: 0.133505\tvalid_0's auc: 0.931335\n",
      "Early stopping, best iteration is:\n",
      "[20]\tvalid_0's binary_logloss: 0.13319\tvalid_0's auc: 0.932554\n",
      "[1]\tvalid_0's binary_logloss: 0.200473\tvalid_0's auc: 0.781481\n",
      "Training until validation scores don't improve for 10 rounds.\n",
      "[2]\tvalid_0's binary_logloss: 0.193142\tvalid_0's auc: 0.799474\n",
      "[3]\tvalid_0's binary_logloss: 0.18368\tvalid_0's auc: 0.839392\n",
      "[4]\tvalid_0's binary_logloss: 0.17642\tvalid_0's auc: 0.863151\n",
      "[5]\tvalid_0's binary_logloss: 0.172915\tvalid_0's auc: 0.872527\n",
      "[6]\tvalid_0's binary_logloss: 0.169232\tvalid_0's auc: 0.884104\n",
      "[7]\tvalid_0's binary_logloss: 0.165593\tvalid_0's auc: 0.884746\n",
      "[8]\tvalid_0's binary_logloss: 0.161919\tvalid_0's auc: 0.890154\n",
      "[9]\tvalid_0's binary_logloss: 0.158899\tvalid_0's auc: 0.894324\n",
      "[10]\tvalid_0's binary_logloss: 0.156285\tvalid_0's auc: 0.900887\n",
      "[11]\tvalid_0's binary_logloss: 0.153987\tvalid_0's auc: 0.902546\n",
      "[12]\tvalid_0's binary_logloss: 0.153172\tvalid_0's auc: 0.901355\n",
      "[13]\tvalid_0's binary_logloss: 0.150402\tvalid_0's auc: 0.908834\n",
      "[14]\tvalid_0's binary_logloss: 0.148415\tvalid_0's auc: 0.912042\n",
      "[15]\tvalid_0's binary_logloss: 0.146537\tvalid_0's auc: 0.914316\n",
      "[16]\tvalid_0's binary_logloss: 0.145235\tvalid_0's auc: 0.916204\n",
      "[17]\tvalid_0's binary_logloss: 0.144907\tvalid_0's auc: 0.913912\n",
      "[18]\tvalid_0's binary_logloss: 0.142743\tvalid_0's auc: 0.919018\n",
      "[19]\tvalid_0's binary_logloss: 0.142429\tvalid_0's auc: 0.917295\n",
      "[20]\tvalid_0's binary_logloss: 0.142799\tvalid_0's auc: 0.915168\n",
      "[21]\tvalid_0's binary_logloss: 0.142113\tvalid_0's auc: 0.914609\n",
      "[22]\tvalid_0's binary_logloss: 0.141241\tvalid_0's auc: 0.917542\n",
      "[23]\tvalid_0's binary_logloss: 0.140615\tvalid_0's auc: 0.917377\n",
      "[24]\tvalid_0's binary_logloss: 0.139868\tvalid_0's auc: 0.919467\n",
      "[25]\tvalid_0's binary_logloss: 0.13945\tvalid_0's auc: 0.919595\n",
      "[26]\tvalid_0's binary_logloss: 0.139032\tvalid_0's auc: 0.920695\n",
      "[27]\tvalid_0's binary_logloss: 0.138245\tvalid_0's auc: 0.922052\n",
      "[28]\tvalid_0's binary_logloss: 0.138484\tvalid_0's auc: 0.920347\n",
      "[29]\tvalid_0's binary_logloss: 0.138739\tvalid_0's auc: 0.921337\n",
      "[30]\tvalid_0's binary_logloss: 0.140215\tvalid_0's auc: 0.919137\n",
      "[31]\tvalid_0's binary_logloss: 0.140483\tvalid_0's auc: 0.919559\n",
      "[32]\tvalid_0's binary_logloss: 0.140721\tvalid_0's auc: 0.919925\n",
      "[33]\tvalid_0's binary_logloss: 0.14161\tvalid_0's auc: 0.919247\n",
      "[34]\tvalid_0's binary_logloss: 0.142378\tvalid_0's auc: 0.919045\n",
      "[35]\tvalid_0's binary_logloss: 0.142056\tvalid_0's auc: 0.921135\n",
      "[36]\tvalid_0's binary_logloss: 0.142972\tvalid_0's auc: 0.921373\n",
      "[37]\tvalid_0's binary_logloss: 0.142888\tvalid_0's auc: 0.921777\n",
      "Early stopping, best iteration is:\n",
      "[27]\tvalid_0's binary_logloss: 0.138245\tvalid_0's auc: 0.922052\n",
      "[1]\tvalid_0's binary_logloss: 0.1976\tvalid_0's auc: 0.846613\n",
      "Training until validation scores don't improve for 10 rounds.\n",
      "[2]\tvalid_0's binary_logloss: 0.18613\tvalid_0's auc: 0.894248\n",
      "[3]\tvalid_0's binary_logloss: 0.178553\tvalid_0's auc: 0.906331\n",
      "[4]\tvalid_0's binary_logloss: 0.172535\tvalid_0's auc: 0.905566\n",
      "[5]\tvalid_0's binary_logloss: 0.167161\tvalid_0's auc: 0.909452\n",
      "[6]\tvalid_0's binary_logloss: 0.161517\tvalid_0's auc: 0.912608\n",
      "[7]\tvalid_0's binary_logloss: 0.158614\tvalid_0's auc: 0.911407\n",
      "[8]\tvalid_0's binary_logloss: 0.155176\tvalid_0's auc: 0.912855\n",
      "[9]\tvalid_0's binary_logloss: 0.151923\tvalid_0's auc: 0.909405\n",
      "[10]\tvalid_0's binary_logloss: 0.149308\tvalid_0's auc: 0.911224\n",
      "[11]\tvalid_0's binary_logloss: 0.145514\tvalid_0's auc: 0.913167\n",
      "[12]\tvalid_0's binary_logloss: 0.142536\tvalid_0's auc: 0.915316\n",
      "[13]\tvalid_0's binary_logloss: 0.140544\tvalid_0's auc: 0.918708\n",
      "[14]\tvalid_0's binary_logloss: 0.139245\tvalid_0's auc: 0.920357\n",
      "[15]\tvalid_0's binary_logloss: 0.137534\tvalid_0's auc: 0.920121\n",
      "[16]\tvalid_0's binary_logloss: 0.136328\tvalid_0's auc: 0.92104\n",
      "[17]\tvalid_0's binary_logloss: 0.135351\tvalid_0's auc: 0.925656\n",
      "[18]\tvalid_0's binary_logloss: 0.133943\tvalid_0's auc: 0.926716\n",
      "[19]\tvalid_0's binary_logloss: 0.133055\tvalid_0's auc: 0.929719\n",
      "[20]\tvalid_0's binary_logloss: 0.13252\tvalid_0's auc: 0.928871\n",
      "[21]\tvalid_0's binary_logloss: 0.130884\tvalid_0's auc: 0.929931\n",
      "[22]\tvalid_0's binary_logloss: 0.129258\tvalid_0's auc: 0.933629\n",
      "[23]\tvalid_0's binary_logloss: 0.128373\tvalid_0's auc: 0.933994\n",
      "[24]\tvalid_0's binary_logloss: 0.127738\tvalid_0's auc: 0.934559\n",
      "[25]\tvalid_0's binary_logloss: 0.127312\tvalid_0's auc: 0.933322\n",
      "[26]\tvalid_0's binary_logloss: 0.127263\tvalid_0's auc: 0.933287\n",
      "[27]\tvalid_0's binary_logloss: 0.126481\tvalid_0's auc: 0.934052\n",
      "[28]\tvalid_0's binary_logloss: 0.126577\tvalid_0's auc: 0.933063\n",
      "[29]\tvalid_0's binary_logloss: 0.126006\tvalid_0's auc: 0.934312\n",
      "[30]\tvalid_0's binary_logloss: 0.126819\tvalid_0's auc: 0.932792\n",
      "[31]\tvalid_0's binary_logloss: 0.127281\tvalid_0's auc: 0.93178\n",
      "[32]\tvalid_0's binary_logloss: 0.127293\tvalid_0's auc: 0.932074\n",
      "[33]\tvalid_0's binary_logloss: 0.127742\tvalid_0's auc: 0.931132\n",
      "[34]\tvalid_0's binary_logloss: 0.12812\tvalid_0's auc: 0.930531\n",
      "Early stopping, best iteration is:\n",
      "[24]\tvalid_0's binary_logloss: 0.127738\tvalid_0's auc: 0.934559\n",
      "[1]\tvalid_0's binary_logloss: 0.208856\tvalid_0's auc: 0.79716\n",
      "Training until validation scores don't improve for 10 rounds.\n",
      "[2]\tvalid_0's binary_logloss: 0.197983\tvalid_0's auc: 0.841571\n",
      "[3]\tvalid_0's binary_logloss: 0.18924\tvalid_0's auc: 0.864133\n",
      "[4]\tvalid_0's binary_logloss: 0.183168\tvalid_0's auc: 0.874545\n",
      "[5]\tvalid_0's binary_logloss: 0.177929\tvalid_0's auc: 0.8846\n",
      "[6]\tvalid_0's binary_logloss: 0.1727\tvalid_0's auc: 0.890536\n",
      "[7]\tvalid_0's binary_logloss: 0.169237\tvalid_0's auc: 0.889394\n",
      "[8]\tvalid_0's binary_logloss: 0.165035\tvalid_0's auc: 0.892968\n",
      "[9]\tvalid_0's binary_logloss: 0.162468\tvalid_0's auc: 0.893105\n",
      "[10]\tvalid_0's binary_logloss: 0.159907\tvalid_0's auc: 0.896781\n",
      "[11]\tvalid_0's binary_logloss: 0.158497\tvalid_0's auc: 0.905436\n",
      "[12]\tvalid_0's binary_logloss: 0.156464\tvalid_0's auc: 0.908979\n",
      "[13]\tvalid_0's binary_logloss: 0.154599\tvalid_0's auc: 0.909253\n",
      "[14]\tvalid_0's binary_logloss: 0.153286\tvalid_0's auc: 0.908727\n",
      "[15]\tvalid_0's binary_logloss: 0.15215\tvalid_0's auc: 0.907566\n",
      "[16]\tvalid_0's binary_logloss: 0.151536\tvalid_0's auc: 0.906287\n",
      "[17]\tvalid_0's binary_logloss: 0.150806\tvalid_0's auc: 0.905577\n",
      "[18]\tvalid_0's binary_logloss: 0.149655\tvalid_0's auc: 0.907092\n",
      "[19]\tvalid_0's binary_logloss: 0.149069\tvalid_0's auc: 0.907484\n",
      "[20]\tvalid_0's binary_logloss: 0.146963\tvalid_0's auc: 0.909697\n",
      "[21]\tvalid_0's binary_logloss: 0.145627\tvalid_0's auc: 0.912027\n",
      "[22]\tvalid_0's binary_logloss: 0.144283\tvalid_0's auc: 0.912537\n",
      "[23]\tvalid_0's binary_logloss: 0.143181\tvalid_0's auc: 0.914216\n",
      "[24]\tvalid_0's binary_logloss: 0.142517\tvalid_0's auc: 0.915228\n",
      "[25]\tvalid_0's binary_logloss: 0.141905\tvalid_0's auc: 0.91646\n",
      "[26]\tvalid_0's binary_logloss: 0.141233\tvalid_0's auc: 0.916154\n",
      "[27]\tvalid_0's binary_logloss: 0.140975\tvalid_0's auc: 0.916036\n",
      "[28]\tvalid_0's binary_logloss: 0.140229\tvalid_0's auc: 0.916115\n",
      "[29]\tvalid_0's binary_logloss: 0.140002\tvalid_0's auc: 0.917096\n",
      "[30]\tvalid_0's binary_logloss: 0.139721\tvalid_0's auc: 0.917723\n",
      "[31]\tvalid_0's binary_logloss: 0.140136\tvalid_0's auc: 0.917221\n",
      "[32]\tvalid_0's binary_logloss: 0.139774\tvalid_0's auc: 0.918445\n",
      "[33]\tvalid_0's binary_logloss: 0.140108\tvalid_0's auc: 0.917527\n",
      "[34]\tvalid_0's binary_logloss: 0.139664\tvalid_0's auc: 0.918257\n",
      "[35]\tvalid_0's binary_logloss: 0.140077\tvalid_0's auc: 0.918155\n",
      "[36]\tvalid_0's binary_logloss: 0.139948\tvalid_0's auc: 0.918696\n",
      "[37]\tvalid_0's binary_logloss: 0.14034\tvalid_0's auc: 0.918516\n",
      "[38]\tvalid_0's binary_logloss: 0.140428\tvalid_0's auc: 0.918492\n",
      "[39]\tvalid_0's binary_logloss: 0.140405\tvalid_0's auc: 0.919975\n",
      "[40]\tvalid_0's binary_logloss: 0.141341\tvalid_0's auc: 0.920846\n",
      "[41]\tvalid_0's binary_logloss: 0.141857\tvalid_0's auc: 0.921411\n",
      "[42]\tvalid_0's binary_logloss: 0.142079\tvalid_0's auc: 0.921395\n",
      "[43]\tvalid_0's binary_logloss: 0.14235\tvalid_0's auc: 0.922125\n",
      "[44]\tvalid_0's binary_logloss: 0.143041\tvalid_0's auc: 0.921788\n",
      "Early stopping, best iteration is:\n",
      "[34]\tvalid_0's binary_logloss: 0.139664\tvalid_0's auc: 0.918257\n",
      "[1]\tvalid_0's binary_logloss: 0.210593\tvalid_0's auc: 0.784916\n",
      "Training until validation scores don't improve for 10 rounds.\n",
      "[2]\tvalid_0's binary_logloss: 0.202578\tvalid_0's auc: 0.834612\n",
      "[3]\tvalid_0's binary_logloss: 0.196289\tvalid_0's auc: 0.852917\n",
      "[4]\tvalid_0's binary_logloss: 0.190771\tvalid_0's auc: 0.86396\n",
      "[5]\tvalid_0's binary_logloss: 0.186923\tvalid_0's auc: 0.871352\n",
      "[6]\tvalid_0's binary_logloss: 0.183573\tvalid_0's auc: 0.875215\n",
      "[7]\tvalid_0's binary_logloss: 0.180282\tvalid_0's auc: 0.881233\n",
      "[8]\tvalid_0's binary_logloss: 0.179358\tvalid_0's auc: 0.87629\n",
      "[9]\tvalid_0's binary_logloss: 0.177007\tvalid_0's auc: 0.878713\n",
      "[10]\tvalid_0's binary_logloss: 0.175969\tvalid_0's auc: 0.876776\n",
      "[11]\tvalid_0's binary_logloss: 0.174377\tvalid_0's auc: 0.878566\n",
      "[12]\tvalid_0's binary_logloss: 0.172345\tvalid_0's auc: 0.880039\n",
      "[13]\tvalid_0's binary_logloss: 0.170954\tvalid_0's auc: 0.879938\n",
      "[14]\tvalid_0's binary_logloss: 0.171791\tvalid_0's auc: 0.877149\n",
      "[15]\tvalid_0's binary_logloss: 0.171114\tvalid_0's auc: 0.87612\n",
      "[16]\tvalid_0's binary_logloss: 0.170414\tvalid_0's auc: 0.876165\n",
      "[17]\tvalid_0's binary_logloss: 0.168675\tvalid_0's auc: 0.877658\n",
      "Early stopping, best iteration is:\n",
      "[7]\tvalid_0's binary_logloss: 0.180282\tvalid_0's auc: 0.881233\n"
     ]
    }
   ],
   "source": [
    "clf = LGBMClassifier(boosting_type='gbdt', objective='binary')\n",
    "\n",
    "L = []\n",
    "R = []\n",
    "auc = []\n",
    "\n",
    "# 比较不同的切分方式下，LGB的结果\n",
    "for size in [0.3, 0.4,0.5, 0.6, 0.7]:\n",
    "    X_train, X_test, y_train, y_test = train_test_split(data, label, test_size=size, random_state=999)\n",
    "    \n",
    "    clf.fit(X_train, y_train, eval_set=[(X_test, y_test)], eval_metric='auc', early_stopping_rounds=10)  \n",
    "    y_score = clf.predict_proba(X_test)[:, 1]\n",
    "    L.append(metrics.roc_curve(y_test, y_score)[0])\n",
    "    R.append(metrics.roc_curve(y_test, y_score)[1])\n",
    "    auc.append(metrics.roc_auc_score(y_test,y_score))"
   ]
  },
  {
   "cell_type": "code",
   "execution_count": 14,
   "metadata": {},
   "outputs": [
    {
     "name": "stdout",
     "output_type": "stream",
     "text": [
      "[0.9324525745257453, 0.9220150690205137, 0.9345117527909935, 0.9182490113614964, 0.8811931586806026]\n"
     ]
    },
    {
     "data": {
      "image/png": "[encoded data removed]",
      "text/plain": [
       "<Figure size 432x288 with 1 Axes>"
      ]
     },
     "metadata": {
      "needs_background": "light"
     },
     "output_type": "display_data"
    }
   ],
   "source": [
    "print(auc)\n",
    "plt.plot(L[0], R[0], marker = 'o') \n",
    "plt.plot(L[1], R[1], marker = '*') \n",
    "plt.plot(L[2], R[2], marker = '^') \n",
    "plt.plot(L[3], R[3], marker = '.')\n",
    "plt.plot(L[4], R[4], marker = 'o') \n",
    "plt.show()"
   ]
  },
  {
   "cell_type": "markdown",
   "metadata": {},
   "source": [
    "With the increase of test_size, the overall trend of AUC is decreased, because less and less data are used for training, and the generalization ability of the model is decreased."
   ]
  },
  {
   "cell_type": "code",
   "execution_count": 15,
   "metadata": {},
   "outputs": [
    {
     "name": "stderr",
     "output_type": "stream",
     "text": [
      "/home/ming/.local/lib/python3.6/site-packages/sklearn/ensemble/forest.py:245: FutureWarning: The default value of n_estimators will change from 10 in version 0.20 to 100 in 0.22.\n",
      "  \"10 in version 0.20 to 100 in 0.22.\", FutureWarning)\n"
     ]
    }
   ],
   "source": [
    "clf = RandomForestClassifier()\n",
    "\n",
    "L = []\n",
    "R = []\n",
    "auc = []\n",
    "\n",
    "# 比较不同的切分方式下，RF的结果\n",
    "for size in [0.3, 0.4,0.5, 0.6, 0.7]:\n",
    "    X_train, X_test, y_train, y_test = train_test_split(data, label, test_size=size, random_state=999)\n",
    "    \n",
    "    clf.fit(X_train, y_train)  \n",
    "    y_score = clf.predict_proba(X_test)[:, 1]\n",
    "    L.append(metrics.roc_curve(y_test, y_score)[0])\n",
    "    R.append(metrics.roc_curve(y_test, y_score)[1])\n",
    "    auc.append(metrics.roc_auc_score(y_test,y_score))"
   ]
  },
  {
   "cell_type": "code",
   "execution_count": 16,
   "metadata": {},
   "outputs": [
    {
     "name": "stdout",
     "output_type": "stream",
     "text": [
      "[0.821460027100271, 0.8997873471557681, 0.8477672052381177, 0.8535834222584897, 0.8047571376860775]\n"
     ]
    },
    {
     "data": {
      "image/png": "[encoded data removed]",
      "text/plain": [
       "<Figure size 432x288 with 1 Axes>"
      ]
     },
     "metadata": {
      "needs_background": "light"
     },
     "output_type": "display_data"
    }
   ],
   "source": [
    "print(auc)\n",
    "plt.plot(L[0], R[0], marker = 'o') \n",
    "plt.plot(L[1], R[1], marker = '*') \n",
    "plt.plot(L[2], R[2], marker = '^') \n",
    "plt.plot(L[3], R[3], marker = '.')\n",
    "plt.plot(L[4], R[4], marker = 'o') \n",
    "plt.show()"
   ]
  },
  {
   "cell_type": "markdown",
   "metadata": {},
   "source": [
    "The effect of the model is the same as that of XGB, and the generalization ability of the model is weakened due to the reduction of training data."
   ]
  },
  {
   "cell_type": "code",
   "execution_count": null,
   "metadata": {},
   "outputs": [],
   "source": []
  }
 ],
 "metadata": {
  "kernelspec": {
   "display_name": "Python 3",
   "language": "python",
   "name": "python3"
  },
  "language_info": {
   "codemirror_mode": {
    "name": "ipython",
    "version": 3
   },
   "file_extension": ".py",
   "mimetype": "text/x-python",
   "name": "python",
   "nbconvert_exporter": "python",
   "pygments_lexer": "ipython3",
   "version": "3.7.3"
  }
 },
 "nbformat": 4,
 "nbformat_minor": 2
}
