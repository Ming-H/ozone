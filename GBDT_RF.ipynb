{
 "cells": [
  {
   "cell_type": "code",
   "execution_count": 1,
   "metadata": {},
   "outputs": [],
   "source": [
    "import pandas as pd\n",
    "import numpy as np\n",
    "from sklearn.model_selection import train_test_split\n",
    "from sklearn.ensemble import RandomForestClassifier, GradientBoostingClassifier\n",
    "from sklearn.model_selection import GridSearchCV\n",
    "from sklearn import metrics\n",
    "import matplotlib.pyplot as plt"
   ]
  },
  {
   "cell_type": "markdown",
   "metadata": {},
   "source": [
    "# load data"
   ]
  },
  {
   "cell_type": "code",
   "execution_count": 2,
   "metadata": {},
   "outputs": [
    {
     "data": {
      "text/html": [
       "<div>\n",
       "<style scoped>\n",
       "    .dataframe tbody tr th:only-of-type {\n",
       "        vertical-align: middle;\n",
       "    }\n",
       "\n",
       "    .dataframe tbody tr th {\n",
       "        vertical-align: top;\n",
       "    }\n",
       "\n",
       "    .dataframe thead th {\n",
       "        text-align: right;\n",
       "    }\n",
       "</style>\n",
       "<table border=\"1\" class=\"dataframe\">\n",
       "  <thead>\n",
       "    <tr style=\"text-align: right;\">\n",
       "      <th></th>\n",
       "      <th>Date</th>\n",
       "      <th>WSR0</th>\n",
       "      <th>WSR1</th>\n",
       "      <th>WSR2</th>\n",
       "      <th>WSR3</th>\n",
       "      <th>WSR4</th>\n",
       "      <th>WSR5</th>\n",
       "      <th>WSR6</th>\n",
       "      <th>WSR7</th>\n",
       "      <th>WSR8</th>\n",
       "      <th>...</th>\n",
       "      <th>RH50</th>\n",
       "      <th>U50</th>\n",
       "      <th>V50</th>\n",
       "      <th>HT50</th>\n",
       "      <th>KI</th>\n",
       "      <th>TT</th>\n",
       "      <th>SLP</th>\n",
       "      <th>SLP_</th>\n",
       "      <th>Precp</th>\n",
       "      <th>Orzone</th>\n",
       "    </tr>\n",
       "  </thead>\n",
       "  <tbody>\n",
       "    <tr>\n",
       "      <td>0</td>\n",
       "      <td>01/01/1998</td>\n",
       "      <td>0.8</td>\n",
       "      <td>1.8</td>\n",
       "      <td>2.4</td>\n",
       "      <td>2.1</td>\n",
       "      <td>2.0</td>\n",
       "      <td>2.1</td>\n",
       "      <td>1.5</td>\n",
       "      <td>1.7</td>\n",
       "      <td>1.9</td>\n",
       "      <td>...</td>\n",
       "      <td>0.15</td>\n",
       "      <td>10.67</td>\n",
       "      <td>-1.56</td>\n",
       "      <td>5795</td>\n",
       "      <td>-12.1</td>\n",
       "      <td>17.9</td>\n",
       "      <td>10330</td>\n",
       "      <td>-55</td>\n",
       "      <td>0.0</td>\n",
       "      <td>0</td>\n",
       "    </tr>\n",
       "    <tr>\n",
       "      <td>1</td>\n",
       "      <td>01/02/1998</td>\n",
       "      <td>2.8</td>\n",
       "      <td>3.2</td>\n",
       "      <td>3.3</td>\n",
       "      <td>2.7</td>\n",
       "      <td>3.3</td>\n",
       "      <td>3.2</td>\n",
       "      <td>2.9</td>\n",
       "      <td>2.8</td>\n",
       "      <td>3.1</td>\n",
       "      <td>...</td>\n",
       "      <td>0.48</td>\n",
       "      <td>8.39</td>\n",
       "      <td>3.84</td>\n",
       "      <td>5805</td>\n",
       "      <td>14.05</td>\n",
       "      <td>29</td>\n",
       "      <td>10275</td>\n",
       "      <td>-55</td>\n",
       "      <td>0.0</td>\n",
       "      <td>0</td>\n",
       "    </tr>\n",
       "    <tr>\n",
       "      <td>2</td>\n",
       "      <td>01/03/1998</td>\n",
       "      <td>2.9</td>\n",
       "      <td>2.8</td>\n",
       "      <td>2.6</td>\n",
       "      <td>2.1</td>\n",
       "      <td>2.2</td>\n",
       "      <td>2.5</td>\n",
       "      <td>2.5</td>\n",
       "      <td>2.7</td>\n",
       "      <td>2.2</td>\n",
       "      <td>...</td>\n",
       "      <td>0.6</td>\n",
       "      <td>6.94</td>\n",
       "      <td>9.8</td>\n",
       "      <td>5790</td>\n",
       "      <td>17.9</td>\n",
       "      <td>41.3</td>\n",
       "      <td>10235</td>\n",
       "      <td>-40</td>\n",
       "      <td>0.0</td>\n",
       "      <td>0</td>\n",
       "    </tr>\n",
       "  </tbody>\n",
       "</table>\n",
       "<p>3 rows × 74 columns</p>\n",
       "</div>"
      ],
      "text/plain": [
       "         Date  WSR0  WSR1  WSR2  WSR3  WSR4  WSR5 WSR6  WSR7  WSR8  ...  RH50  \\\n",
       "0  01/01/1998   0.8   1.8   2.4   2.1   2.0   2.1  1.5   1.7   1.9  ...  0.15   \n",
       "1  01/02/1998   2.8   3.2   3.3   2.7   3.3   3.2  2.9   2.8   3.1  ...  0.48   \n",
       "2  01/03/1998   2.9   2.8   2.6   2.1   2.2   2.5  2.5   2.7   2.2  ...   0.6   \n",
       "\n",
       "     U50    V50  HT50     KI    TT    SLP SLP_  Precp  Orzone  \n",
       "0  10.67  -1.56  5795  -12.1  17.9  10330  -55    0.0       0  \n",
       "1   8.39   3.84  5805  14.05    29  10275  -55    0.0       0  \n",
       "2   6.94    9.8  5790   17.9  41.3  10235  -40    0.0       0  \n",
       "\n",
       "[3 rows x 74 columns]"
      ]
     },
     "execution_count": 2,
     "metadata": {},
     "output_type": "execute_result"
    }
   ],
   "source": [
    "# Number of instances: 2535\n",
    "# Number of attributes: 73 attributes  \n",
    "\n",
    "df_data1 = pd.read_csv('ozone_eighthr.csv')\n",
    "df_data1.replace(['?'],[-999], inplace =True)\n",
    "df_data1.fillna(-999, inplace =True)\n",
    "df_data1.iloc[:3]"
   ]
  },
  {
   "cell_type": "code",
   "execution_count": 3,
   "metadata": {},
   "outputs": [
    {
     "data": {
      "text/html": [
       "<div>\n",
       "<style scoped>\n",
       "    .dataframe tbody tr th:only-of-type {\n",
       "        vertical-align: middle;\n",
       "    }\n",
       "\n",
       "    .dataframe tbody tr th {\n",
       "        vertical-align: top;\n",
       "    }\n",
       "\n",
       "    .dataframe thead th {\n",
       "        text-align: right;\n",
       "    }\n",
       "</style>\n",
       "<table border=\"1\" class=\"dataframe\">\n",
       "  <thead>\n",
       "    <tr style=\"text-align: right;\">\n",
       "      <th></th>\n",
       "      <th>Date</th>\n",
       "      <th>WSR0</th>\n",
       "      <th>WSR1</th>\n",
       "      <th>WSR2</th>\n",
       "      <th>WSR3</th>\n",
       "      <th>WSR4</th>\n",
       "      <th>WSR5</th>\n",
       "      <th>WSR6</th>\n",
       "      <th>WSR7</th>\n",
       "      <th>WSR8</th>\n",
       "      <th>...</th>\n",
       "      <th>RH50</th>\n",
       "      <th>U50</th>\n",
       "      <th>V50</th>\n",
       "      <th>HT50</th>\n",
       "      <th>KI</th>\n",
       "      <th>TT</th>\n",
       "      <th>SLP</th>\n",
       "      <th>SLP_</th>\n",
       "      <th>Precp</th>\n",
       "      <th>Orzone</th>\n",
       "    </tr>\n",
       "  </thead>\n",
       "  <tbody>\n",
       "    <tr>\n",
       "      <td>0</td>\n",
       "      <td>01/01/1998</td>\n",
       "      <td>0.8</td>\n",
       "      <td>1.8</td>\n",
       "      <td>2.4</td>\n",
       "      <td>2.1</td>\n",
       "      <td>2.0</td>\n",
       "      <td>2.1</td>\n",
       "      <td>1.5</td>\n",
       "      <td>1.7</td>\n",
       "      <td>1.9</td>\n",
       "      <td>...</td>\n",
       "      <td>0.15</td>\n",
       "      <td>10.67</td>\n",
       "      <td>-1.56</td>\n",
       "      <td>5795</td>\n",
       "      <td>-12.1</td>\n",
       "      <td>17.9</td>\n",
       "      <td>10330</td>\n",
       "      <td>-55</td>\n",
       "      <td>0.0</td>\n",
       "      <td>0</td>\n",
       "    </tr>\n",
       "    <tr>\n",
       "      <td>1</td>\n",
       "      <td>01/02/1998</td>\n",
       "      <td>2.8</td>\n",
       "      <td>3.2</td>\n",
       "      <td>3.3</td>\n",
       "      <td>2.7</td>\n",
       "      <td>3.3</td>\n",
       "      <td>3.2</td>\n",
       "      <td>2.9</td>\n",
       "      <td>2.8</td>\n",
       "      <td>3.1</td>\n",
       "      <td>...</td>\n",
       "      <td>0.48</td>\n",
       "      <td>8.39</td>\n",
       "      <td>3.84</td>\n",
       "      <td>5805</td>\n",
       "      <td>14.05</td>\n",
       "      <td>29</td>\n",
       "      <td>10275</td>\n",
       "      <td>-55</td>\n",
       "      <td>0.0</td>\n",
       "      <td>0</td>\n",
       "    </tr>\n",
       "    <tr>\n",
       "      <td>2</td>\n",
       "      <td>01/03/1998</td>\n",
       "      <td>2.9</td>\n",
       "      <td>2.8</td>\n",
       "      <td>2.6</td>\n",
       "      <td>2.1</td>\n",
       "      <td>2.2</td>\n",
       "      <td>2.5</td>\n",
       "      <td>2.5</td>\n",
       "      <td>2.7</td>\n",
       "      <td>2.2</td>\n",
       "      <td>...</td>\n",
       "      <td>0.6</td>\n",
       "      <td>6.94</td>\n",
       "      <td>9.8</td>\n",
       "      <td>5790</td>\n",
       "      <td>17.9</td>\n",
       "      <td>41.3</td>\n",
       "      <td>10235</td>\n",
       "      <td>-40</td>\n",
       "      <td>0.0</td>\n",
       "      <td>0</td>\n",
       "    </tr>\n",
       "  </tbody>\n",
       "</table>\n",
       "<p>3 rows × 74 columns</p>\n",
       "</div>"
      ],
      "text/plain": [
       "         Date  WSR0  WSR1  WSR2  WSR3  WSR4  WSR5 WSR6  WSR7  WSR8  ...  RH50  \\\n",
       "0  01/01/1998   0.8   1.8   2.4   2.1   2.0   2.1  1.5   1.7   1.9  ...  0.15   \n",
       "1  01/02/1998   2.8   3.2   3.3   2.7   3.3   3.2  2.9   2.8   3.1  ...  0.48   \n",
       "2  01/03/1998   2.9   2.8   2.6   2.1   2.2   2.5  2.5   2.7   2.2  ...   0.6   \n",
       "\n",
       "     U50    V50  HT50     KI    TT    SLP SLP_  Precp  Orzone  \n",
       "0  10.67  -1.56  5795  -12.1  17.9  10330  -55    0.0       0  \n",
       "1   8.39   3.84  5805  14.05    29  10275  -55    0.0       0  \n",
       "2   6.94    9.8  5790   17.9  41.3  10235  -40    0.0       0  \n",
       "\n",
       "[3 rows x 74 columns]"
      ]
     },
     "execution_count": 3,
     "metadata": {},
     "output_type": "execute_result"
    }
   ],
   "source": [
    "df_data2 = pd.read_csv(\"ozone_onehr.csv\")\n",
    "df_data2.replace(['?'],[-999], inplace =True)\n",
    "df_data2.fillna(-999, inplace =True)\n",
    "df_data2.iloc[:3]"
   ]
  },
  {
   "cell_type": "code",
   "execution_count": 4,
   "metadata": {},
   "outputs": [
    {
     "data": {
      "text/plain": [
       "Orzone\n",
       "0    2374\n",
       "1     160\n",
       "Name: Orzone, dtype: int64"
      ]
     },
     "execution_count": 4,
     "metadata": {},
     "output_type": "execute_result"
    }
   ],
   "source": [
    "df_data1.groupby('Orzone')['Orzone'].count()"
   ]
  },
  {
   "cell_type": "code",
   "execution_count": 5,
   "metadata": {},
   "outputs": [
    {
     "data": {
      "text/plain": [
       "Orzone\n",
       "0    2463\n",
       "1      73\n",
       "Name: Orzone, dtype: int64"
      ]
     },
     "execution_count": 5,
     "metadata": {},
     "output_type": "execute_result"
    }
   ],
   "source": [
    "df_data2.groupby('Orzone')['Orzone'].count()"
   ]
  },
  {
   "cell_type": "markdown",
   "metadata": {},
   "source": [
    "# Compare dataset split"
   ]
  },
  {
   "cell_type": "code",
   "execution_count": 6,
   "metadata": {},
   "outputs": [
    {
     "name": "stdout",
     "output_type": "stream",
     "text": [
      "test_size is 0.2 , auc is 0.8881856540084387\n",
      "test_size is 0.4 , auc is 0.8940352896049099\n",
      "test_size is 0.6 , auc is 0.9089706123544411\n",
      "test_size is 0.8 , auc is 0.8804856709984422\n"
     ]
    },
    {
     "data": {
      "image/png": "[encoded data removed]",
      "text/plain": [
       "<Figure size 432x288 with 1 Axes>"
      ]
     },
     "metadata": {
      "needs_background": "light"
     },
     "output_type": "display_data"
    }
   ],
   "source": [
    "fpr = []\n",
    "tpr = []\n",
    "for size in [0.2, 0.4, 0.6, 0.8]:\n",
    "    X_train, X_test, y_train, y_test = train_test_split(\n",
    "                                df_data1.iloc[:, 1:-1].values, \n",
    "                                df_data1.iloc[:, -1].values, \n",
    "                                test_size=size, \n",
    "                                random_state=42)\n",
    "    model = GradientBoostingClassifier()\n",
    "    model.fit(X_train, y_train)\n",
    "    y_new = model.predict_proba(X_test)[:, 1]   \n",
    "    \n",
    "    auc = metrics.roc_auc_score(y_test,y_new)\n",
    "    print('test_size is %s' % size, ', auc is %s' % auc)\n",
    "    \n",
    "    fpr.append(metrics.roc_curve(y_test, y_new)[0])\n",
    "    tpr.append(metrics.roc_curve(y_test, y_new)[1])\n",
    "\n",
    "plt.plot(fpr[0], tpr[0], marker = 'o') \n",
    "plt.plot(fpr[1], tpr[1], marker = '*') \n",
    "plt.plot(fpr[2], tpr[2], marker = '^') \n",
    "plt.plot(fpr[3], tpr[3], marker = '.') \n",
    "plt.show()"
   ]
  },
  {
   "cell_type": "markdown",
   "metadata": {},
   "source": [
    "With the increase of test_size, the data of the training set becomes less and less, and the predictive power of the trained model first increases and then decreases."
   ]
  },
  {
   "cell_type": "markdown",
   "metadata": {},
   "source": [
    "# Compare hyperparameters"
   ]
  },
  {
   "cell_type": "code",
   "execution_count": 7,
   "metadata": {},
   "outputs": [],
   "source": [
    "X_train, X_test, y_train, y_test = train_test_split(\n",
    "                                df_data1.iloc[:, 1:-1].values, \n",
    "                                df_data1.iloc[:, -1].values, \n",
    "                                test_size=0.33, \n",
    "                                random_state=42)"
   ]
  },
  {
   "cell_type": "markdown",
   "metadata": {},
   "source": [
    "(a) compare max_depth in GradientBoostingClassifier"
   ]
  },
  {
   "cell_type": "code",
   "execution_count": 8,
   "metadata": {},
   "outputs": [
    {
     "name": "stdout",
     "output_type": "stream",
     "text": [
      "max_depth is 3 , auc is 0.8944853875476494\n",
      "max_depth is 4 , auc is 0.8944599745870394\n",
      "max_depth is 5 , auc is 0.9043202033036849\n",
      "max_depth is 6 , auc is 0.8938754764930115\n",
      "max_depth is 7 , auc is 0.8831003811944091\n",
      "max_depth is 8 , auc is 0.858843710292249\n"
     ]
    },
    {
     "data": {
      "image/png": "[encoded data removed]",
      "text/plain": [
       "<Figure size 432x288 with 1 Axes>"
      ]
     },
     "metadata": {
      "needs_background": "light"
     },
     "output_type": "display_data"
    }
   ],
   "source": [
    "fpr = []\n",
    "tpr = []\n",
    "\n",
    "for item in [3,4,5,6,7,8]:\n",
    "    model = GradientBoostingClassifier(max_depth = item)\n",
    "    model.fit(X_train, y_train)\n",
    "    y_new = model.predict_proba(X_test)[:, 1]   \n",
    "    \n",
    "    auc = metrics.roc_auc_score(y_test,y_new)\n",
    "    print('max_depth is %s' % item, ', auc is %s' % auc)\n",
    "    \n",
    "    fpr.append(metrics.roc_curve(y_test, y_new)[0])\n",
    "    tpr.append(metrics.roc_curve(y_test, y_new)[1])\n",
    "\n",
    "plt.plot(fpr[0], tpr[0], marker = 'o') \n",
    "plt.plot(fpr[1], tpr[1], marker = '*') \n",
    "plt.plot(fpr[2], tpr[2], marker = '^') \n",
    "plt.plot(fpr[3], tpr[3], marker = '.') \n",
    "plt.plot(fpr[4], tpr[4], marker = '^') \n",
    "plt.plot(fpr[5], tpr[5], marker = 'o') \n",
    "plt.show()"
   ]
  },
  {
   "cell_type": "markdown",
   "metadata": {},
   "source": [
    "As max_depth goes up, auc goes up and then down, when max_depth grow too large,the model is overfit."
   ]
  },
  {
   "cell_type": "markdown",
   "metadata": {},
   "source": [
    "(b) compare n_estimators in GradientBoostingClassifier"
   ]
  },
  {
   "cell_type": "code",
   "execution_count": 9,
   "metadata": {},
   "outputs": [
    {
     "name": "stdout",
     "output_type": "stream",
     "text": [
      "n_estimators is 70 , auc is 0.8885133418043202\n",
      "n_estimators is 80 , auc is 0.894587039390089\n",
      "n_estimators is 90 , auc is 0.8932655654383737\n",
      "n_estimators is 100 , auc is 0.8943583227445997\n",
      "n_estimators is 110 , auc is 0.8945362134688691\n"
     ]
    },
    {
     "data": {
      "image/png": "[encoded data removed]",
      "text/plain": [
       "<Figure size 432x288 with 1 Axes>"
      ]
     },
     "metadata": {
      "needs_background": "light"
     },
     "output_type": "display_data"
    }
   ],
   "source": [
    "fpr = []\n",
    "tpr = []\n",
    "\n",
    "for item in [70, 80, 90, 100, 110]:\n",
    "    model = GradientBoostingClassifier(n_estimators = item)\n",
    "    model.fit(X_train, y_train)\n",
    "    y_new = model.predict_proba(X_test)[:, 1]   \n",
    "    \n",
    "    auc = metrics.roc_auc_score(y_test,y_new)\n",
    "    print('n_estimators is %s' % item, ', auc is %s' % auc)\n",
    "    \n",
    "    fpr.append(metrics.roc_curve(y_test, y_new)[0])\n",
    "    tpr.append(metrics.roc_curve(y_test, y_new)[1])\n",
    "\n",
    "plt.plot(fpr[0], tpr[0], marker = 'o') \n",
    "plt.plot(fpr[1], tpr[1], marker = '*') \n",
    "plt.plot(fpr[2], tpr[2], marker = '^') \n",
    "plt.plot(fpr[3], tpr[3], marker = '.') \n",
    "plt.plot(fpr[4], tpr[4], marker = '^') \n",
    "plt.show()"
   ]
  },
  {
   "cell_type": "markdown",
   "metadata": {},
   "source": [
    "As n_estimators goes up, auc goes up, but auc grow slowly.The fitting ability of the model tends to be stable."
   ]
  },
  {
   "cell_type": "markdown",
   "metadata": {},
   "source": [
    "(C) compare max_features in RandomForestClassifier"
   ]
  },
  {
   "cell_type": "code",
   "execution_count": 10,
   "metadata": {},
   "outputs": [
    {
     "name": "stderr",
     "output_type": "stream",
     "text": [
      "/usr/local/lib/python3.7/site-packages/sklearn/ensemble/forest.py:245: FutureWarning: The default value of n_estimators will change from 10 in version 0.20 to 100 in 0.22.\n",
      "  \"10 in version 0.20 to 100 in 0.22.\", FutureWarning)\n",
      "/usr/local/lib/python3.7/site-packages/sklearn/ensemble/forest.py:245: FutureWarning: The default value of n_estimators will change from 10 in version 0.20 to 100 in 0.22.\n",
      "  \"10 in version 0.20 to 100 in 0.22.\", FutureWarning)\n",
      "/usr/local/lib/python3.7/site-packages/sklearn/ensemble/forest.py:245: FutureWarning: The default value of n_estimators will change from 10 in version 0.20 to 100 in 0.22.\n",
      "  \"10 in version 0.20 to 100 in 0.22.\", FutureWarning)\n"
     ]
    },
    {
     "name": "stdout",
     "output_type": "stream",
     "text": [
      "n_estimators is 10 , auc is 0.8335451080050826\n",
      "n_estimators is 20 , auc is 0.8167979669631512\n",
      "n_estimators is 30 , auc is 0.8543456162642947\n",
      "n_estimators is 40 , auc is 0.8083735705209658\n"
     ]
    },
    {
     "name": "stderr",
     "output_type": "stream",
     "text": [
      "/usr/local/lib/python3.7/site-packages/sklearn/ensemble/forest.py:245: FutureWarning: The default value of n_estimators will change from 10 in version 0.20 to 100 in 0.22.\n",
      "  \"10 in version 0.20 to 100 in 0.22.\", FutureWarning)\n",
      "/usr/local/lib/python3.7/site-packages/sklearn/ensemble/forest.py:245: FutureWarning: The default value of n_estimators will change from 10 in version 0.20 to 100 in 0.22.\n",
      "  \"10 in version 0.20 to 100 in 0.22.\", FutureWarning)\n"
     ]
    },
    {
     "name": "stdout",
     "output_type": "stream",
     "text": [
      "n_estimators is 50 , auc is 0.8150063532401525\n"
     ]
    },
    {
     "data": {
      "image/png": "[encoded data removed]",
      "text/plain": [
       "<Figure size 432x288 with 1 Axes>"
      ]
     },
     "metadata": {
      "needs_background": "light"
     },
     "output_type": "display_data"
    }
   ],
   "source": [
    "fpr = []\n",
    "tpr = []\n",
    "for item in [10, 20, 30, 40, 50]:\n",
    "    model = RandomForestClassifier(max_features = item)\n",
    "    model.fit(X_train, y_train)\n",
    "    y_new = model.predict_proba(X_test)[:, 1]   \n",
    "    \n",
    "    auc = metrics.roc_auc_score(y_test,y_new)\n",
    "    print('n_estimators is %s' % item, ', auc is %s' % auc)\n",
    "    \n",
    "    fpr.append(metrics.roc_curve(y_test, y_new)[0])\n",
    "    tpr.append(metrics.roc_curve(y_test, y_new)[1])\n",
    "\n",
    "plt.plot(fpr[0], tpr[0], marker = 'o') \n",
    "plt.plot(fpr[1], tpr[1], marker = '*') \n",
    "plt.plot(fpr[2], tpr[2], marker = '^') \n",
    "plt.plot(fpr[3], tpr[3], marker = '.') \n",
    "plt.plot(fpr[4], tpr[4], marker = '^') \n",
    "plt.show()"
   ]
  },
  {
   "cell_type": "markdown",
   "metadata": {},
   "source": [
    "When n_estimators increase, the AUC increases first and then decreases, because when n_estimators increase, the model is first underfitted and then overfitted to achieve the best effect."
   ]
  },
  {
   "cell_type": "markdown",
   "metadata": {},
   "source": [
    "(d) compare max_depth in RandomForestClassifier"
   ]
  },
  {
   "cell_type": "code",
   "execution_count": 11,
   "metadata": {},
   "outputs": [
    {
     "name": "stderr",
     "output_type": "stream",
     "text": [
      "/usr/local/lib/python3.7/site-packages/sklearn/ensemble/forest.py:245: FutureWarning: The default value of n_estimators will change from 10 in version 0.20 to 100 in 0.22.\n",
      "  \"10 in version 0.20 to 100 in 0.22.\", FutureWarning)\n",
      "/usr/local/lib/python3.7/site-packages/sklearn/ensemble/forest.py:245: FutureWarning: The default value of n_estimators will change from 10 in version 0.20 to 100 in 0.22.\n",
      "  \"10 in version 0.20 to 100 in 0.22.\", FutureWarning)\n",
      "/usr/local/lib/python3.7/site-packages/sklearn/ensemble/forest.py:245: FutureWarning: The default value of n_estimators will change from 10 in version 0.20 to 100 in 0.22.\n",
      "  \"10 in version 0.20 to 100 in 0.22.\", FutureWarning)\n",
      "/usr/local/lib/python3.7/site-packages/sklearn/ensemble/forest.py:245: FutureWarning: The default value of n_estimators will change from 10 in version 0.20 to 100 in 0.22.\n",
      "  \"10 in version 0.20 to 100 in 0.22.\", FutureWarning)\n"
     ]
    },
    {
     "name": "stdout",
     "output_type": "stream",
     "text": [
      "n_estimators is 30 , auc is 0.8386785260482846\n",
      "n_estimators is 50 , auc is 0.7886404066073698\n",
      "n_estimators is 70 , auc is 0.8255273189326556\n",
      "n_estimators is 90 , auc is 0.8257306226175348\n",
      "n_estimators is 110 , auc is 0.817433290978399\n"
     ]
    },
    {
     "name": "stderr",
     "output_type": "stream",
     "text": [
      "/usr/local/lib/python3.7/site-packages/sklearn/ensemble/forest.py:245: FutureWarning: The default value of n_estimators will change from 10 in version 0.20 to 100 in 0.22.\n",
      "  \"10 in version 0.20 to 100 in 0.22.\", FutureWarning)\n"
     ]
    },
    {
     "data": {
      "image/png": "[encoded data removed]",
      "text/plain": [
       "<Figure size 432x288 with 1 Axes>"
      ]
     },
     "metadata": {
      "needs_background": "light"
     },
     "output_type": "display_data"
    }
   ],
   "source": [
    "fpr = []\n",
    "tpr = []\n",
    "for item in [30, 50, 70, 90, 110]:\n",
    "    model = RandomForestClassifier(max_depth = item)\n",
    "    model.fit(X_train, y_train)\n",
    "    y_new = model.predict_proba(X_test)[:, 1]   \n",
    "    \n",
    "    auc = metrics.roc_auc_score(y_test,y_new)\n",
    "    print('n_estimators is %s' % item, ', auc is %s' % auc)\n",
    "    \n",
    "    fpr.append(metrics.roc_curve(y_test, y_new)[0])\n",
    "    tpr.append(metrics.roc_curve(y_test, y_new)[1])\n",
    "\n",
    "plt.plot(fpr[0], tpr[0], marker = 'o') \n",
    "plt.plot(fpr[1], tpr[1], marker = '*') \n",
    "plt.plot(fpr[2], tpr[2], marker = '^') \n",
    "plt.plot(fpr[3], tpr[3], marker = '.') \n",
    "plt.plot(fpr[4], tpr[4], marker = '^') \n",
    "plt.show()"
   ]
  },
  {
   "cell_type": "markdown",
   "metadata": {},
   "source": [
    "When max_depth increase, the AUC increases first and then decreases, because when max_depth increase, the model is first underfitted and then overfitted to achieve the best effect."
   ]
  },
  {
   "cell_type": "markdown",
   "metadata": {},
   "source": [
    "# Compare ensembles models"
   ]
  },
  {
   "cell_type": "code",
   "execution_count": 12,
   "metadata": {},
   "outputs": [
    {
     "name": "stdout",
     "output_type": "stream",
     "text": [
      "auc of GBDT is 0.8941804320203304\n",
      "auc of RF is 0.7549809402795425\n"
     ]
    },
    {
     "name": "stderr",
     "output_type": "stream",
     "text": [
      "/usr/local/lib/python3.7/site-packages/sklearn/ensemble/forest.py:245: FutureWarning: The default value of n_estimators will change from 10 in version 0.20 to 100 in 0.22.\n",
      "  \"10 in version 0.20 to 100 in 0.22.\", FutureWarning)\n"
     ]
    },
    {
     "data": {
      "image/png": "[encoded data removed]",
      "text/plain": [
       "<Figure size 432x288 with 1 Axes>"
      ]
     },
     "metadata": {
      "needs_background": "light"
     },
     "output_type": "display_data"
    }
   ],
   "source": [
    "estimator1 = GradientBoostingClassifier()\n",
    "estimator2 = RandomForestClassifier()\n",
    "\n",
    "estimator1.fit(X_train, y_train)\n",
    "estimator2.fit(X_train, y_train)\n",
    "\n",
    "y_new1 = estimator1.predict_proba(X_test)[:, 1]\n",
    "y_new2 = estimator2.predict_proba(X_test)[:, 1]\n",
    "\n",
    "fpr1, tpr1, _ = metrics.roc_curve(y_test, y_new1)\n",
    "fpr2, tpr2, _ = metrics.roc_curve(y_test, y_new1)\n",
    "\n",
    "auc1 = metrics.roc_auc_score(y_test, y_new1)\n",
    "print('auc of GBDT is %s' % auc1)\n",
    "auc2 = metrics.roc_auc_score(y_test, y_new2)\n",
    "print('auc of RF is %s' % auc2)\n",
    "\n",
    "plt.plot(fpr[1], tpr[1], marker = '^') \n",
    "plt.plot(fpr[2], tpr[2], marker = 'o') \n",
    "plt.show()"
   ]
  },
  {
   "cell_type": "markdown",
   "metadata": {},
   "source": [
    "GBDT is more concerned with deviations, RF is more about variance, so GBDT can get better AUC. By resampling rows and columns of samples, random forest trains multiple trees and fuses multiple trees to obtain the model. In this way, the random forest can get the model with smaller variance.GBDT, in the iteration process, each iteration focuses on the training of samples with large residual, and then obtains multiple tree models, and finally obtains the final result through the fusion of multiple models."
   ]
  },
  {
   "cell_type": "code",
   "execution_count": null,
   "metadata": {},
   "outputs": [],
   "source": []
  }
 ],
 "metadata": {
  "kernelspec": {
   "display_name": "Python 3",
   "language": "python",
   "name": "python3"
  },
  "language_info": {
   "codemirror_mode": {
    "name": "ipython",
    "version": 3
   },
   "file_extension": ".py",
   "mimetype": "text/x-python",
   "name": "python",
   "nbconvert_exporter": "python",
   "pygments_lexer": "ipython3",
   "version": "3.7.3"
  }
 },
 "nbformat": 4,
 "nbformat_minor": 2
}
