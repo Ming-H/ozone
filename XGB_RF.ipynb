{
 "cells": [
  {
   "cell_type": "markdown",
   "metadata": {},
   "source": [
    "1、Multiple ensembles shown to work. Analysis of why one ensemble performs better or worse than others. \n",
    "2、Analysis of interaction between hyperparameters and ensemble composition. \n",
    "3、Analysis of interaction between training/validation/testing and ensembles and hyperparameters. \n",
    "4、ROC created and all models/ensembles plotted on the same graph. ROC index calculated."
   ]
  },
  {
   "cell_type": "raw",
   "metadata": {},
   "source": [
    "1.\t需要有两个集成学习模型，需要更换其中的模型组合，比较预测结果的不同。\n",
    "2.\t需要分析不同的超变量的变化对模型的影响\n",
    "3.\t分析训练集测试集验证集之间的划分对结果的影响\n",
    "4.\t给出ROC曲线。算ROCindex"
   ]
  },
  {
   "cell_type": "code",
   "execution_count": 5,
   "metadata": {},
   "outputs": [],
   "source": [
    "import pandas as pd\n",
    "import numpy as np\n",
    "from sklearn.model_selection import train_test_split\n",
    "from xgboost import XGBClassifier\n",
    "from sklearn.ensemble import RandomForestClassifier\n",
    "from sklearn import metrics\n",
    "import matplotlib.pyplot as plt"
   ]
  },
  {
   "cell_type": "code",
   "execution_count": 6,
   "metadata": {},
   "outputs": [],
   "source": [
    "# load datasets\n",
    "def load_data(file):\n",
    "    df_data = pd.read_csv(file)\n",
    "    df_data.replace(['?'],[0], inplace =True)\n",
    "    df_data.fillna(0, inplace =True)\n",
    "    return df_data\n",
    "\n",
    "df_data1 = load_data('ozone_onehr.csv')\n",
    "df_data2 = load_data('ozone_eighthr.csv')"
   ]
  },
  {
   "cell_type": "code",
   "execution_count": 7,
   "metadata": {},
   "outputs": [],
   "source": [
    "# training testing split, positive data is little, so just split dataset into two part.\n",
    "def data_split(df_data, alpha):\n",
    "    X_train, X_test, y_train, y_test = train_test_split(\\\n",
    "                            df_data.iloc[:, 1:-1].values, \n",
    "                            df_data.iloc[:, -1].values, \n",
    "                            test_size=alpha, \n",
    "                            random_state=42)\n",
    "    return X_train, X_test, y_train, y_test"
   ]
  },
  {
   "cell_type": "code",
   "execution_count": 8,
   "metadata": {},
   "outputs": [],
   "source": [
    "X_train, X_test, y_train, y_test = data_split(df_data1, 0.4)"
   ]
  },
  {
   "cell_type": "code",
   "execution_count": 38,
   "metadata": {},
   "outputs": [],
   "source": [
    "# define model\n",
    "clf1 = XGBClassifier(max_depth=3, \n",
    "                     learning_rate=0.1, \n",
    "                     n_estimators=100, \n",
    "                     verbosity=1, \n",
    "                     objective='binary:logistic', \n",
    "                     booster='gbtree', \n",
    "                     tree_method='auto', \n",
    "                     n_jobs=4, \n",
    "                     )\n",
    "\n",
    "clf2 = RandomForestClassifier(n_estimators=100,\n",
    "                              criterion='gini',\n",
    "                              max_depth=None, \n",
    "                              max_features='auto', \n",
    "                              min_samples_leaf=1, \n",
    "                              min_samples_split=2,\n",
    "                              min_weight_fraction_leaf=0.0, \n",
    "                              n_jobs=4)"
   ]
  },
  {
   "cell_type": "markdown",
   "metadata": {},
   "source": [
    "# 1) Multiple ensembles shown to work. Analysis of why one ensemble performs better or worse than others"
   ]
  },
  {
   "cell_type": "code",
   "execution_count": 36,
   "metadata": {},
   "outputs": [
    {
     "name": "stdout",
     "output_type": "stream",
     "text": [
      "ROC_index of XGB is:\n",
      " [(0.0, 0.0), (0.0, 0.04), (0.00202020202020202, 0.04), (0.00202020202020202, 0.08), (0.005050505050505051, 0.08), (0.005050505050505051, 0.12), (0.007070707070707071, 0.12), (0.007070707070707071, 0.16), (0.00909090909090909, 0.16), (0.00909090909090909, 0.2), (0.010101010101010102, 0.2), (0.010101010101010102, 0.28), (0.013131313131313131, 0.28), (0.013131313131313131, 0.32), (0.01919191919191919, 0.32), (0.01919191919191919, 0.36), (0.022222222222222223, 0.36), (0.022222222222222223, 0.44), (0.031313131313131314, 0.44), (0.031313131313131314, 0.48), (0.04242424242424243, 0.48), (0.04242424242424243, 0.52), (0.051515151515151514, 0.52), (0.051515151515151514, 0.56), (0.06666666666666667, 0.56), (0.06666666666666667, 0.64), (0.09292929292929293, 0.64), (0.09292929292929293, 0.76), (0.11313131313131314, 0.76), (0.11313131313131314, 0.8), (0.13737373737373737, 0.8), (0.13737373737373737, 0.84), (0.1505050505050505, 0.84), (0.1505050505050505, 0.88), (0.22828282828282828, 0.88), (0.22828282828282828, 0.92), (0.2383838383838384, 0.92), (0.2383838383838384, 0.96), (0.24343434343434345, 0.96), (0.24545454545454545, 0.96), (0.5454545454545454, 0.96), (0.5454545454545454, 1.0), (1.0, 1.0)]\n",
      "ROC_index of RF is:\n",
      " [(0.0, 0.0), (0.00101010101010101, 0.0), (0.00101010101010101, 0.04), (0.0030303030303030303, 0.04), (0.0030303030303030303, 0.08), (0.00404040404040404, 0.08), (0.00404040404040404, 0.12), (0.005050505050505051, 0.12), (0.007070707070707071, 0.12), (0.00808080808080808, 0.12), (0.00808080808080808, 0.16), (0.00909090909090909, 0.2), (0.00909090909090909, 0.24), (0.012121212121212121, 0.24), (0.015151515151515152, 0.28), (0.01919191919191919, 0.28), (0.020202020202020204, 0.28), (0.026262626262626262, 0.28), (0.030303030303030304, 0.28), (0.03333333333333333, 0.28), (0.03737373737373737, 0.32), (0.04040404040404041, 0.36), (0.046464646464646465, 0.36), (0.051515151515151514, 0.44), (0.05757575757575758, 0.48), (0.06464646464646465, 0.48), (0.07272727272727272, 0.56), (0.07878787878787878, 0.56), (0.0898989898989899, 0.56), (0.10404040404040404, 0.6), (0.1111111111111111, 0.68), (0.12525252525252525, 0.72), (0.13636363636363635, 0.72), (0.16161616161616163, 0.72), (0.19696969696969696, 0.88), (0.2222222222222222, 0.88), (0.2868686868686869, 0.88), (0.37373737373737376, 0.88), (0.5353535353535354, 0.92), (1.0, 1.0)]\n"
     ]
    }
   ],
   "source": [
    "# train model\n",
    "clf1.fit(X_train, y_train)\n",
    "clf2.fit(X_train, y_train)\n",
    "\n",
    "# predict\n",
    "y_pre1 = clf1.predict_proba(X_test)[:, 1]\n",
    "y_pre2 = clf2.predict_proba(X_test)[:, 1]\n",
    "\n",
    "# calculate ROC index \n",
    "fpr1, tpr1, thresholds1 = metrics.roc_curve(y_test, y_pre1)\n",
    "fpr2, tpr2, thresholds2 = metrics.roc_curve(y_test, y_pre2)\n",
    "\n",
    "ROC_index_XGB = [(i,j) for i,j in zip(fpr1, tpr1)]\n",
    "print(\"ROC_index of XGB is:\\n\", ROC_index_XGB)\n",
    "\n",
    "ROC_index_RF = [(i,j) for i,j in zip(fpr2, tpr2)]\n",
    "print(\"ROC_index of RF is:\\n\", ROC_index_RF)"
   ]
  },
  {
   "cell_type": "code",
   "execution_count": 37,
   "metadata": {},
   "outputs": [
    {
     "name": "stdout",
     "output_type": "stream",
     "text": [
      "AUC of XGB is: 0.9171717171717171\n",
      "AUC of RF is: 0.858040404040404\n"
     ]
    },
    {
     "data": {
      "image/png": "[encoded data removed]",
      "text/plain": [
       "<Figure size 432x288 with 1 Axes>"
      ]
     },
     "metadata": {
      "needs_background": "light"
     },
     "output_type": "display_data"
    }
   ],
   "source": [
    "# calculate AUC\n",
    "auc_score1 = metrics.roc_auc_score(y_test,y_pre1)\n",
    "print('AUC of XGB is:', auc_score1)\n",
    "auc_score2 = metrics.roc_auc_score(y_test,y_pre2)\n",
    "print('AUC of RF is:',auc_score2)\n",
    "\n",
    "# plot ROC of the models\n",
    "plt.plot(fpr1, tpr1, marker = 'o', label=\"xgb\")\n",
    "\n",
    "plt.plot(fpr2, tpr2, marker = '*', label=\"RF\")\n",
    "\n",
    "plt.show()"
   ]
  },
  {
   "cell_type": "markdown",
   "metadata": {},
   "source": [
    "XGB is one of boosting method, RF is one of bagging method, "
   ]
  },
  {
   "cell_type": "markdown",
   "metadata": {},
   "source": [
    "# 2) Analysis of interaction between hyperparameters and ensemble composition"
   ]
  },
  {
   "cell_type": "code",
   "execution_count": 39,
   "metadata": {},
   "outputs": [],
   "source": [
    "xgb1 = XGBClassifier(max_depth=3, \n",
    "                     learning_rate=0.1, \n",
    "                     n_estimators=100, \n",
    "                     objective='binary:logistic', \n",
    "                     booster='gbtree', \n",
    "                     n_jobs=4, \n",
    "                     )\n",
    "\n",
    "xgb2 = XGBClassifier(max_depth=5, \n",
    "                     learning_rate=0.1, \n",
    "                     n_estimators=100, \n",
    "                     objective='binary:logistic', \n",
    "                     booster='gbtree', \n",
    "                     n_jobs=4, \n",
    "                     )\n",
    "\n",
    "xgb3 = XGBClassifier(max_depth=3, \n",
    "                     learning_rate=0.01, \n",
    "                     n_estimators=100, \n",
    "                     objective='binary:logistic', \n",
    "                     booster='gbtree', \n",
    "                     n_jobs=4, \n",
    "                     )"
   ]
  },
  {
   "cell_type": "code",
   "execution_count": 46,
   "metadata": {},
   "outputs": [
    {
     "name": "stdout",
     "output_type": "stream",
     "text": [
      "ROC_index of XGB1 is:\n",
      " [(0.0, 0.0), (0.0, 0.04), (0.00202020202020202, 0.04), (0.00202020202020202, 0.08), (0.005050505050505051, 0.08), (0.005050505050505051, 0.12), (0.007070707070707071, 0.12), (0.007070707070707071, 0.16), (0.00909090909090909, 0.16), (0.00909090909090909, 0.2), (0.010101010101010102, 0.2), (0.010101010101010102, 0.28), (0.013131313131313131, 0.28), (0.013131313131313131, 0.32), (0.01919191919191919, 0.32), (0.01919191919191919, 0.36), (0.022222222222222223, 0.36), (0.022222222222222223, 0.44), (0.031313131313131314, 0.44), (0.031313131313131314, 0.48), (0.04242424242424243, 0.48), (0.04242424242424243, 0.52), (0.051515151515151514, 0.52), (0.051515151515151514, 0.56), (0.06666666666666667, 0.56), (0.06666666666666667, 0.64), (0.09292929292929293, 0.64), (0.09292929292929293, 0.76), (0.11313131313131314, 0.76), (0.11313131313131314, 0.8), (0.13737373737373737, 0.8), (0.13737373737373737, 0.84), (0.1505050505050505, 0.84), (0.1505050505050505, 0.88), (0.22828282828282828, 0.88), (0.22828282828282828, 0.92), (0.2383838383838384, 0.92), (0.2383838383838384, 0.96), (0.24343434343434345, 0.96), (0.24545454545454545, 0.96), (0.5454545454545454, 0.96), (0.5454545454545454, 1.0), (1.0, 1.0)]\n",
      "ROC_index of XGB2 is:\n",
      " [(0.0, 0.0), (0.0, 0.04), (0.0, 0.08), (0.0030303030303030303, 0.08), (0.0030303030303030303, 0.12), (0.01919191919191919, 0.12), (0.01919191919191919, 0.16), (0.022222222222222223, 0.16), (0.022222222222222223, 0.2), (0.02727272727272727, 0.2), (0.02727272727272727, 0.24), (0.028282828282828285, 0.24), (0.028282828282828285, 0.32), (0.029292929292929294, 0.32), (0.029292929292929294, 0.4), (0.03737373737373737, 0.4), (0.03737373737373737, 0.44), (0.048484848484848485, 0.44), (0.048484848484848485, 0.48), (0.049494949494949494, 0.48), (0.049494949494949494, 0.52), (0.06161616161616162, 0.52), (0.06161616161616162, 0.56), (0.07676767676767676, 0.56), (0.07676767676767676, 0.6), (0.08181818181818182, 0.6), (0.08181818181818182, 0.68), (0.08686868686868687, 0.68), (0.08686868686868687, 0.72), (0.10808080808080808, 0.72), (0.10808080808080808, 0.76), (0.12525252525252525, 0.76), (0.12525252525252525, 0.8), (0.14545454545454545, 0.8), (0.14545454545454545, 0.84), (0.15454545454545454, 0.84), (0.15656565656565657, 0.84), (0.15757575757575756, 0.84), (0.15757575757575756, 0.88), (0.20202020202020202, 0.88), (0.20202020202020202, 0.92), (0.3111111111111111, 0.92), (0.3111111111111111, 0.96), (0.6070707070707071, 0.96), (0.6070707070707071, 1.0), (0.7717171717171717, 1.0), (0.7737373737373737, 1.0), (0.906060606060606, 1.0), (0.908080808080808, 1.0), (0.9424242424242424, 1.0), (0.9444444444444444, 1.0), (0.9616161616161616, 1.0), (0.9636363636363636, 1.0), (0.9666666666666667, 1.0), (0.9686868686868687, 1.0), (0.9959595959595959, 1.0), (0.997979797979798, 1.0), (1.0, 1.0)]\n",
      "ROC_index of XGB3 is:\n",
      " [(0.0, 0.0), (0.0, 0.04), (0.007070707070707071, 0.04), (0.007070707070707071, 0.08), (0.00808080808080808, 0.08), (0.00808080808080808, 0.12), (0.012121212121212121, 0.12), (0.012121212121212121, 0.24), (0.014141414141414142, 0.24), (0.014141414141414142, 0.28), (0.01818181818181818, 0.28), (0.020202020202020204, 0.28), (0.022222222222222223, 0.28), (0.022222222222222223, 0.36), (0.02727272727272727, 0.36), (0.02727272727272727, 0.4), (0.049494949494949494, 0.4), (0.050505050505050504, 0.44), (0.05555555555555555, 0.44), (0.05555555555555555, 0.48), (0.06060606060606061, 0.48), (0.06565656565656566, 0.48), (0.06868686868686869, 0.48), (0.0707070707070707, 0.48), (0.07171717171717172, 0.52), (0.07373737373737374, 0.52), (0.07575757575757576, 0.52), (0.07878787878787878, 0.52), (0.07878787878787878, 0.56), (0.08181818181818182, 0.56), (0.08484848484848485, 0.56), (0.08686868686868687, 0.56), (0.08787878787878788, 0.56), (0.09090909090909091, 0.56), (0.10101010101010101, 0.56), (0.10505050505050505, 0.56), (0.10707070707070707, 0.56), (0.11818181818181818, 0.56), (0.12121212121212122, 0.56), (0.12424242424242424, 0.56), (0.16363636363636364, 0.6), (0.16464646464646465, 0.6), (0.1686868686868687, 0.6), (0.17272727272727273, 0.6), (0.17777777777777778, 0.64), (0.1787878787878788, 0.64), (0.18282828282828284, 0.64), (0.18383838383838383, 0.64), (0.20909090909090908, 0.72), (0.2101010101010101, 0.72), (0.22323232323232323, 0.72), (0.22424242424242424, 0.72), (0.22727272727272727, 0.72), (0.23030303030303031, 0.72), (0.23333333333333334, 0.72), (0.23535353535353534, 0.72), (0.2474747474747475, 0.72), (0.3707070707070707, 0.84), (0.3717171717171717, 0.84), (0.37676767676767675, 0.84), (0.37777777777777777, 0.84), (0.38484848484848483, 0.84), (0.39090909090909093, 0.84), (0.39191919191919194, 0.84), (0.39494949494949494, 0.84), (0.44747474747474747, 0.92), (0.4616161616161616, 1.0), (0.5444444444444444, 1.0), (0.598989898989899, 1.0), (1.0, 1.0)]\n"
     ]
    }
   ],
   "source": [
    "# train model\n",
    "xgb1.fit(X_train, y_train)\n",
    "xgb2.fit(X_train, y_train)\n",
    "xgb3.fit(X_train, y_train)\n",
    "\n",
    "\n",
    "# predict\n",
    "y_pre1 = xgb1.predict_proba(X_test)[:, 1]\n",
    "y_pre2 = xgb2.predict_proba(X_test)[:, 1]\n",
    "y_pre3 = xgb3.predict_proba(X_test)[:, 1]\n",
    "\n",
    "# calculate ROC index \n",
    "fpr1, tpr1, thresholds1 = metrics.roc_curve(y_test, y_pre1)\n",
    "fpr2, tpr2, thresholds2 = metrics.roc_curve(y_test, y_pre2)\n",
    "fpr3, tpr3, thresholds3 = metrics.roc_curve(y_test, y_pre3)\n",
    "\n",
    "ROC_index_XGB1 = [(i,j) for i,j in zip(fpr1, tpr1)]\n",
    "print(\"ROC_index of XGB1 is:\\n\", ROC_index_XGB1)\n",
    "\n",
    "ROC_index_XGB2 = [(i,j) for i,j in zip(fpr2, tpr2)]\n",
    "print(\"ROC_index of XGB2 is:\\n\", ROC_index_XGB2)\n",
    "\n",
    "ROC_index_XGB3 = [(i,j) for i,j in zip(fpr3, tpr3)]\n",
    "print(\"ROC_index of XGB3 is:\\n\", ROC_index_XGB3)"
   ]
  },
  {
   "cell_type": "code",
   "execution_count": 47,
   "metadata": {},
   "outputs": [
    {
     "name": "stdout",
     "output_type": "stream",
     "text": [
      "AUC of XGB1 is: 0.9171717171717171\n",
      "AUC of XGB2 is: 0.9052929292929293\n",
      "AUC of XGB3 is: 0.8486464646464646\n"
     ]
    },
    {
     "data": {
      "image/png": "[encoded data removed]",
      "text/plain": [
       "<Figure size 432x288 with 1 Axes>"
      ]
     },
     "metadata": {
      "needs_background": "light"
     },
     "output_type": "display_data"
    }
   ],
   "source": [
    "# calculate AUC\n",
    "auc_score1 = metrics.roc_auc_score(y_test,y_pre1)\n",
    "print('AUC of XGB1 is:', auc_score1)\n",
    "auc_score2 = metrics.roc_auc_score(y_test,y_pre2)\n",
    "print('AUC of XGB2 is:',auc_score2)\n",
    "auc_score3 = metrics.roc_auc_score(y_test,y_pre3)\n",
    "print('AUC of XGB3 is:',auc_score3)\n",
    "\n",
    "# plot ROC of the models\n",
    "plt.plot(fpr1, tpr1, marker = 'o')\n",
    "plt.plot(fpr2, tpr2, marker = '*')\n",
    "plt.plot(fpr3, tpr3, marker = '^')\n",
    "\n",
    "plt.show()"
   ]
  },
  {
   "cell_type": "markdown",
   "metadata": {},
   "source": [
    "'max_depth' in xgb1 is 3 and in xgb2 is 5, other hyperparameters are same, but xgb1's AUC is larger than xgb2's. 'learning_rate' in xgb1 is 0.1 and in xgb3 is 0.01, other hyperparameters are same, but xgb1's AUC is larger than xgb2's."
   ]
  },
  {
   "cell_type": "markdown",
   "metadata": {},
   "source": [
    "# 3) Analysis of interaction between training/validation/testing and ensembles and hyperparameters."
   ]
  },
  {
   "cell_type": "code",
   "execution_count": 66,
   "metadata": {},
   "outputs": [
    {
     "name": "stdout",
     "output_type": "stream",
     "text": [
      "ROC_index of XGB1 is:\n",
      " [(0.0, 0.0), (0.002004008016032064, 0.0), (0.01002004008016032, 0.0), (0.01002004008016032, 0.1111111111111111), (0.014028056112224449, 0.1111111111111111), (0.014028056112224449, 0.2222222222222222), (0.02004008016032064, 0.2222222222222222), (0.02004008016032064, 0.3333333333333333), (0.06012024048096192, 0.3333333333333333), (0.06012024048096192, 0.4444444444444444), (0.07414829659318638, 0.4444444444444444), (0.07414829659318638, 0.5555555555555556), (0.09619238476953908, 0.5555555555555556), (0.09619238476953908, 0.6666666666666666), (0.14829659318637275, 0.6666666666666666), (0.14829659318637275, 0.7777777777777778), (0.23446893787575152, 0.7777777777777778), (0.23446893787575152, 0.8888888888888888), (0.23847695390781562, 0.8888888888888888), (0.24248496993987975, 0.8888888888888888), (0.5370741482965932, 0.8888888888888888), (0.5370741482965932, 1.0), (1.0, 1.0)]\n",
      "ROC_index of XGB2 is:\n",
      " [(0.0, 0.0), (0.0, 0.05), (0.002699055330634278, 0.05), (0.002699055330634278, 0.1), (0.005398110661268556, 0.1), (0.005398110661268556, 0.15), (0.008097165991902834, 0.15), (0.008097165991902834, 0.2), (0.009446693657219974, 0.2), (0.009446693657219974, 0.25), (0.010796221322537112, 0.25), (0.010796221322537112, 0.35), (0.014844804318488529, 0.35), (0.014844804318488529, 0.4), (0.022941970310391364, 0.4), (0.022941970310391364, 0.45), (0.029689608636977057, 0.45), (0.029689608636977057, 0.5), (0.04183535762483131, 0.5), (0.04183535762483131, 0.55), (0.05398110661268556, 0.55), (0.05398110661268556, 0.6), (0.06882591093117409, 0.6), (0.06882591093117409, 0.65), (0.0931174089068826, 0.65), (0.0931174089068826, 0.8), (0.14304993252361672, 0.8), (0.14304993252361672, 0.85), (0.22807017543859648, 0.85), (0.22807017543859648, 0.9), (0.23751686909581646, 0.9), (0.23751686909581646, 0.95), (0.24021592442645073, 0.95), (0.242914979757085, 0.95), (0.5344129554655871, 0.95), (0.5344129554655871, 1.0), (1.0, 1.0)]\n",
      "ROC_index of XGB3 is:\n",
      " [(0.0, 0.0), (0.0, 0.04), (0.00202020202020202, 0.04), (0.00202020202020202, 0.08), (0.005050505050505051, 0.08), (0.005050505050505051, 0.12), (0.007070707070707071, 0.12), (0.007070707070707071, 0.16), (0.00909090909090909, 0.16), (0.00909090909090909, 0.2), (0.010101010101010102, 0.2), (0.010101010101010102, 0.28), (0.013131313131313131, 0.28), (0.013131313131313131, 0.32), (0.01919191919191919, 0.32), (0.01919191919191919, 0.36), (0.022222222222222223, 0.36), (0.022222222222222223, 0.44), (0.031313131313131314, 0.44), (0.031313131313131314, 0.48), (0.04242424242424243, 0.48), (0.04242424242424243, 0.52), (0.051515151515151514, 0.52), (0.051515151515151514, 0.56), (0.06666666666666667, 0.56), (0.06666666666666667, 0.64), (0.09292929292929293, 0.64), (0.09292929292929293, 0.76), (0.11313131313131314, 0.76), (0.11313131313131314, 0.8), (0.13737373737373737, 0.8), (0.13737373737373737, 0.84), (0.1505050505050505, 0.84), (0.1505050505050505, 0.88), (0.22828282828282828, 0.88), (0.22828282828282828, 0.92), (0.2383838383838384, 0.92), (0.2383838383838384, 0.96), (0.24343434343434345, 0.96), (0.24545454545454545, 0.96), (0.5454545454545454, 0.96), (0.5454545454545454, 1.0), (1.0, 1.0)]\n"
     ]
    }
   ],
   "source": [
    "X_train1, X_test1, y_train1, y_test1 = data_split(df_data1, 0.2)\n",
    "clf1 = xgb1.fit(X_train1, y_train1)\n",
    "\n",
    "X_train2, X_test2, y_train2, y_test2 = data_split(df_data1, 0.3)\n",
    "clf2 = xgb1.fit(X_train2, y_train2)\n",
    "\n",
    "X_train3, X_test3, y_train3, y_test3 = data_split(df_data1, 0.4)\n",
    "clf2 = xgb1.fit(X_train3, y_train3)\n",
    "\n",
    "# predict\n",
    "y_pre1 = clf1.predict_proba(X_test1)[:, 1]\n",
    "y_pre2 = clf2.predict_proba(X_test2)[:, 1]\n",
    "y_pre3 = clf2.predict_proba(X_test3)[:, 1]\n",
    "\n",
    "# calculate ROC index \n",
    "fpr1, tpr1, thresholds1 = metrics.roc_curve(y_test1, y_pre1)\n",
    "fpr2, tpr2, thresholds2 = metrics.roc_curve(y_test2, y_pre2)\n",
    "fpr3, tpr3, thresholds3 = metrics.roc_curve(y_test3, y_pre3)\n",
    "\n",
    "ROC_index_XGB1 = [(i,j) for i,j in zip(fpr1, tpr1)]\n",
    "print(\"ROC_index of XGB1 is:\\n\", ROC_index_XGB1)\n",
    "\n",
    "ROC_index_XGB2 = [(i,j) for i,j in zip(fpr2, tpr2)]\n",
    "print(\"ROC_index of XGB2 is:\\n\", ROC_index_XGB2)\n",
    "\n",
    "ROC_index_XGB3 = [(i,j) for i,j in zip(fpr3, tpr3)]\n",
    "print(\"ROC_index of XGB3 is:\\n\", ROC_index_XGB3)"
   ]
  },
  {
   "cell_type": "code",
   "execution_count": 68,
   "metadata": {},
   "outputs": [
    {
     "name": "stdout",
     "output_type": "stream",
     "text": [
      "AUC of XGB1 is: 0.8672901358272099\n",
      "AUC of XGB2 is: 0.9149122807017545\n",
      "AUC of XGB3 is: 0.9171717171717171\n"
     ]
    },
    {
     "data": {
      "image/png": "[encoded data removed]",
      "text/plain": [
       "<Figure size 432x288 with 1 Axes>"
      ]
     },
     "metadata": {
      "needs_background": "light"
     },
     "output_type": "display_data"
    }
   ],
   "source": [
    "# calculate AUC\n",
    "auc_score1 = metrics.roc_auc_score(y_test1, y_pre1)\n",
    "print('AUC of XGB1 is:', auc_score1)\n",
    "auc_score2 = metrics.roc_auc_score(y_test2, y_pre2)\n",
    "print('AUC of XGB2 is:',auc_score2)\n",
    "auc_score3 = metrics.roc_auc_score(y_test3, y_pre3)\n",
    "print('AUC of XGB3 is:',auc_score3)\n",
    "\n",
    "# plot ROC of the models\n",
    "plt.plot(fpr1, tpr1, marker = 'o')\n",
    "plt.plot(fpr2, tpr2, marker = '*')\n",
    "plt.plot(fpr3, tpr3, marker = '^')\n",
    "\n",
    "plt.show()"
   ]
  },
  {
   "cell_type": "markdown",
   "metadata": {},
   "source": [
    "'test_size' of three dataset is 0.2, 0.3, 0.4, when I increase 'test_size', the AUC of the model is alse increase."
   ]
  },
  {
   "cell_type": "code",
   "execution_count": null,
   "metadata": {},
   "outputs": [],
   "source": []
  }
 ],
 "metadata": {
  "kernelspec": {
   "display_name": "Python 3",
   "language": "python",
   "name": "python3"
  },
  "language_info": {
   "codemirror_mode": {
    "name": "ipython",
    "version": 3
   },
   "file_extension": ".py",
   "mimetype": "text/x-python",
   "name": "python",
   "nbconvert_exporter": "python",
   "pygments_lexer": "ipython3",
   "version": "3.7.3"
  }
 },
 "nbformat": 4,
 "nbformat_minor": 2
}
