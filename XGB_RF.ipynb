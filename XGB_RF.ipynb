{
 "cells": [
  {
   "cell_type": "markdown",
   "metadata": {},
   "source": [
    "1、Multiple ensembles shown to work. Analysis of why one ensemble performs better or worse than others. \n",
    "2、Analysis of interaction between hyperparameters and ensemble composition. \n",
    "3、Analysis of interaction between training/validation/testing and ensembles and hyperparameters. \n",
    "4、ROC created and all models/ensembles plotted on the same graph. ROC index calculated."
   ]
  },
  {
   "cell_type": "code",
   "execution_count": 39,
   "metadata": {},
   "outputs": [],
   "source": [
    "import pandas as pd\n",
    "import numpy as np\n",
    "from sklearn.model_selection import train_test_split\n",
    "\n",
    "from xgboost import XGBClassifier\n",
    "from lightgbm import LGBMClassifier\n",
    "from sklearn import metrics\n",
    "import matplotlib.pyplot as plt"
   ]
  },
  {
   "cell_type": "code",
   "execution_count": 23,
   "metadata": {},
   "outputs": [
    {
     "data": {
      "text/html": [
       "<div>\n",
       "<style scoped>\n",
       "    .dataframe tbody tr th:only-of-type {\n",
       "        vertical-align: middle;\n",
       "    }\n",
       "\n",
       "    .dataframe tbody tr th {\n",
       "        vertical-align: top;\n",
       "    }\n",
       "\n",
       "    .dataframe thead th {\n",
       "        text-align: right;\n",
       "    }\n",
       "</style>\n",
       "<table border=\"1\" class=\"dataframe\">\n",
       "  <thead>\n",
       "    <tr style=\"text-align: right;\">\n",
       "      <th></th>\n",
       "      <th>Date</th>\n",
       "      <th>WSR0</th>\n",
       "      <th>WSR1</th>\n",
       "      <th>WSR2</th>\n",
       "      <th>WSR3</th>\n",
       "      <th>WSR4</th>\n",
       "      <th>WSR5</th>\n",
       "      <th>WSR6</th>\n",
       "      <th>WSR7</th>\n",
       "      <th>WSR8</th>\n",
       "      <th>...</th>\n",
       "      <th>RH50</th>\n",
       "      <th>U50</th>\n",
       "      <th>V50</th>\n",
       "      <th>HT50</th>\n",
       "      <th>KI</th>\n",
       "      <th>TT</th>\n",
       "      <th>SLP</th>\n",
       "      <th>SLP_</th>\n",
       "      <th>Precp</th>\n",
       "      <th>Orzone</th>\n",
       "    </tr>\n",
       "  </thead>\n",
       "  <tbody>\n",
       "    <tr>\n",
       "      <td>0</td>\n",
       "      <td>01/01/1998</td>\n",
       "      <td>0.8</td>\n",
       "      <td>1.8</td>\n",
       "      <td>2.4</td>\n",
       "      <td>2.1</td>\n",
       "      <td>2.0</td>\n",
       "      <td>2.1</td>\n",
       "      <td>1.5</td>\n",
       "      <td>1.7</td>\n",
       "      <td>1.9</td>\n",
       "      <td>...</td>\n",
       "      <td>0.15</td>\n",
       "      <td>10.67</td>\n",
       "      <td>-1.56</td>\n",
       "      <td>5795</td>\n",
       "      <td>-12.1</td>\n",
       "      <td>17.9</td>\n",
       "      <td>10330</td>\n",
       "      <td>-55</td>\n",
       "      <td>0.0</td>\n",
       "      <td>0</td>\n",
       "    </tr>\n",
       "    <tr>\n",
       "      <td>1</td>\n",
       "      <td>01/02/1998</td>\n",
       "      <td>2.8</td>\n",
       "      <td>3.2</td>\n",
       "      <td>3.3</td>\n",
       "      <td>2.7</td>\n",
       "      <td>3.3</td>\n",
       "      <td>3.2</td>\n",
       "      <td>2.9</td>\n",
       "      <td>2.8</td>\n",
       "      <td>3.1</td>\n",
       "      <td>...</td>\n",
       "      <td>0.48</td>\n",
       "      <td>8.39</td>\n",
       "      <td>3.84</td>\n",
       "      <td>5805</td>\n",
       "      <td>14.05</td>\n",
       "      <td>29</td>\n",
       "      <td>10275</td>\n",
       "      <td>-55</td>\n",
       "      <td>0.0</td>\n",
       "      <td>0</td>\n",
       "    </tr>\n",
       "    <tr>\n",
       "      <td>2</td>\n",
       "      <td>01/03/1998</td>\n",
       "      <td>2.9</td>\n",
       "      <td>2.8</td>\n",
       "      <td>2.6</td>\n",
       "      <td>2.1</td>\n",
       "      <td>2.2</td>\n",
       "      <td>2.5</td>\n",
       "      <td>2.5</td>\n",
       "      <td>2.7</td>\n",
       "      <td>2.2</td>\n",
       "      <td>...</td>\n",
       "      <td>0.6</td>\n",
       "      <td>6.94</td>\n",
       "      <td>9.8</td>\n",
       "      <td>5790</td>\n",
       "      <td>17.9</td>\n",
       "      <td>41.3</td>\n",
       "      <td>10235</td>\n",
       "      <td>-40</td>\n",
       "      <td>0.0</td>\n",
       "      <td>0</td>\n",
       "    </tr>\n",
       "  </tbody>\n",
       "</table>\n",
       "<p>3 rows × 74 columns</p>\n",
       "</div>"
      ],
      "text/plain": [
       "         Date  WSR0  WSR1  WSR2  WSR3  WSR4  WSR5 WSR6  WSR7  WSR8  ...  RH50  \\\n",
       "0  01/01/1998   0.8   1.8   2.4   2.1   2.0   2.1  1.5   1.7   1.9  ...  0.15   \n",
       "1  01/02/1998   2.8   3.2   3.3   2.7   3.3   3.2  2.9   2.8   3.1  ...  0.48   \n",
       "2  01/03/1998   2.9   2.8   2.6   2.1   2.2   2.5  2.5   2.7   2.2  ...   0.6   \n",
       "\n",
       "     U50    V50  HT50     KI    TT    SLP SLP_  Precp  Orzone  \n",
       "0  10.67  -1.56  5795  -12.1  17.9  10330  -55    0.0       0  \n",
       "1   8.39   3.84  5805  14.05    29  10275  -55    0.0       0  \n",
       "2   6.94    9.8  5790   17.9  41.3  10235  -40    0.0       0  \n",
       "\n",
       "[3 rows x 74 columns]"
      ]
     },
     "execution_count": 23,
     "metadata": {},
     "output_type": "execute_result"
    }
   ],
   "source": [
    "df_data1 = pd.read_csv('ozone_eighthr.csv')\n",
    "df_data1.replace(['?'],[0], inplace =True)\n",
    "df_data1.fillna(0, inplace =True)\n",
    "df_data1.iloc[:3]"
   ]
  },
  {
   "cell_type": "code",
   "execution_count": 24,
   "metadata": {},
   "outputs": [
    {
     "data": {
      "text/html": [
       "<div>\n",
       "<style scoped>\n",
       "    .dataframe tbody tr th:only-of-type {\n",
       "        vertical-align: middle;\n",
       "    }\n",
       "\n",
       "    .dataframe tbody tr th {\n",
       "        vertical-align: top;\n",
       "    }\n",
       "\n",
       "    .dataframe thead th {\n",
       "        text-align: right;\n",
       "    }\n",
       "</style>\n",
       "<table border=\"1\" class=\"dataframe\">\n",
       "  <thead>\n",
       "    <tr style=\"text-align: right;\">\n",
       "      <th></th>\n",
       "      <th>Date</th>\n",
       "      <th>WSR0</th>\n",
       "      <th>WSR1</th>\n",
       "      <th>WSR2</th>\n",
       "      <th>WSR3</th>\n",
       "      <th>WSR4</th>\n",
       "      <th>WSR5</th>\n",
       "      <th>WSR6</th>\n",
       "      <th>WSR7</th>\n",
       "      <th>WSR8</th>\n",
       "      <th>...</th>\n",
       "      <th>RH50</th>\n",
       "      <th>U50</th>\n",
       "      <th>V50</th>\n",
       "      <th>HT50</th>\n",
       "      <th>KI</th>\n",
       "      <th>TT</th>\n",
       "      <th>SLP</th>\n",
       "      <th>SLP_</th>\n",
       "      <th>Precp</th>\n",
       "      <th>Orzone</th>\n",
       "    </tr>\n",
       "  </thead>\n",
       "  <tbody>\n",
       "    <tr>\n",
       "      <td>0</td>\n",
       "      <td>01/01/1998</td>\n",
       "      <td>0.8</td>\n",
       "      <td>1.8</td>\n",
       "      <td>2.4</td>\n",
       "      <td>2.1</td>\n",
       "      <td>2.0</td>\n",
       "      <td>2.1</td>\n",
       "      <td>1.5</td>\n",
       "      <td>1.7</td>\n",
       "      <td>1.9</td>\n",
       "      <td>...</td>\n",
       "      <td>0.15</td>\n",
       "      <td>10.67</td>\n",
       "      <td>-1.56</td>\n",
       "      <td>5795</td>\n",
       "      <td>-12.1</td>\n",
       "      <td>17.9</td>\n",
       "      <td>10330</td>\n",
       "      <td>-55</td>\n",
       "      <td>0.0</td>\n",
       "      <td>0</td>\n",
       "    </tr>\n",
       "    <tr>\n",
       "      <td>1</td>\n",
       "      <td>01/02/1998</td>\n",
       "      <td>2.8</td>\n",
       "      <td>3.2</td>\n",
       "      <td>3.3</td>\n",
       "      <td>2.7</td>\n",
       "      <td>3.3</td>\n",
       "      <td>3.2</td>\n",
       "      <td>2.9</td>\n",
       "      <td>2.8</td>\n",
       "      <td>3.1</td>\n",
       "      <td>...</td>\n",
       "      <td>0.48</td>\n",
       "      <td>8.39</td>\n",
       "      <td>3.84</td>\n",
       "      <td>5805</td>\n",
       "      <td>14.05</td>\n",
       "      <td>29</td>\n",
       "      <td>10275</td>\n",
       "      <td>-55</td>\n",
       "      <td>0.0</td>\n",
       "      <td>0</td>\n",
       "    </tr>\n",
       "    <tr>\n",
       "      <td>2</td>\n",
       "      <td>01/03/1998</td>\n",
       "      <td>2.9</td>\n",
       "      <td>2.8</td>\n",
       "      <td>2.6</td>\n",
       "      <td>2.1</td>\n",
       "      <td>2.2</td>\n",
       "      <td>2.5</td>\n",
       "      <td>2.5</td>\n",
       "      <td>2.7</td>\n",
       "      <td>2.2</td>\n",
       "      <td>...</td>\n",
       "      <td>0.6</td>\n",
       "      <td>6.94</td>\n",
       "      <td>9.8</td>\n",
       "      <td>5790</td>\n",
       "      <td>17.9</td>\n",
       "      <td>41.3</td>\n",
       "      <td>10235</td>\n",
       "      <td>-40</td>\n",
       "      <td>0.0</td>\n",
       "      <td>0</td>\n",
       "    </tr>\n",
       "  </tbody>\n",
       "</table>\n",
       "<p>3 rows × 74 columns</p>\n",
       "</div>"
      ],
      "text/plain": [
       "         Date  WSR0  WSR1  WSR2  WSR3  WSR4  WSR5 WSR6  WSR7  WSR8  ...  RH50  \\\n",
       "0  01/01/1998   0.8   1.8   2.4   2.1   2.0   2.1  1.5   1.7   1.9  ...  0.15   \n",
       "1  01/02/1998   2.8   3.2   3.3   2.7   3.3   3.2  2.9   2.8   3.1  ...  0.48   \n",
       "2  01/03/1998   2.9   2.8   2.6   2.1   2.2   2.5  2.5   2.7   2.2  ...   0.6   \n",
       "\n",
       "     U50    V50  HT50     KI    TT    SLP SLP_  Precp  Orzone  \n",
       "0  10.67  -1.56  5795  -12.1  17.9  10330  -55    0.0       0  \n",
       "1   8.39   3.84  5805  14.05    29  10275  -55    0.0       0  \n",
       "2   6.94    9.8  5790   17.9  41.3  10235  -40    0.0       0  \n",
       "\n",
       "[3 rows x 74 columns]"
      ]
     },
     "execution_count": 24,
     "metadata": {},
     "output_type": "execute_result"
    }
   ],
   "source": [
    "df_data2 = pd.read_csv(\"ozone_onehr.csv\")\n",
    "df_data2.replace(['?'],[0], inplace =True)\n",
    "df_data2.fillna(0, inplace =True)\n",
    "df_data2.iloc[:3]"
   ]
  },
  {
   "cell_type": "code",
   "execution_count": 25,
   "metadata": {},
   "outputs": [],
   "source": [
    "def func(df_data, alpha):\n",
    "    X_train, X_test, y_train, y_test = train_test_split(\\\n",
    "                            df_data.iloc[:, 1:-1].values, \n",
    "                            df_data.iloc[:, -1].values, \n",
    "                            test_size=alpha, \n",
    "                            random_state=42)\n",
    "    return X_train, X_test, y_train, y_test"
   ]
  },
  {
   "cell_type": "code",
   "execution_count": 26,
   "metadata": {},
   "outputs": [],
   "source": [
    "X_train, X_test, y_train, y_test = func(df_data1, 0.4)"
   ]
  },
  {
   "cell_type": "code",
   "execution_count": 36,
   "metadata": {},
   "outputs": [
    {
     "data": {
      "text/plain": [
       "LGBMClassifier(boosting_type='gbdt', class_weight=None, colsample_bytree=0.8,\n",
       "               importance_type='split', learning_rate=0.06, max_depth=15,\n",
       "               min_child_samples=20, min_child_weight=1, min_split_gain=0.0,\n",
       "               n_estimators=6000, n_jobs=4, num_leaves=55, objective='binary',\n",
       "               random_state=20, reg_alpha=0.0, reg_lambda=1, silent=True,\n",
       "               subsample=0.8, subsample_for_bin=200000, subsample_freq=1)"
      ]
     },
     "execution_count": 36,
     "metadata": {},
     "output_type": "execute_result"
    }
   ],
   "source": [
    " # 拟合XGBoost模型\n",
    "clf1 = XGBClassifier(max_depth=3, \n",
    "                     learning_rate=0.1, \n",
    "                     n_estimators=100, \n",
    "                     verbosity=1, \n",
    "                     objective='binary:logistic', \n",
    "                     booster='gbtree', \n",
    "                     tree_method='auto', \n",
    "                     n_jobs=4, \n",
    "                     gamma=0, \n",
    "                     min_child_weight=1, \n",
    "                     max_delta_step=0, \n",
    "                     subsample=1, \n",
    "                     colsample_bytree=1, \n",
    "                     colsample_bylevel=1, \n",
    "                     colsample_bynode=1, \n",
    "                     reg_alpha=0, \n",
    "                     reg_lambda=1, \n",
    "                     scale_pos_weight=1, \n",
    "                     base_score=0.5, \n",
    "                     random_state=0)\n",
    "\n",
    "clf1.fit(X_train, y_train)\n",
    "\n",
    "\n",
    "clf2 = LGBMClassifier(boosting_type='gbdt', \n",
    "                      num_leaves=55, \n",
    "                      reg_alpha=0.0, \n",
    "                      reg_lambda=1,\n",
    "                      max_depth=15, \n",
    "                      n_estimators=6000, \n",
    "                      objective='binary',\n",
    "                      subsample=0.8, \n",
    "                      colsample_bytree=0.8, \n",
    "                      subsample_freq=1,\n",
    "                      learning_rate=0.06, \n",
    "                      min_child_weight=1, \n",
    "                      random_state=20, \n",
    "                      n_jobs=4\n",
    "    )\n",
    "\n",
    "clf2.fit(X_train, y_train)"
   ]
  },
  {
   "cell_type": "code",
   "execution_count": 37,
   "metadata": {},
   "outputs": [
    {
     "data": {
      "image/png": "[encoded data removed]",
      "text/plain": [
       "<Figure size 432x288 with 1 Axes>"
      ]
     },
     "metadata": {
      "needs_background": "light"
     },
     "output_type": "display_data"
    },
    {
     "name": "stdout",
     "output_type": "stream",
     "text": [
      "0.8966564377956783\n"
     ]
    }
   ],
   "source": [
    "clf1.fit(X_train, y_train)\n",
    "y_pre = clf1.predict_proba(X_test)[:, 1]\n",
    "\n",
    "fpr, tpr, thresholds = metrics.roc_curve(y_test,\n",
    "                                          y_pre)\n",
    "plt.plot(fpr,tpr,marker = '*')\n",
    "plt.show()\n",
    "\n",
    "auc_score1 = metrics.roc_auc_score(y_test,y_pre)\n",
    "print(auc_score1)"
   ]
  },
  {
   "cell_type": "code",
   "execution_count": 38,
   "metadata": {},
   "outputs": [
    {
     "data": {
      "image/png": "[encoded data removed]",
      "text/plain": [
       "<Figure size 432x288 with 1 Axes>"
      ]
     },
     "metadata": {
      "needs_background": "light"
     },
     "output_type": "display_data"
    },
    {
     "name": "stdout",
     "output_type": "stream",
     "text": [
      "0.9005082470272343\n"
     ]
    }
   ],
   "source": [
    "clf2.fit(X_train, y_train)\n",
    "y_pre = clf2.predict_proba(X_test)[:, 1]\n",
    "\n",
    "fpr, tpr, thresholds = metrics.roc_curve(y_test,\n",
    "                                          y_pre)\n",
    "plt.plot(fpr,tpr,marker = '.')\n",
    "plt.show()\n",
    "\n",
    "auc_score1 = metrics.roc_auc_score(y_test,y_pre)\n",
    "print(auc_score1)"
   ]
  },
  {
   "cell_type": "code",
   "execution_count": null,
   "metadata": {},
   "outputs": [],
   "source": []
  }
 ],
 "metadata": {
  "kernelspec": {
   "display_name": "Python 3",
   "language": "python",
   "name": "python3"
  },
  "language_info": {
   "codemirror_mode": {
    "name": "ipython",
    "version": 3
   },
   "file_extension": ".py",
   "mimetype": "text/x-python",
   "name": "python",
   "nbconvert_exporter": "python",
   "pygments_lexer": "ipython3",
   "version": "3.6.9"
  }
 },
 "nbformat": 4,
 "nbformat_minor": 2
}
