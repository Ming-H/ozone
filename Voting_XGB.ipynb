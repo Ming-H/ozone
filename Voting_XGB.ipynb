{
 "cells": [
  {
   "cell_type": "code",
   "execution_count": 1,
   "metadata": {},
   "outputs": [],
   "source": [
    "from xgboost import XGBClassifier\n",
    "from sklearn.ensemble import RandomForestClassifier\n",
    "from sklearn.ensemble import VotingClassifier\n",
    "from sklearn.linear_model import LogisticRegression\n",
    "from sklearn.svm import SVC\n",
    "from sklearn.model_selection import train_test_split\n",
    "from sklearn.metrics import accuracy_score,roc_auc_score,roc_curve\n",
    "import pandas as pd\n",
    "from sklearn import metrics"
   ]
  },
  {
   "cell_type": "markdown",
   "metadata": {},
   "source": [
    "# Multiple ensembles shown to work"
   ]
  },
  {
   "cell_type": "code",
   "execution_count": 2,
   "metadata": {},
   "outputs": [],
   "source": [
    "# 导入数据\n",
    "\n",
    "df_data = pd.read_csv('ozone_eighthr.csv') # 使用pandas包读取数据\n",
    "df_data.replace(['?'],[-9999], inplace =True) # 替换非法字符串\n",
    "df_data.fillna(-9999, inplace =True) #将空值用-9999替换\n",
    "\n",
    "df_data.pop('Date') #去除日期列，不能用于模型训练\n",
    "label = df_data.pop('Orzone').values #用于模型训练的标签\n",
    "data = df_data.values  #用于模型训练的特征数据\n",
    "\n",
    "# 训练集、测试机划分\n",
    "X_train, X_test, y_train, y_test = train_test_split(data, label, test_size=0.3, random_state=22)"
   ]
  },
  {
   "cell_type": "code",
   "execution_count": 3,
   "metadata": {},
   "outputs": [
    {
     "name": "stderr",
     "output_type": "stream",
     "text": [
      "/usr/local/lib/python3.7/site-packages/sklearn/linear_model/logistic.py:432: FutureWarning: Default solver will be changed to 'lbfgs' in 0.22. Specify a solver to silence this warning.\n",
      "  FutureWarning)\n",
      "/usr/local/lib/python3.7/site-packages/sklearn/svm/base.py:929: ConvergenceWarning: Liblinear failed to converge, increase the number of iterations.\n",
      "  \"the number of iterations.\", ConvergenceWarning)\n",
      "/usr/local/lib/python3.7/site-packages/sklearn/ensemble/forest.py:245: FutureWarning: The default value of n_estimators will change from 10 in version 0.20 to 100 in 0.22.\n",
      "  \"10 in version 0.20 to 100 in 0.22.\", FutureWarning)\n",
      "/usr/local/lib/python3.7/site-packages/sklearn/svm/base.py:193: FutureWarning: The default value of gamma will change from 'auto' to 'scale' in version 0.22 to account better for unscaled features. Set gamma explicitly to 'auto' or 'scale' to avoid this warning.\n",
      "  \"avoid this warning.\", FutureWarning)\n"
     ]
    },
    {
     "name": "stdout",
     "output_type": "stream",
     "text": [
      "LogisticRegression accuracy is  0.9250985545335085\n",
      "LogisticRegression auc is  0.6681858662056682\n",
      "RandomForestClassifier accuracy is  0.9356110381077529\n",
      "RandomForestClassifier auc is  0.8531091204358532\n",
      "SVC accuracy is  0.9290407358738502\n",
      "SVC auc is  0.5317329351982817\n"
     ]
    },
    {
     "name": "stderr",
     "output_type": "stream",
     "text": [
      "/usr/local/lib/python3.7/site-packages/sklearn/linear_model/logistic.py:432: FutureWarning: Default solver will be changed to 'lbfgs' in 0.22. Specify a solver to silence this warning.\n",
      "  FutureWarning)\n",
      "/usr/local/lib/python3.7/site-packages/sklearn/svm/base.py:929: ConvergenceWarning: Liblinear failed to converge, increase the number of iterations.\n",
      "  \"the number of iterations.\", ConvergenceWarning)\n",
      "/usr/local/lib/python3.7/site-packages/sklearn/svm/base.py:193: FutureWarning: The default value of gamma will change from 'auto' to 'scale' in version 0.22 to account better for unscaled features. Set gamma explicitly to 'auto' or 'scale' to avoid this warning.\n",
      "  \"avoid this warning.\", FutureWarning)\n"
     ]
    },
    {
     "name": "stdout",
     "output_type": "stream",
     "text": [
      "VotingClassifier accuracy is  0.9290407358738502\n",
      "VotingClassifier auc is  0.8280947142333281\n",
      "XGBClassifier accuracy is  0.9434954007884363\n",
      "XGBClassifier auc is  0.892032060348892\n"
     ]
    }
   ],
   "source": [
    "# 三个基学习器\n",
    "log_clf = LogisticRegression()\n",
    "rf_clf = RandomForestClassifier()\n",
    "svm_clf = SVC(probability=True)\n",
    "# 投票分类器\n",
    "voting_clf = VotingClassifier( estimators=[(\"lr\", log_clf), (\"rf\", rf_clf), (\"svc\", svm_clf)], voting='soft' )\n",
    "# voting_clf.fit( X_train, y_train )\n",
    "\n",
    "clf_xgb = XGBClassifier(objective='binary:logistic')\n",
    "\n",
    "\n",
    "# 假正率、真正率\n",
    "L1 = []\n",
    "L2 = []\n",
    "\n",
    "for clf in ( log_clf, rf_clf, svm_clf, voting_clf, clf_xgb):\n",
    "    clf.fit( X_train, y_train ) #训练\n",
    "    y_pred = clf.predict( X_test ) #预测\n",
    "    print(clf.__class__.__name__,'accuracy is ', accuracy_score(y_test, y_pred) ) #计算准确率\n",
    "    \n",
    "    y_score = clf.predict_proba(X_test)[:, 1]   #预测，得到的是概率\n",
    "    print(clf.__class__.__name__, 'auc is ', roc_auc_score(y_test,y_score)) # 计算AUC\n",
    "    \n",
    "    # 这两个是计算ROC的index\n",
    "    L1.append(roc_curve(y_test, y_score)[0]) # 真正率\n",
    "    L2.append(roc_curve(y_test, y_score)[1]) # 假证率 "
   ]
  },
  {
   "cell_type": "code",
   "execution_count": 4,
   "metadata": {},
   "outputs": [
    {
     "data": {
      "text/plain": [
       "<Figure size 640x480 with 1 Axes>"
      ]
     },
     "metadata": {},
     "output_type": "display_data"
    }
   ],
   "source": [
    "# 画图\n",
    "import matplotlib.pyplot as plt\n",
    "plt.plot(L1[0], L2[0], marker = 'o') \n",
    "plt.plot(L1[1], L2[1], marker = '*') \n",
    "plt.plot(L1[2], L2[2], marker = '^') \n",
    "plt.plot(L1[3], L2[3], marker = '.') \n",
    "plt.plot(L1[4], L2[4], marker = 'o') \n",
    "plt.show()"
   ]
  },
  {
   "cell_type": "markdown",
   "metadata": {},
   "source": [
    "It can be seen from the above results that the XGB and voting effects are better than other base models, because these two are integrated learning algorithms, which will comprehensively consider the results of multiple classifiers."
   ]
  },
  {
   "cell_type": "markdown",
   "metadata": {},
   "source": [
    "# Interaction between hyperparameters and ensemble composition"
   ]
  },
  {
   "cell_type": "code",
   "execution_count": 5,
   "metadata": {},
   "outputs": [
    {
     "name": "stderr",
     "output_type": "stream",
     "text": [
      "/usr/local/lib/python3.7/site-packages/sklearn/linear_model/logistic.py:432: FutureWarning: Default solver will be changed to 'lbfgs' in 0.22. Specify a solver to silence this warning.\n",
      "  FutureWarning)\n",
      "/usr/local/lib/python3.7/site-packages/sklearn/svm/base.py:929: ConvergenceWarning: Liblinear failed to converge, increase the number of iterations.\n",
      "  \"the number of iterations.\", ConvergenceWarning)\n",
      "/usr/local/lib/python3.7/site-packages/sklearn/ensemble/forest.py:245: FutureWarning: The default value of n_estimators will change from 10 in version 0.20 to 100 in 0.22.\n",
      "  \"10 in version 0.20 to 100 in 0.22.\", FutureWarning)\n",
      "/usr/local/lib/python3.7/site-packages/sklearn/svm/base.py:193: FutureWarning: The default value of gamma will change from 'auto' to 'scale' in version 0.22 to account better for unscaled features. Set gamma explicitly to 'auto' or 'scale' to avoid this warning.\n",
      "  \"avoid this warning.\", FutureWarning)\n"
     ]
    },
    {
     "name": "stdout",
     "output_type": "stream",
     "text": [
      "VotingClassifier accuracy is  0.9290407358738502\n",
      "VotingClassifier auc is  0.8437319922468437\n"
     ]
    },
    {
     "name": "stderr",
     "output_type": "stream",
     "text": [
      "/usr/local/lib/python3.7/site-packages/sklearn/linear_model/logistic.py:432: FutureWarning: Default solver will be changed to 'lbfgs' in 0.22. Specify a solver to silence this warning.\n",
      "  FutureWarning)\n",
      "/usr/local/lib/python3.7/site-packages/sklearn/svm/base.py:929: ConvergenceWarning: Liblinear failed to converge, increase the number of iterations.\n",
      "  \"the number of iterations.\", ConvergenceWarning)\n",
      "/usr/local/lib/python3.7/site-packages/sklearn/ensemble/forest.py:245: FutureWarning: The default value of n_estimators will change from 10 in version 0.20 to 100 in 0.22.\n",
      "  \"10 in version 0.20 to 100 in 0.22.\", FutureWarning)\n",
      "/usr/local/lib/python3.7/site-packages/sklearn/svm/base.py:193: FutureWarning: The default value of gamma will change from 'auto' to 'scale' in version 0.22 to account better for unscaled features. Set gamma explicitly to 'auto' or 'scale' to avoid this warning.\n",
      "  \"avoid this warning.\", FutureWarning)\n"
     ]
    },
    {
     "name": "stdout",
     "output_type": "stream",
     "text": [
      "VotingClassifier accuracy is  0.9290407358738502\n",
      "VotingClassifier auc is  0.8789878987898789\n"
     ]
    },
    {
     "name": "stderr",
     "output_type": "stream",
     "text": [
      "/usr/local/lib/python3.7/site-packages/sklearn/linear_model/logistic.py:432: FutureWarning: Default solver will be changed to 'lbfgs' in 0.22. Specify a solver to silence this warning.\n",
      "  FutureWarning)\n",
      "/usr/local/lib/python3.7/site-packages/sklearn/svm/base.py:929: ConvergenceWarning: Liblinear failed to converge, increase the number of iterations.\n",
      "  \"the number of iterations.\", ConvergenceWarning)\n",
      "/usr/local/lib/python3.7/site-packages/sklearn/ensemble/forest.py:245: FutureWarning: The default value of n_estimators will change from 10 in version 0.20 to 100 in 0.22.\n",
      "  \"10 in version 0.20 to 100 in 0.22.\", FutureWarning)\n"
     ]
    },
    {
     "name": "stdout",
     "output_type": "stream",
     "text": [
      "VotingClassifier accuracy is  0.9316688567674113\n",
      "VotingClassifier auc is  0.8973492587353974\n"
     ]
    }
   ],
   "source": [
    "# 三个基学习器\n",
    "log_clf = LogisticRegression() \n",
    "rf_clf = RandomForestClassifier()\n",
    "svm_clf = SVC(probability=True)\n",
    "clf_xgb = XGBClassifier(objective='binary:logistic')\n",
    "\n",
    "# 投票分类器，不同的基分类器\n",
    "voting_clf1 = VotingClassifier( estimators=[(\"lr\", log_clf), (\"rf\", rf_clf), (\"svc\", svm_clf)], voting='soft' )\n",
    "voting_clf2 = VotingClassifier( estimators=[(\"lr\", log_clf), (\"rf\", rf_clf), (\"svc\", svm_clf), (\"xgb\", clf_xgb)], voting='soft' )\n",
    "voting_clf3 = VotingClassifier( estimators=[(\"lr\", log_clf), (\"rf\", rf_clf), (\"xgb\", clf_xgb)], voting='soft' )\n",
    "\n",
    "# 假正率、真正率\n",
    "L1 = []\n",
    "L2 = []\n",
    "\n",
    "for clf in (voting_clf1,voting_clf2, voting_clf3):\n",
    "    clf.fit( X_train, y_train )\n",
    "    y_pred = clf.predict( X_test )\n",
    "    print(clf.__class__.__name__,'accuracy is ', accuracy_score(y_test, y_pred) )\n",
    "    \n",
    "    y_score = clf.predict_proba(X_test)[:, 1]   \n",
    "    print(clf.__class__.__name__, 'auc is ', roc_auc_score(y_test,y_score))\n",
    "    \n",
    "    L1.append(roc_curve(y_test, y_score)[0])\n",
    "    L2.append(roc_curve(y_test, y_score)[1])"
   ]
  },
  {
   "cell_type": "code",
   "execution_count": 6,
   "metadata": {},
   "outputs": [
    {
     "data": {
      "image/png": "[encoded data removed]",
      "text/plain": [
       "<Figure size 432x288 with 1 Axes>"
      ]
     },
     "metadata": {
      "needs_background": "light"
     },
     "output_type": "display_data"
    }
   ],
   "source": [
    "plt.plot(L1[0], L2[0], marker = 'o') \n",
    "plt.plot(L1[1], L2[1], marker = '*') \n",
    "plt.plot(L1[2], L2[2], marker = '*') \n",
    "plt.show()"
   ]
  },
  {
   "cell_type": "markdown",
   "metadata": {},
   "source": [
    "The selection of base model will affect the effect of voting model, and it is difficult to determine which base model can make voting model achieve good effect, which needs to be tested in the experiment."
   ]
  },
  {
   "cell_type": "code",
   "execution_count": 7,
   "metadata": {},
   "outputs": [
    {
     "name": "stderr",
     "output_type": "stream",
     "text": [
      "/usr/local/lib/python3.7/site-packages/sklearn/linear_model/logistic.py:432: FutureWarning: Default solver will be changed to 'lbfgs' in 0.22. Specify a solver to silence this warning.\n",
      "  FutureWarning)\n",
      "/usr/local/lib/python3.7/site-packages/sklearn/svm/base.py:929: ConvergenceWarning: Liblinear failed to converge, increase the number of iterations.\n",
      "  \"the number of iterations.\", ConvergenceWarning)\n",
      "/usr/local/lib/python3.7/site-packages/sklearn/linear_model/logistic.py:432: FutureWarning: Default solver will be changed to 'lbfgs' in 0.22. Specify a solver to silence this warning.\n",
      "  FutureWarning)\n",
      "/usr/local/lib/python3.7/site-packages/sklearn/svm/base.py:929: ConvergenceWarning: Liblinear failed to converge, increase the number of iterations.\n",
      "  \"the number of iterations.\", ConvergenceWarning)\n",
      "/usr/local/lib/python3.7/site-packages/sklearn/linear_model/logistic.py:432: FutureWarning: Default solver will be changed to 'lbfgs' in 0.22. Specify a solver to silence this warning.\n",
      "  FutureWarning)\n",
      "/usr/local/lib/python3.7/site-packages/sklearn/svm/base.py:929: ConvergenceWarning: Liblinear failed to converge, increase the number of iterations.\n",
      "  \"the number of iterations.\", ConvergenceWarning)\n",
      "/usr/local/lib/python3.7/site-packages/sklearn/linear_model/logistic.py:432: FutureWarning: Default solver will be changed to 'lbfgs' in 0.22. Specify a solver to silence this warning.\n",
      "  FutureWarning)\n"
     ]
    },
    {
     "name": "stdout",
     "output_type": "stream",
     "text": [
      "VotingClassifier accuracy is  0.9250985545335085\n",
      "VotingClassifier auc is  0.6707004033736708\n"
     ]
    },
    {
     "name": "stderr",
     "output_type": "stream",
     "text": [
      "/usr/local/lib/python3.7/site-packages/sklearn/svm/base.py:929: ConvergenceWarning: Liblinear failed to converge, increase the number of iterations.\n",
      "  \"the number of iterations.\", ConvergenceWarning)\n",
      "/usr/local/lib/python3.7/site-packages/sklearn/linear_model/logistic.py:432: FutureWarning: Default solver will be changed to 'lbfgs' in 0.22. Specify a solver to silence this warning.\n",
      "  FutureWarning)\n",
      "/usr/local/lib/python3.7/site-packages/sklearn/svm/base.py:929: ConvergenceWarning: Liblinear failed to converge, increase the number of iterations.\n",
      "  \"the number of iterations.\", ConvergenceWarning)\n",
      "/usr/local/lib/python3.7/site-packages/sklearn/linear_model/logistic.py:432: FutureWarning: Default solver will be changed to 'lbfgs' in 0.22. Specify a solver to silence this warning.\n",
      "  FutureWarning)\n",
      "/usr/local/lib/python3.7/site-packages/sklearn/svm/base.py:929: ConvergenceWarning: Liblinear failed to converge, increase the number of iterations.\n",
      "  \"the number of iterations.\", ConvergenceWarning)\n",
      "/usr/local/lib/python3.7/site-packages/sklearn/linear_model/logistic.py:432: FutureWarning: Default solver will be changed to 'lbfgs' in 0.22. Specify a solver to silence this warning.\n",
      "  FutureWarning)\n"
     ]
    },
    {
     "name": "stdout",
     "output_type": "stream",
     "text": [
      "VotingClassifier accuracy is  0.9250985545335085\n",
      "VotingClassifier auc is  0.6751008434176751\n"
     ]
    },
    {
     "name": "stderr",
     "output_type": "stream",
     "text": [
      "/usr/local/lib/python3.7/site-packages/sklearn/svm/base.py:929: ConvergenceWarning: Liblinear failed to converge, increase the number of iterations.\n",
      "  \"the number of iterations.\", ConvergenceWarning)\n",
      "/usr/local/lib/python3.7/site-packages/sklearn/linear_model/logistic.py:432: FutureWarning: Default solver will be changed to 'lbfgs' in 0.22. Specify a solver to silence this warning.\n",
      "  FutureWarning)\n",
      "/usr/local/lib/python3.7/site-packages/sklearn/svm/base.py:929: ConvergenceWarning: Liblinear failed to converge, increase the number of iterations.\n",
      "  \"the number of iterations.\", ConvergenceWarning)\n",
      "/usr/local/lib/python3.7/site-packages/sklearn/linear_model/logistic.py:432: FutureWarning: Default solver will be changed to 'lbfgs' in 0.22. Specify a solver to silence this warning.\n",
      "  FutureWarning)\n"
     ]
    },
    {
     "name": "stdout",
     "output_type": "stream",
     "text": [
      "VotingClassifier accuracy is  0.9250985545335085\n",
      "VotingClassifier auc is  0.6708837550421709\n"
     ]
    },
    {
     "name": "stderr",
     "output_type": "stream",
     "text": [
      "/usr/local/lib/python3.7/site-packages/sklearn/svm/base.py:929: ConvergenceWarning: Liblinear failed to converge, increase the number of iterations.\n",
      "  \"the number of iterations.\", ConvergenceWarning)\n"
     ]
    }
   ],
   "source": [
    "# 三个基学习器\n",
    "log_clf1 = LogisticRegression(penalty='l2')\n",
    "log_clf2 = LogisticRegression(penalty='l1')\n",
    "log_clf3 = LogisticRegression(C=0.1)\n",
    "log_clf4 = LogisticRegression(C=0.01)\n",
    "\n",
    "\n",
    "# 投票分类器，基分类器一样，只是参数不一样\n",
    "voting_clf1 = VotingClassifier( estimators=[(\"lr1\", log_clf1),(\"lr2\", log_clf2),(\"lr3\", log_clf3) ], voting='soft' )\n",
    "voting_clf2 = VotingClassifier( estimators=[(\"lr1\", log_clf2),(\"lr2\", log_clf3),(\"lr3\", log_clf4) ], voting='soft' )\n",
    "voting_clf3 = VotingClassifier( estimators=[(\"lr1\", log_clf3),(\"lr2\", log_clf4),(\"lr3\", log_clf1) ], voting='soft' )\n",
    "\n",
    "# 假正率、真正率\n",
    "L1 = []\n",
    "L2 = []\n",
    "\n",
    "for clf in (voting_clf1,voting_clf2, voting_clf3):\n",
    "    clf.fit( X_train, y_train )\n",
    "    y_pred = clf.predict( X_test )\n",
    "    print(clf.__class__.__name__,'accuracy is ', accuracy_score(y_test, y_pred) )\n",
    "    \n",
    "    y_score = clf.predict_proba(X_test)[:, 1]   \n",
    "    print(clf.__class__.__name__, 'auc is ', roc_auc_score(y_test,y_score))\n",
    "    \n",
    "    L1.append(roc_curve(y_test, y_score)[0])\n",
    "    L2.append(roc_curve(y_test, y_score)[1])"
   ]
  },
  {
   "cell_type": "code",
   "execution_count": 8,
   "metadata": {},
   "outputs": [
    {
     "data": {
      "image/png": "[encoded data removed]",
      "text/plain": [
       "<Figure size 432x288 with 1 Axes>"
      ]
     },
     "metadata": {
      "needs_background": "light"
     },
     "output_type": "display_data"
    }
   ],
   "source": [
    "plt.plot(L1[0], L2[0], marker = 'o') \n",
    "plt.plot(L1[1], L2[1], marker = '*') \n",
    "plt.plot(L1[2], L2[2], marker = '*') \n",
    "plt.show()"
   ]
  },
  {
   "cell_type": "markdown",
   "metadata": {},
   "source": [
    "It can be concluded from the above experiment that the change of base model parameters has little effect on the effect of voting model.The effect of the voting model is poor, because the base model is the same model with different parameters and insufficient diversity."
   ]
  },
  {
   "cell_type": "markdown",
   "metadata": {},
   "source": [
    "# Defferent train/test data split ratio"
   ]
  },
  {
   "cell_type": "code",
   "execution_count": 9,
   "metadata": {},
   "outputs": [
    {
     "name": "stderr",
     "output_type": "stream",
     "text": [
      "/usr/local/lib/python3.7/site-packages/sklearn/linear_model/logistic.py:432: FutureWarning: Default solver will be changed to 'lbfgs' in 0.22. Specify a solver to silence this warning.\n",
      "  FutureWarning)\n",
      "/usr/local/lib/python3.7/site-packages/sklearn/svm/base.py:929: ConvergenceWarning: Liblinear failed to converge, increase the number of iterations.\n",
      "  \"the number of iterations.\", ConvergenceWarning)\n",
      "/usr/local/lib/python3.7/site-packages/sklearn/ensemble/forest.py:245: FutureWarning: The default value of n_estimators will change from 10 in version 0.20 to 100 in 0.22.\n",
      "  \"10 in version 0.20 to 100 in 0.22.\", FutureWarning)\n",
      "/usr/local/lib/python3.7/site-packages/sklearn/svm/base.py:193: FutureWarning: The default value of gamma will change from 'auto' to 'scale' in version 0.22 to account better for unscaled features. Set gamma explicitly to 'auto' or 'scale' to avoid this warning.\n",
      "  \"avoid this warning.\", FutureWarning)\n"
     ]
    },
    {
     "name": "stdout",
     "output_type": "stream",
     "text": [
      "test size is 0.2 accuracy is  0.9329388560157791\n",
      "test size is 0.2 auc is  0.647618455415993\n"
     ]
    },
    {
     "name": "stderr",
     "output_type": "stream",
     "text": [
      "/usr/local/lib/python3.7/site-packages/sklearn/linear_model/logistic.py:432: FutureWarning: Default solver will be changed to 'lbfgs' in 0.22. Specify a solver to silence this warning.\n",
      "  FutureWarning)\n",
      "/usr/local/lib/python3.7/site-packages/sklearn/svm/base.py:929: ConvergenceWarning: Liblinear failed to converge, increase the number of iterations.\n",
      "  \"the number of iterations.\", ConvergenceWarning)\n",
      "/usr/local/lib/python3.7/site-packages/sklearn/ensemble/forest.py:245: FutureWarning: The default value of n_estimators will change from 10 in version 0.20 to 100 in 0.22.\n",
      "  \"10 in version 0.20 to 100 in 0.22.\", FutureWarning)\n",
      "/usr/local/lib/python3.7/site-packages/sklearn/svm/base.py:193: FutureWarning: The default value of gamma will change from 'auto' to 'scale' in version 0.22 to account better for unscaled features. Set gamma explicitly to 'auto' or 'scale' to avoid this warning.\n",
      "  \"avoid this warning.\", FutureWarning)\n"
     ]
    },
    {
     "name": "stdout",
     "output_type": "stream",
     "text": [
      "test size is 0.3 accuracy is  0.9290407358738502\n",
      "test size is 0.3 auc is  0.6708837550421709\n"
     ]
    },
    {
     "name": "stderr",
     "output_type": "stream",
     "text": [
      "/usr/local/lib/python3.7/site-packages/sklearn/linear_model/logistic.py:432: FutureWarning: Default solver will be changed to 'lbfgs' in 0.22. Specify a solver to silence this warning.\n",
      "  FutureWarning)\n",
      "/usr/local/lib/python3.7/site-packages/sklearn/svm/base.py:929: ConvergenceWarning: Liblinear failed to converge, increase the number of iterations.\n",
      "  \"the number of iterations.\", ConvergenceWarning)\n",
      "/usr/local/lib/python3.7/site-packages/sklearn/ensemble/forest.py:245: FutureWarning: The default value of n_estimators will change from 10 in version 0.20 to 100 in 0.22.\n",
      "  \"10 in version 0.20 to 100 in 0.22.\", FutureWarning)\n",
      "/usr/local/lib/python3.7/site-packages/sklearn/svm/base.py:193: FutureWarning: The default value of gamma will change from 'auto' to 'scale' in version 0.22 to account better for unscaled features. Set gamma explicitly to 'auto' or 'scale' to avoid this warning.\n",
      "  \"avoid this warning.\", FutureWarning)\n"
     ]
    },
    {
     "name": "stdout",
     "output_type": "stream",
     "text": [
      "test size is 0.4 accuracy is  0.9289940828402367\n",
      "test size is 0.4 auc is  0.6840941259731069\n"
     ]
    },
    {
     "name": "stderr",
     "output_type": "stream",
     "text": [
      "/usr/local/lib/python3.7/site-packages/sklearn/linear_model/logistic.py:432: FutureWarning: Default solver will be changed to 'lbfgs' in 0.22. Specify a solver to silence this warning.\n",
      "  FutureWarning)\n",
      "/usr/local/lib/python3.7/site-packages/sklearn/svm/base.py:929: ConvergenceWarning: Liblinear failed to converge, increase the number of iterations.\n",
      "  \"the number of iterations.\", ConvergenceWarning)\n",
      "/usr/local/lib/python3.7/site-packages/sklearn/ensemble/forest.py:245: FutureWarning: The default value of n_estimators will change from 10 in version 0.20 to 100 in 0.22.\n",
      "  \"10 in version 0.20 to 100 in 0.22.\", FutureWarning)\n",
      "/usr/local/lib/python3.7/site-packages/sklearn/svm/base.py:193: FutureWarning: The default value of gamma will change from 'auto' to 'scale' in version 0.22 to account better for unscaled features. Set gamma explicitly to 'auto' or 'scale' to avoid this warning.\n",
      "  \"avoid this warning.\", FutureWarning)\n"
     ]
    },
    {
     "name": "stdout",
     "output_type": "stream",
     "text": [
      "test size is 0.5 accuracy is  0.930544593528019\n",
      "test size is 0.5 auc is  0.6995431413370345\n"
     ]
    }
   ],
   "source": [
    "log_clf = LogisticRegression()\n",
    "rf_clf = RandomForestClassifier()\n",
    "svm_clf = SVC(probability=True)\n",
    "\n",
    "# 投票分类器\n",
    "voting_clf = VotingClassifier( estimators=[(\"lr\", log_clf), (\"rf\", rf_clf), (\"svc\", svm_clf)], voting='soft' )\n",
    "\n",
    "# 假正率、真正率\n",
    "L1 = []\n",
    "L2 = []\n",
    "\n",
    "# 比较不同数据划分比例对投票分类器最终效果的影响\n",
    "for test_size in [0.2, 0.3, 0.4, 0.5]:\n",
    "    X_train, X_test, y_train, y_test = train_test_split(\\\n",
    "                        data, label, test_size=test_size, random_state=22)\n",
    "    voting_clf.fit( X_train, y_train )\n",
    "    \n",
    "    y_pred = voting_clf.predict( X_test )\n",
    "    print('test size is', test_size, 'accuracy is ', accuracy_score(y_test, y_pred) )\n",
    "    \n",
    "    y_score = clf.predict_proba(X_test)[:, 1]   \n",
    "    print('test size is', test_size, 'auc is ', roc_auc_score(y_test,y_score))\n",
    "    \n",
    "    L1.append(roc_curve(y_test, y_score)[0])\n",
    "    L2.append(roc_curve(y_test, y_score)[1])"
   ]
  },
  {
   "cell_type": "code",
   "execution_count": 10,
   "metadata": {},
   "outputs": [
    {
     "data": {
      "image/png": "[encoded data removed]",
      "text/plain": [
       "<Figure size 432x288 with 1 Axes>"
      ]
     },
     "metadata": {
      "needs_background": "light"
     },
     "output_type": "display_data"
    }
   ],
   "source": [
    "plt.plot(L1[0], L2[0], marker = 'o') \n",
    "plt.plot(L1[1], L2[1], marker = '*') \n",
    "plt.plot(L1[2], L2[2], marker = '^') \n",
    "plt.plot(L1[3], L2[3], marker = 'o') \n",
    "plt.show()"
   ]
  },
  {
   "cell_type": "markdown",
   "metadata": {},
   "source": [
    "It can be seen from the above experiment that when test_size increases, both accuracy and AUC increase, indicating that different proportions of training set and test set will affect the effect of the final model.\n",
    "\n"
   ]
  },
  {
   "cell_type": "code",
   "execution_count": null,
   "metadata": {},
   "outputs": [],
   "source": []
  }
 ],
 "metadata": {
  "kernelspec": {
   "display_name": "Python 3",
   "language": "python",
   "name": "python3"
  },
  "language_info": {
   "codemirror_mode": {
    "name": "ipython",
    "version": 3
   },
   "file_extension": ".py",
   "mimetype": "text/x-python",
   "name": "python",
   "nbconvert_exporter": "python",
   "pygments_lexer": "ipython3",
   "version": "3.7.3"
  }
 },
 "nbformat": 4,
 "nbformat_minor": 2
}
